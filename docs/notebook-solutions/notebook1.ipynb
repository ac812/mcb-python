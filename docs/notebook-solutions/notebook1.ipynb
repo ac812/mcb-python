{
 "cells": [
  {
   "cell_type": "markdown",
   "source": [
    "# 1,500 scientists lift the lid on reproducibility\n",
    "\n",
    "## Survey sheds light on the 'crisis' rocking research.\n",
    "### by Mona Baker\n",
    "\n",
    "**More than 70% of researchers have tried and failed to reproduce another scientist's experiments**, and more than half have failed to reproduce their own experiments. Those are some of the telling figures that emerged from *Nature*'s survey of 1,576 researchers who took a brief online questionnaire on reproducibility in research.\n",
    "\n",
    "The data reveal sometimes-contradictory attitudes towards reproducibility. Although 52% of those surveyed agree that there is a significant crisis of reproducibility, less than 31% think that failure to reproduce published results means that the result is probably wrong, and most say that they still trust the published literature.\n"
   ],
   "metadata": {
    "collapsed": false
   },
   "id": "6ab5e34d03d3ba22"
  }
 ],
 "metadata": {
  "kernelspec": {
   "display_name": "Python 3",
   "language": "python",
   "name": "python3"
  },
  "language_info": {
   "codemirror_mode": {
    "name": "ipython",
    "version": 2
   },
   "file_extension": ".py",
   "mimetype": "text/x-python",
   "name": "python",
   "nbconvert_exporter": "python",
   "pygments_lexer": "ipython2",
   "version": "2.7.6"
  }
 },
 "nbformat": 4,
 "nbformat_minor": 5
}
