{
 "cells": [
  {
   "cell_type": "markdown",
   "id": "039680ad",
   "metadata": {},
   "source": [
    "# Coupon Collector's Problem\n",
    "\n",
    "*This section was adapted from Professor Nik Cunniffe's MCB Notes.  If you would like to refer to the material in this section,\n",
    "please cite as follows:*\n",
    "\n",
    "*Cunniffe,Nik (2022), Mathematical and Computational Biology Course Notes and Lectures*\n",
    "\n",
    "\n",
    "In this section we will be going over the Coupon Collector's Problem:\n",
    "\n",
    "There are $n$ different types of coupons. You start with no coupons at all, but every day you are given a new\n",
    "coupon at random. It might already be in your collection, or it might be of a type you do not yet have. The\n",
    "quantity of interest is, $C(n)$, the number of days it takes to collect the full set of $n$ coupons.\n",
    "\n",
    "Let us see how we can write this as a Python program."
   ]
  },
  {
   "cell_type": "code",
   "execution_count": 1,
   "id": "01d03a43",
   "metadata": {},
   "outputs": [
    {
     "name": "stdout",
     "output_type": "stream",
     "text": [
      "Estimated C(100) = 513.95 (200 replicate runs)\n"
     ]
    }
   ],
   "source": [
    "import numpy as np\n",
    "\n",
    "def coupon_collector(n):\n",
    "    \"\"\"\n",
    "    This function performs the coupon collector's problem to collect n coupons.\n",
    "    :param n: Number of coupons to collect.\n",
    "    :return: The number of trials made until all the coupons have been collected.\n",
    "    \"\"\"\n",
    "    n_remaining = n  # this variable holds the number of remaining coupons to be collected.\n",
    "    trials = 0  # the variable holds the number of current iterations or trials done.\n",
    "    # initialise a list of size n with False, each item in the list to represent whether the respective coupon has been\n",
    "    # collected (True) or not (False)\n",
    "    coupon_collected = np.full(n, False)\n",
    "    # repeat until the number of remaining coupons to be collected is 0.\n",
    "    while n_remaining > 0:\n",
    "        # generate a random number from 0 to n (excluded)\n",
    "        coupon_n = rng.integers(low=0, high=n)\n",
    "        # if current coupon has not been collected before:\n",
    "        #   collect coupon\n",
    "        #   and reduce the number of coupons to be collected by 1\n",
    "        if not coupon_collected[coupon_n]:\n",
    "            coupon_collected[coupon_n] = True\n",
    "            n_remaining = n_remaining - 1\n",
    "        # increase the number of trial by 1\n",
    "        trials = trials + 1\n",
    "    # the function will stop when the number of coupons left to be collected is zero\n",
    "    return trials\n",
    "\n",
    "\n",
    "# set up random number generator with seed\n",
    "seed = 62354124\n",
    "rng = np.random.default_rng(seed)\n",
    "# perform 200 simulations of the coupon collector problem\n",
    "iterations = 200\n",
    "# number of coupons to collect is 100 (n)\n",
    "coupons = 100\n",
    "# initialise an array of zeros - 1 item for each coupon collector simulation\n",
    "c = np.zeros(iterations)\n",
    "\n",
    "# perform simulations:  in each iteration save the number of trials made to collect all coupons.\n",
    "for i in range(iterations):\n",
    "    c[i] = coupon_collector(coupons)\n",
    "\n",
    "# the expectation on C(n) is the average of all simulations\n",
    "print(f\"Estimated C({coupons}) = {np.average(c):.2f} ({iterations} replicate runs)\")"
   ]
  },
  {
   "cell_type": "markdown",
   "id": "fbf7ab38",
   "metadata": {},
   "source": [
    "The main point of Monte Carlo method is that when there is something probabilistic that we cannot predict (like the time to collect the whole set\n",
    "of coupons), we need to do a lot of simulations to make sure that we get a close enough accurate estimation.  To do this,\n",
    "in the example below we repeat simulations as done above a few times (300 times in the example below).  \n",
    "\n",
    "\n",
    "```\n",
    "import matplotlib.pyplot as plt\n",
    "\n",
    "repeats = 100  # repeat simulations 150 times\n",
    "c_repeats = np.empty(repeats)  # this array will contain the expected number of trials to collect all coupons for each repeated simulation\n",
    "\n",
    "\n",
    "for j in range(repeats):\n",
    "    # print every 10 steps, just as reassurance that something is happening while you wait!\n",
    "    if j % 10 == 0:\n",
    "        print(f\"Doing small test run {j}\")\n",
    "\n",
    "    c = np.zeros(iterations)\n",
    "    for i in range(iterations):\n",
    "        c[i] = coupon_collector(coupons)\n",
    "\n",
    "    c_repeats[j] = np.average(c)\n",
    "\n",
    "# plot the simulations in a plot to check distribution\n",
    "figure, axis = plt.subplots(2,2)\n",
    "\n",
    "axis[0,0].hist(c_repeats[0:10])\n",
    "axis[0,0].set_title(\"10 repeated simulations\")\n",
    "axis[0,1].hist(c_repeats[0:25])\n",
    "axis[0,1].set_title(\"50 repeated simulations\")\n",
    "axis[1,0].hist(c_repeats[0:50])\n",
    "axis[1,0].set_title(\"100 repeated simulations\")\n",
    "axis[1,1].hist(c_repeats)\n",
    "axis[1,1].set_title(\"150 repeated simulations\")\n",
    "\n",
    "#use this to remove overlap of title with axis\n",
    "figure.tight_layout()\n",
    "\n",
    "plt.show()\n",
    "```\n",
    "\n",
    "\n",
    "```{image} output/coupon-collector.jpg\n",
    ":align: center\n",
    "```\n",
    "\n",
    "In the plot generated above we can see that the larger the number of repeated simulations, the sample distribution becomes \n",
    "close to that of a normal distribution.  This is in line with the central limit theorem."
   ]
  }
 ],
 "metadata": {
  "jupytext": {
   "formats": "md:myst",
   "text_representation": {
    "extension": ".md",
    "format_name": "myst"
   }
  },
  "kernelspec": {
   "display_name": "Python 3",
   "language": "python",
   "name": "python3"
  },
  "language_info": {
   "codemirror_mode": {
    "name": "ipython",
    "version": 3
   },
   "file_extension": ".py",
   "mimetype": "text/x-python",
   "name": "python",
   "nbconvert_exporter": "python",
   "pygments_lexer": "ipython3",
   "version": "3.10.4"
  },
  "source_map": [
   11,
   29,
   75
  ]
 },
 "nbformat": 4,
 "nbformat_minor": 5
}