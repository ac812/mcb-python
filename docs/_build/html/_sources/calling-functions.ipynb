{
 "cells": [
  {
   "cell_type": "markdown",
   "id": "ee49d946",
   "metadata": {},
   "source": [
    "# Calling functions\n",
    "\n",
    ":::{card} Functions\n",
    ":class-card: sd-bg-light\n",
    "\n",
    "{bdg-info}`Programming concept`\n",
    "\n",
    "Functions are a defined chunk of code which carries out a specific task or function. \n",
    ":::\n",
    "\n",
    "We have come across a few functions already *e.g.,* `print()`. Function names are always followed by parentheses and are \n",
    "called in the following way *`function_name(argument1, argument2, ...)`*. They take an **input**, also known as an \n",
    "**argument** (or arguments, if more than one) and after processing it **returns an output**.  One can think of a function \n",
    "as a black box, where an input is fed in, the code inside the function will process it, and a processed output is returned. \n",
    "This process is shown in {numref}`function` below.\n",
    "\n",
    "```{figure} images/function.png\n",
    "---\n",
    "name: function\n",
    "---\n",
    "A shows the different components of a function.  B shows an example of the function `abs()`.\n",
    "```\n",
    "\n",
    "In the example above, we see an example with the built-in function `abs()` which returns the absolute value of a number. \n",
    "It takes as an input, -20, (the argument), and returns the processed output, 20.  A list of built-in functions in \n",
    "Python can be found [here](https://docs.python.org/3/library/functions.html).  We will also be looking at how we can \n",
    "create functions later on.  \n",
    "\n",
    "\n",
    "# Help\n",
    "The best place to find help in Python is using the [Python documentation](https://docs.python.org/3/) which contains \n",
    "information about the Python syntax and about its functions and libraries.  It also contains a tutorial and other user \n",
    "guides. The Python documentation is especially helpful when you are not familiar with a function, and so you would like to \n",
    "understand how to use it. \n",
    "\n",
    "```{figure} images/python-doc.tif\n",
    ":width: 70%\n",
    ":name: python-doc\n",
    "\n",
    "Searching the Python documentation for the `abs()` function.\n",
    "```\n",
    "\n",
    "In the example above in {numref}`python-doc`, we would like to understand how to use the function `abs()`.  We first search for the `abs` function \n",
    "in the Python document *(panel A)*.  This returns a list of results.  The first item in the results returned is what we are looking \n",
    "for as it says that `abs` is a built-in function *(panel B)*.  Upon clicking on that link we are redirected to the Python documentation\n",
    "about `abs()` *(panel C)* which provides more information about that function.  Note that in the documentation it is defined as \n",
    "`abs(x)`.  `x` here is a **parameter**, which essentially means that it is a variable in the function definition.  This should be \n",
    "distinguished from an argument which is the actual value passed to a function (in `abs(-20)` -20 is the argument).\n",
    "\n",
    "Another way to get help on functions is via the `help()` function.  To access this form of help, type `help(abs)` in the \n",
    "console.  This returns a shorter definition of `abs()` but most of the time this is enough.  Essentially you can pass \n",
    "the function you want to know about as an argument to `help()`.\n",
    "\n",
    "If none of these options was not enough to help you understand what you are looking for, there are several Python resources \n",
    "on the internet that might have more information and provide examples.  A simple search sometimes would do the trick!"
   ]
  }
 ],
 "metadata": {
  "jupytext": {
   "formats": "md:myst",
   "text_representation": {
    "extension": ".md",
    "format_name": "myst"
   }
  },
  "kernelspec": {
   "display_name": "Python 3",
   "language": "python",
   "name": "python3"
  },
  "language_info": {
   "codemirror_mode": {
    "name": "ipython",
    "version": 3
   },
   "file_extension": ".py",
   "mimetype": "text/x-python",
   "name": "python",
   "nbconvert_exporter": "python",
   "pygments_lexer": "ipython3",
   "version": "3.10.4"
  },
  "source_map": [
   11
  ]
 },
 "nbformat": 4,
 "nbformat_minor": 5
}