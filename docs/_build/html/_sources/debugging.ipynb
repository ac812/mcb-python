{
 "cells": [
  {
   "cell_type": "markdown",
   "id": "aa6acea0",
   "metadata": {},
   "source": [
    "# Debugging code in PyCharm\n",
    "\n",
    "This process fixing errors in code is known as **debugging**.  A software **bug** in an error in your code that makes your program stop or not run as it should be. \n",
    "Debugging your code can also be useful when you want to understand properly what your code is doing.  PyCharm offers a really useful tool - the **PyCharm debugger**. \n",
    "The PyCharm debugger allows you to execute your code one line at a time, and also help you understand how the values of your variables are changing in memory.\n",
    "\n",
    "To debug your code you must first create a **breakpoint**, by clicking in the gutter in PyCharm:\n",
    "\n",
    "```{figure} images/breakpoint.png\n",
    "---\n",
    "name: breakpoint\n",
    "---\n",
    "A breakpoint on line 7 in PyCharm.\n",
    "```\n",
    "\n",
    "As shown in {numref}`breakpoint`, the red dot, is the breakpoint.  Next, click on the Debug ![](images/debug.png) button.  The code will start executing util it reaches the first breakpoint which essentially \n",
    "pauses the code from executing, allowing you to see the values of the variables at that point.  In \n",
    "the example below, we can see that when the code pauses execution on line 7, `i` has the value of 0, `rows` 5 and `spaces` 4 in the \n",
    "Debug tool window.  These values are also shown inline next to the code (inline debugger).\n",
    "\n",
    "```{figure} images/debug-tool.png\n",
    "---\n",
    "name: debug-tool\n",
    "---\n",
    "Debug tool window in PyCharm\n",
    "```\n",
    "\n",
    "To run one line of code at a time, press the Step Over ![](images/step-over.png) button. This is \n",
    "very useful as it allows you to check what is happening in your code, especially if you are trying to fix an \n",
    "error in your code.  You can put as many breakpoints as you want in your code.  Pressing the Resume Program ![](images/resume-program.png) button \n",
    "will resume execution of program until the next breakpoint is reached.  Pressing the Stop ![](images/stop.png) button will stop execution of your program.\n",
    "\n",
    "````{admonition} Do you know?\n",
    ":class: tip\n",
    "\n",
    "The term **bug** was first used in 1946 by **Grace Hopper**, a computer science pioneer.  A moth was trapped in a relay, which caused a malfunction in the \n",
    "electricalmechanical computer leading eventually to the word \"bug\" to refer to errors in code.\n",
    " \n",
    "```{figure} images/grace-hopper.jpeg\n",
    "Grace Hopper ([Wikipedia](https://commons.wikimedia.org/wiki/File:Grace_Hopper_and_UNIVAC.jpg))\n",
    "```\n",
    "````"
   ]
  }
 ],
 "metadata": {
  "jupytext": {
   "formats": "md:myst",
   "text_representation": {
    "extension": ".md",
    "format_name": "myst"
   }
  },
  "kernelspec": {
   "display_name": "Python 3",
   "language": "python",
   "name": "python3"
  },
  "language_info": {
   "codemirror_mode": {
    "name": "ipython",
    "version": 3
   },
   "file_extension": ".py",
   "mimetype": "text/x-python",
   "name": "python",
   "nbconvert_exporter": "python",
   "pygments_lexer": "ipython3",
   "version": "3.10.4"
  },
  "source_map": [
   11
  ]
 },
 "nbformat": 4,
 "nbformat_minor": 5
}