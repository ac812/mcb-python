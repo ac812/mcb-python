{
 "cells": [
  {
   "cell_type": "markdown",
   "id": "68886a18",
   "metadata": {},
   "source": [
    "# Practical 2 Solutions\n",
    "\n",
    "```{solution-start} exploring-creating-functions\n",
    ":label: exploring-creating-functions-solution\n",
    ":class: dropdown\n",
    "```\n",
    "a."
   ]
  },
  {
   "cell_type": "code",
   "execution_count": 1,
   "id": "d3422a7a",
   "metadata": {},
   "outputs": [
    {
     "name": "stdout",
     "output_type": "stream",
     "text": [
      "None\n"
     ]
    }
   ],
   "source": [
    "def sum_two_numbers(num1, num2):\n",
    "    num1 + num2\n",
    "\n",
    "print(sum_two_numbers(1, 1))"
   ]
  },
  {
   "cell_type": "markdown",
   "id": "39f8cc83",
   "metadata": {},
   "source": [
    "In general, we should always aim to create functions that return a value, as a good programming practice.  However, in Python, a function that does not \n",
    "specify a `return` statement, returns `None`by default.\n",
    "\n",
    "```{solution-end}\n",
    "```\n",
    "\n",
    "```{solution-start} fibonacci-function\n",
    ":label: fibonacci-function-solution\n",
    ":class: dropdown\n",
    "```"
   ]
  },
  {
   "cell_type": "code",
   "execution_count": 2,
   "id": "ed1cb968",
   "metadata": {},
   "outputs": [
    {
     "name": "stdout",
     "output_type": "stream",
     "text": [
      "[0, 1, 1, 2, 3, 5, 8, 13, 21, 34, 55, 89]\n"
     ]
    }
   ],
   "source": [
    "def fibonacci(n):           #1      \n",
    "    fib_seq = []            #2\n",
    "    a, b = 0, 1             #3\n",
    "    while a < n:            #4\n",
    "        fib_seq.append(a)   #5\n",
    "        a, b = b, a+b       #6\n",
    "    return fib_seq          #7\n",
    "                            #8\n",
    "print(fibonacci(100))       #9"
   ]
  },
  {
   "cell_type": "markdown",
   "id": "bed43dfa",
   "metadata": {},
   "source": [
    "Lines 1-7 define the `fibinacci()` function.  In line 2, `fib-seq` is an empty list that be populated in the `while` loop with \n",
    "the Fibonacci sequence.  Instead of printing it, on line 5 we are adding the next item of the Fibonacci sequence to the \n",
    "`fib_seq` list.  Line 7 returns the list.  Line 9 provides 100 as an argument to the `fibonacci()` function and then prints it.\n",
    "\n",
    "```{solution-end}\n",
    "```\n",
    "\n",
    "```{solution-start} create-ndarrays\n",
    ":label: create-ndarrays-solution\n",
    ":class: dropdown\n",
    "```\n",
    "b."
   ]
  },
  {
   "cell_type": "code",
   "execution_count": 3,
   "id": "9e94d7d1",
   "metadata": {},
   "outputs": [
    {
     "name": "stdout",
     "output_type": "stream",
     "text": [
      "Step size of sequence is: 0.05263157894736842\n"
     ]
    }
   ],
   "source": [
    "import numpy as np\n",
    "\n",
    "#retstep=True will also return the step size of the sequence generated\n",
    "np.linspace(0, 1, 20, retstep=True)\n",
    "\n",
    "a, step_size = np.linspace(0,1,20, retstep=True)\n",
    "print(f\"Step size of sequence is: {step_size}\")"
   ]
  },
  {
   "cell_type": "markdown",
   "id": "bf3c6a0d",
   "metadata": {},
   "source": [
    "c."
   ]
  },
  {
   "cell_type": "code",
   "execution_count": 4,
   "id": "fa9f60c4",
   "metadata": {},
   "outputs": [
    {
     "data": {
      "text/plain": [
       "array([0.1, 0.1, 0.1, 0.1, 0.1, 0.1, 0.1, 0.1, 0.1, 0.1])"
      ]
     },
     "execution_count": 4,
     "metadata": {},
     "output_type": "execute_result"
    }
   ],
   "source": [
    "np.full(10, 0.1)"
   ]
  },
  {
   "cell_type": "markdown",
   "id": "5ef10f1e",
   "metadata": {},
   "source": [
    "```{solution-end}\n",
    "```\n",
    "\n",
    "```{solution-start} dtype-ndarrays\n",
    ":label: dtype-ndarrays-solution\n",
    ":class: dropdown\n",
    "```\n",
    "1. `a` is of `dtype` `int64`.  NumPy detected that the values of the list supplied as argument are integers and so it created the `ndarray` with integer data types."
   ]
  },
  {
   "cell_type": "code",
   "execution_count": 5,
   "id": "65ebfcd4",
   "metadata": {},
   "outputs": [
    {
     "data": {
      "text/plain": [
       "dtype('int64')"
      ]
     },
     "execution_count": 5,
     "metadata": {},
     "output_type": "execute_result"
    }
   ],
   "source": [
    "l = [55, 92, 110, 66, 75, 45, 40, 57, 55, 62]\n",
    "a = np.array(l)\n",
    "a.dtype"
   ]
  },
  {
   "cell_type": "markdown",
   "id": "6825f08b",
   "metadata": {},
   "source": [
    "2., `b` is of `dtype` `float64`.  If we look at the documentation of [`np.zeros()`](https://numpy.org/doc/stable/reference/generated/numpy.zeros.html), we notice that it has a keyword argument `dtype=float`.  This means that by default `np.zeros()` creates arrays of `dtype` `float64`."
   ]
  },
  {
   "cell_type": "code",
   "execution_count": 6,
   "id": "63b3e29f",
   "metadata": {},
   "outputs": [
    {
     "data": {
      "text/plain": [
       "dtype('float64')"
      ]
     },
     "execution_count": 6,
     "metadata": {},
     "output_type": "execute_result"
    }
   ],
   "source": [
    "b = np.zeros(3)\n",
    "b.dtype"
   ]
  },
  {
   "cell_type": "markdown",
   "id": "f929c7b7",
   "metadata": {},
   "source": [
    "3.,  `c` is of type `<U3`.  Note that when creating strings NumPy does not use the `str` notation but instead uses a Unicode string. In this case, `U` means unicode and `3` is the length of the largest string in the array."
   ]
  },
  {
   "cell_type": "code",
   "execution_count": 7,
   "id": "92de353f",
   "metadata": {},
   "outputs": [
    {
     "name": "stdout",
     "output_type": "stream",
     "text": [
      "['55' '92' '110' '66' '75' '45' '40' '57' '55' '62']\n"
     ]
    },
    {
     "data": {
      "text/plain": [
       "dtype('<U3')"
      ]
     },
     "execution_count": 7,
     "metadata": {},
     "output_type": "execute_result"
    }
   ],
   "source": [
    "c = np.array(l, dtype=str)\n",
    "print(c)\n",
    "c.dtype"
   ]
  },
  {
   "cell_type": "markdown",
   "id": "e4e51e7c",
   "metadata": {},
   "source": [
    "```{solution-end}\n",
    "```\n",
    "\n",
    "```{solution-start} ndarrays-manip-exercise\n",
    ":label: ndarrays-manip-exercise-solution\n",
    ":class: dropdown\n",
    "```\n",
    "1. Note: NumPy array `a` is not changed, the methods return a new NumPy array object with the change requested.  \n",
    "2.  The `np.flip()` function reverses the elements of a NumPy array."
   ]
  },
  {
   "cell_type": "code",
   "execution_count": 8,
   "id": "d061264d",
   "metadata": {},
   "outputs": [
    {
     "data": {
      "text/plain": [
       "array([110,  92,  75,  66,  62,  57,  55,  55,  45,  40])"
      ]
     },
     "execution_count": 8,
     "metadata": {},
     "output_type": "execute_result"
    }
   ],
   "source": [
    "np.flip(np.sort(a))"
   ]
  },
  {
   "cell_type": "markdown",
   "id": "36595c52",
   "metadata": {},
   "source": [
    "3.1."
   ]
  },
  {
   "cell_type": "code",
   "execution_count": 9,
   "id": "46d68a27",
   "metadata": {},
   "outputs": [
    {
     "name": "stdout",
     "output_type": "stream",
     "text": [
      "[0 1 2 3 4 5 7 8 9]\n",
      "[1 1 2 1 2 2 1 1 3]\n"
     ]
    }
   ],
   "source": [
    "b = np.array([9, 3, 9, 8, 9, 4, 2, 0, 2, 5, 4, 7, 5, 1])\n",
    "\n",
    "#get the frequency of each value in the array\n",
    "unique, count = np.unique(b, return_counts=True) \n",
    "# unique values \n",
    "print(unique)\n",
    "# frequency of these unique values \n",
    "print(count)"
   ]
  },
  {
   "cell_type": "markdown",
   "id": "221a8f1d",
   "metadata": {},
   "source": [
    "3.2."
   ]
  },
  {
   "cell_type": "code",
   "execution_count": 10,
   "id": "0ce7839e",
   "metadata": {},
   "outputs": [
    {
     "name": "stdout",
     "output_type": "stream",
     "text": [
      "[0 1 2 3 4 5 7 8 9]\n",
      "[ 7 13  6  1  5  9 11  3  0]\n"
     ]
    }
   ],
   "source": [
    "#get the index position of the first occuring unique value\n",
    "unique, indices = np.unique(b, return_index=True)\n",
    "#unique values\n",
    "print(unique)\n",
    "# index positions of first occuring unique values \n",
    "print(indices)"
   ]
  },
  {
   "cell_type": "markdown",
   "id": "51a074b3",
   "metadata": {},
   "source": [
    "```{solution-end}\n",
    "```"
   ]
  }
 ],
 "metadata": {
  "jupytext": {
   "formats": "md:myst",
   "text_representation": {
    "extension": ".md",
    "format_name": "myst"
   }
  },
  "kernelspec": {
   "display_name": "Python 3",
   "language": "python",
   "name": "python3"
  },
  "language_info": {
   "codemirror_mode": {
    "name": "ipython",
    "version": 3
   },
   "file_extension": ".py",
   "mimetype": "text/x-python",
   "name": "python",
   "nbconvert_exporter": "python",
   "pygments_lexer": "ipython3",
   "version": "3.10.4"
  },
  "source_map": [
   11,
   20,
   25,
   36,
   46,
   59,
   67,
   69,
   71,
   80,
   84,
   86,
   89,
   91,
   95,
   106,
   108,
   110,
   119,
   121,
   128
  ]
 },
 "nbformat": 4,
 "nbformat_minor": 5
}