{
 "cells": [
  {
   "cell_type": "markdown",
   "id": "5a56cb57",
   "metadata": {},
   "source": [
    "# Practical 2 Solutions\n",
    "\n",
    "```{solution-start} exploring-creating-functions\n",
    ":label: exploring-creating-functions-solution\n",
    ":class: dropdown\n",
    "```\n",
    "a."
   ]
  },
  {
   "cell_type": "code",
   "execution_count": 1,
   "id": "6faf3876",
   "metadata": {},
   "outputs": [
    {
     "name": "stdout",
     "output_type": "stream",
     "text": [
      "None\n"
     ]
    }
   ],
   "source": [
    "def sum_two_numbers(num1, num2):\n",
    "    num1 + num2\n",
    "\n",
    "print(sum_two_numbers(1, 1))"
   ]
  },
  {
   "cell_type": "markdown",
   "id": "63164aed",
   "metadata": {},
   "source": [
    "In general, we should always aim to create functions that return a value, as a good programming practice.  However, in Python, a function that does not \n",
    "specify a `return` statement, returns `None`by default.\n",
    "\n",
    "```{solution-end}\n",
    "```\n",
    "\n",
    "```{solution-start} fibonacci-function\n",
    ":label: fibonacci-function-solution\n",
    ":class: dropdown\n",
    "```"
   ]
  },
  {
   "cell_type": "code",
   "execution_count": 2,
   "id": "343d90e0",
   "metadata": {},
   "outputs": [
    {
     "name": "stdout",
     "output_type": "stream",
     "text": [
      "[0, 1, 1, 2, 3, 5, 8, 13, 21, 34, 55, 89]\n"
     ]
    }
   ],
   "source": [
    "def fibonacci(n):           #1      \n",
    "    fib_seq = []            #2\n",
    "    a, b = 0, 1             #3\n",
    "    while a < n:            #4\n",
    "        fib_seq.append(a)   #5\n",
    "        a, b = b, a+b       #6\n",
    "    return fib_seq          #7\n",
    "                            #8\n",
    "print(fibonacci(100))       #9"
   ]
  },
  {
   "cell_type": "markdown",
   "id": "cbb846dd",
   "metadata": {},
   "source": [
    "Lines 1-7 define the `fibinacci()` function.  In line 2, `fib-seq` is an empty list that be populated in the `while` loop with \n",
    "the Fibonacci sequence.  Instead of printing it, on line 5 we are adding the next item of the Fibonacci sequence to the \n",
    "`fib_seq` list.  Line 7 returns the list.  Line 9 provides 100 as an argument to the `fibonacci()` function and then prints it.\n",
    "\n",
    "```{solution-end}\n",
    "```"
   ]
  }
 ],
 "metadata": {
  "jupytext": {
   "formats": "md:myst",
   "text_representation": {
    "extension": ".md",
    "format_name": "myst"
   }
  },
  "kernelspec": {
   "display_name": "Python 3",
   "language": "python",
   "name": "python3"
  },
  "language_info": {
   "codemirror_mode": {
    "name": "ipython",
    "version": 3
   },
   "file_extension": ".py",
   "mimetype": "text/x-python",
   "name": "python",
   "nbconvert_exporter": "python",
   "pygments_lexer": "ipython3",
   "version": "3.10.4"
  },
  "source_map": [
   11,
   20,
   25,
   36,
   46
  ]
 },
 "nbformat": 4,
 "nbformat_minor": 5
}