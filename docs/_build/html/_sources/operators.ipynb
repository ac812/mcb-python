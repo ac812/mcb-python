{
 "cells": [
  {
   "cell_type": "markdown",
   "id": "b272e71d",
   "metadata": {},
   "source": [
    "# Comparison and logical operators\n",
    "\n",
    "We have already seen how we can slice or extract items from data structures.  Several data manipulation operations can be\n",
    "done via membership, relational and logical operators which will help us query our data and return a final dataset back\n",
    "that satisfies our conditions.  In this section we will be looking at how these operators can help us with data manipulation.\n",
    "\n",
    "\n",
    "## Comparison operators\n",
    "\n",
    "To compare values we need to use comparison operators, also known as, **relational operators**. {numref}`comparison-operators-table` \n",
    "contains the different comparison operators together with an example.\n",
    "\n",
    "```{list-table} Comparison operators\n",
    ":header-rows: 1\n",
    ":name: comparison-operators-table\n",
    "\n",
    "* - Operator\n",
    "  - Description\n",
    "  - Example\n",
    "* - `<`\n",
    "  - less than\n",
    "  - `19 < 21` returns `True`\n",
    "* - `>`\n",
    "  - greater than\n",
    "  - `19 > 21` returns `False`\n",
    "* - `==`\n",
    "  - equal to\n",
    "  - `19 == 21` returns `False`\n",
    "* - `>=`\n",
    "  - greater or equal to\n",
    "  - `19 >= 21` returns `False`\n",
    "* - `<=`\n",
    "  - less or equal to\n",
    "  - `19 <= 21` returns `True`\n",
    "* - `!=`\n",
    "  - not equal to\n",
    "  - `19 != 21` returns `True`\n",
    "```\n",
    "\n",
    "## Logical operators - `and`, `or`, `not`\n",
    "\n",
    "There are three logical operators in Python: `and`, `or` and `not`.  When the logical operators are processing boolean \n",
    "expressions they are also called **boolean operators**.  Logical operators are used to combine comparison statements or expressions and \n",
    "are written in the following way:\n",
    "  \n",
    "$<comparison$ $statement$ $1>$ <span style=\"color:red\">$<logical$ $operator>$</span> $<comparison$ $statement$ $2>$   \n",
    "  \n",
    "For example, if we want to check if a mark falls within the range of 0 to 100, we can use the following code:\n",
    "\n",
    "(code-reference-and)="
   ]
  },
  {
   "cell_type": "code",
   "execution_count": 1,
   "id": "6153fdb0",
   "metadata": {},
   "outputs": [
    {
     "data": {
      "text/plain": [
       "True"
      ]
     },
     "execution_count": 1,
     "metadata": {},
     "output_type": "execute_result"
    }
   ],
   "source": [
    "#set variable mark to 71\n",
    "mark = 71\n",
    "\n",
    "#check if mark falls between the range of 0 and 100\n",
    "mark > 0 and mark <= 100"
   ]
  },
  {
   "cell_type": "markdown",
   "id": "be113e13",
   "metadata": {},
   "source": [
    "In the code above, `mark > 0` is the comparison statement 1, `and` is the boolean operator and `mark <= 100` is the comparison \n",
    "statement 2.  The tables below shows how comparison statements are processed by boolean operators.\n",
    "\n",
    "```{figure} images/logical.png\n",
    "---\n",
    "name: logical\n",
    "---\n",
    "Evaluation of comparison statements with logical operators\n",
    "```\n",
    "In the tables above, *A* and *B* are the `bool` results of comparison statements 1 and 2 respectively.  The `and` operator is \n",
    "the most stringent, in the sense that, it only evaluates to `True` if both comparison statements *A* and *B* are `True`.  This would \n",
    "be useful when you have a case where you need both conditions to be satisfied, as in the [code example above](code-reference-and). \n",
    "For the `or` operator however, only one comparison statement needs to be `True` for `or` to evaluate to `True`.\n",
    "\n",
    "(code-reference-or)="
   ]
  },
  {
   "cell_type": "code",
   "execution_count": 2,
   "id": "c112bb10",
   "metadata": {},
   "outputs": [
    {
     "data": {
      "text/plain": [
       "True"
      ]
     },
     "execution_count": 2,
     "metadata": {},
     "output_type": "execute_result"
    }
   ],
   "source": [
    "exam_mark = 69\n",
    "project_mark = 85\n",
    "\n",
    "#check if student either got an exam mark that is more than 70 or project mark that is more than 70\n",
    "exam_mark > 70 or project_mark > 70"
   ]
  },
  {
   "cell_type": "markdown",
   "id": "a3fc9039",
   "metadata": {},
   "source": [
    "In the example above, `exam_mark > 70` will evaluate to `False` but `project_mark > 70` will evaluate to `True`.  Given \n",
    "that one of the comparison statements have is `True` than `or` returns `True`.\n",
    "\n",
    "The `not` operator only evaluates one comparison statement, and it simply returns the opposite result. Comparing values \n",
    "is useful, but it gets more useful if we use comparison statements in control flow constructs."
   ]
  }
 ],
 "metadata": {
  "jupytext": {
   "formats": "md:myst",
   "text_representation": {
    "extension": ".md",
    "format_name": "myst"
   }
  },
  "kernelspec": {
   "display_name": "Python 3",
   "language": "python",
   "name": "python3"
  },
  "language_info": {
   "codemirror_mode": {
    "name": "ipython",
    "version": 3
   },
   "file_extension": ".py",
   "mimetype": "text/x-python",
   "name": "python",
   "nbconvert_exporter": "python",
   "pygments_lexer": "ipython3",
   "version": "3.10.4"
  },
  "source_map": [
   11,
   62,
   68,
   84,
   90
  ]
 },
 "nbformat": 4,
 "nbformat_minor": 5
}