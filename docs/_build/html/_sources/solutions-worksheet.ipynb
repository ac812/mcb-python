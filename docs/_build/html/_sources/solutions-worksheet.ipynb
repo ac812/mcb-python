{
 "cells": [
  {
   "cell_type": "markdown",
   "id": "bde0ee3a",
   "metadata": {},
   "source": [
    "# Worksheet 1 Solutions\n",
    "\n",
    "````{solution} running-terminal\n",
    ":label: running-terminal-solution\n",
    "\n",
    "To run *numbers.py* in terminal do:\n",
    "``` \n",
    "python numbers.py\n",
    "```\n",
    "You will then be asked to input a number in the terminal.  Continue entering numbers until you enter -1\n",
    "````\n",
    "\n",
    "```{solution-start} for-words-exercise\n",
    ":label: for-words-exercise-solution\n",
    "```"
   ]
  },
  {
   "cell_type": "code",
   "execution_count": 1,
   "id": "305c9a87",
   "metadata": {},
   "outputs": [
    {
     "name": "stdout",
     "output_type": "stream",
     "text": [
      "0 keep\n",
      "1 calm\n",
      "2 and\n",
      "3 carry\n",
      "4 on\n"
     ]
    }
   ],
   "source": [
    "l = [\"keep\", \"calm\", \"and\", \"carry\", \"on\"]\n",
    "\n",
    "for i in range(len(l)):\n",
    "    print(i, l[i])"
   ]
  },
  {
   "cell_type": "markdown",
   "id": "208775bb",
   "metadata": {},
   "source": [
    "```{solution-end}\n",
    "```\n",
    "\n",
    "```{solution-start} odd-even\n",
    ":label: odd-even-solution\n",
    "```"
   ]
  },
  {
   "cell_type": "code",
   "execution_count": 2,
   "id": "5ecece1b",
   "metadata": {},
   "outputs": [
    {
     "name": "stdout",
     "output_type": "stream",
     "text": [
      "The program has identified 5 even numbers [0, 2, 4, 6, 8]\n",
      "The program has identified 5 odd numbers [1, 3, 5, 7, 9]\n"
     ]
    }
   ],
   "source": [
    "#initialise empty lists\n",
    "even, odd = [], []\n",
    "\n",
    "for i in range(10):          \n",
    "    if i % 2 == 0:           \n",
    "        even.append(i)       \n",
    "        continue             \n",
    "    odd.append(i)            \n",
    "\n",
    "print(f\"The program has identified {len(even)} even numbers {even}\")\n",
    "print(f\"The program has identified {len(odd)} odd numbers {odd}\")"
   ]
  },
  {
   "cell_type": "markdown",
   "id": "3bf0c3a6",
   "metadata": {},
   "source": [
    "```{solution-end}\n",
    "```\n",
    "\n",
    "```{solution-start} calculator\n",
    ":label: calculator-solution\n",
    "```\n",
    "\n",
    "```{code-block}\n",
    "while True:                                         #1\n",
    "   print(\"1. Addition\")                             #2\n",
    "   print(\"2. Subtraction\")                          #3\n",
    "   print(\"3. Exit\")                                 #4\n",
    "   print(\"Choose operation (1-3): \", end=\"\")        #5\n",
    "   opt = int(input())                               #6\n",
    "   if opt>=1 and opt<=2:                            #7\n",
    "      num1 = float(input(\"Enter first number:\"))    #8\n",
    "      num2 = float(input(\"Enter second number:\"))   #9\n",
    "   if opt==1:                                       #10\n",
    "      print(\"Result:\", num1 + num2)                 #11\n",
    "   elif opt==2:                                     #12\n",
    "      print(\"Result:\", num1 - num2)                 #13\n",
    "   elif opt==3:                                     #14\n",
    "      break                                         #15\n",
    "   else:                                            #16\n",
    "      print(\"No option available\")                  #17\n",
    "   print()                                          #18\n",
    "                                                    #19\n",
    "print(\"Thank you, bye!\")                            #20\n",
    "```\n",
    "The first line is an **infinite loop** which means that the loop will iterate forever since \n",
    "`True` is specified instead of a condition.  This will not be the case however, as in the `if` statement we have a `break` in line 15, which \n",
    "stops the loop if the user chooses 3 as an option in the calculator.  Note again the indentation of the code.  The last line is not \n",
    "indented under the loop, so it will run after execution of the loop has finished.  \n",
    "\n",
    "```{solution-end}\n",
    "```\n",
    "\n",
    "\n",
    "```{solution-start} half-pyramid\n",
    ":label: half-pyramid-solution\n",
    "```\n",
    "This is one way of printing a half-pyramid."
   ]
  },
  {
   "cell_type": "code",
   "execution_count": 3,
   "id": "79a517c2",
   "metadata": {},
   "outputs": [
    {
     "name": "stdout",
     "output_type": "stream",
     "text": [
      "* \n",
      "* * \n",
      "* * * \n",
      "* * * * \n",
      "* * * * * \n"
     ]
    }
   ],
   "source": [
    "# this is the outer loop that takes care of rows\n",
    "for i in range(5):\n",
    "    # this is inner loop that handles the number of asterisks to print\n",
    "    for j in range(i+1):\n",
    "        print(\"* \", end=\"\")  #end=\"\" argument makes sure that no newline is printed which is the default - check documetation\n",
    "    # this is so that a newline is printed after the * are printed in each row\n",
    "    # Note: it is not in the inner loop, but it is executed in the outer loop\n",
    "    print()"
   ]
  },
  {
   "cell_type": "markdown",
   "id": "4fbb604b",
   "metadata": {},
   "source": [
    "```{solution-end}\n",
    "```\n",
    "\n",
    "```{solution-start} full-pyramid\n",
    ":label: full-pyramid-solution\n",
    "```\n",
    "Below is one way of printing a full pyramid:"
   ]
  },
  {
   "cell_type": "code",
   "execution_count": 4,
   "id": "c943db03",
   "metadata": {},
   "outputs": [
    {
     "name": "stdout",
     "output_type": "stream",
     "text": [
      "    * \n",
      "   * * \n",
      "  * * * \n",
      " * * * * \n",
      "* * * * * \n"
     ]
    }
   ],
   "source": [
    "rows = 5\n",
    "spaces = rows - 1\n",
    "\n",
    "# outer loop to process rows\n",
    "for i in range(0, rows):\n",
    "    # inner loop to print asteriks\n",
    "    for j in range(0, spaces):\n",
    "        print(end=\" \") \n",
    "\n",
    "    # inner loop to handle number of columns\n",
    "    for j in range(0, i + 1):\n",
    "        # printing stars\n",
    "        print(\"* \", end=\"\")\n",
    "    \n",
    "    spaces = spaces - 1\n",
    "    print()"
   ]
  },
  {
   "cell_type": "markdown",
   "id": "e20975c6",
   "metadata": {},
   "source": [
    "```{solution-end}\n",
    "```"
   ]
  }
 ],
 "metadata": {
  "jupytext": {
   "formats": "md:myst",
   "text_representation": {
    "extension": ".md",
    "format_name": "myst"
   }
  },
  "kernelspec": {
   "display_name": "Python 3",
   "language": "python",
   "name": "python3"
  },
  "language_info": {
   "codemirror_mode": {
    "name": "ipython",
    "version": 3
   },
   "file_extension": ".py",
   "mimetype": "text/x-python",
   "name": "python",
   "nbconvert_exporter": "python",
   "pygments_lexer": "ipython3",
   "version": "3.10.4"
  },
  "source_map": [
   11,
   29,
   34,
   41,
   53,
   97,
   106,
   114,
   131
  ]
 },
 "nbformat": 4,
 "nbformat_minor": 5
}