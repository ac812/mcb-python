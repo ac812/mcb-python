{
 "cells": [
  {
   "cell_type": "markdown",
   "id": "86c8e3ee",
   "metadata": {},
   "source": [
    "# Control flow statements\n",
    "\n",
    "As the name suggests, control flow statements are statements that control the order of which code is executed in a program.\n",
    "In this section we will be looking at different forms of control flow statements.  \n",
    "\n",
    "## `if` statements\n",
    "\n",
    "The `if` statement is used to execute a piece of code based on a condition.  {numref}`if` shows the syntax of the `if` \n",
    "statement together with its representation in a flow chart.  \n",
    "\n",
    "```{figure} images/if.png\n",
    "---\n",
    "name: if\n",
    "---\n",
    "Syntax of `if` statement (*A*) together with a flowchart representation (*B*).\n",
    "```\n",
    "where *expression1* and *expression2* are boolean expressions and *suite1,suite2,suite3* refer to one or more statements. The `elif` and `else` \n",
    "parts of the `if` statement are optional. `elif` is short for \"else if\".  Essentially, if *expression1* evaluates to `True`, \n",
    "the code in the `if` branch is executed (*suite1*), otherwise if *expression2* evaluates to `True`, the code in the `elif` branch \n",
    "is executed (*suite2*), otherwise the code in the `else` branch is executed (*suite3*).\n",
    "\n",
    "(code-reference-marking)="
   ]
  },
  {
   "cell_type": "code",
   "execution_count": 1,
   "id": "5956ea93",
   "metadata": {},
   "outputs": [
    {
     "name": "stdout",
     "output_type": "stream",
     "text": [
      "Second\n"
     ]
    }
   ],
   "source": [
    "total_mark = 50\n",
    "\n",
    "#check which class total_mark falls in and print it\n",
    "if total_mark > 69:\n",
    "    print(\"First\")\n",
    "elif total_mark > 49:\n",
    "    print(\"Second\")\n",
    "elif total_mark > 39:\n",
    "    print(\"Third\")\n",
    "else:\n",
    "    print(\"Fail\")"
   ]
  },
  {
   "cell_type": "markdown",
   "id": "45096952",
   "metadata": {},
   "source": [
    "```{admonition} Note: Code Indentation\n",
    "Python uses indentation to specify blocks of code.  To indent code use **4 spaces** per indentation level (not a tab). PyCharm \n",
    "will indent your code automatically when you press a new line after an `if` statement. Writing the code above without \n",
    "indentation will throw an error.\n",
    "```\n",
    "\n",
    "\n",
    "```{exercise} Month in number\n",
    ":label: month-if\n",
    "\n",
    "**Level:** {octicon}`star-fill;1em;sd-text-warning` {octicon}`star;1em;sd-text-warning` {octicon}`star;1em;sd-text-warning`\n",
    "  \n",
    "Write a program where given a month in number format as an input, it will print that month's name back.  For example, month = 10\n",
    "will print October.\n",
    "```\n",
    "\n",
    "## `match` Statements\n",
    "When you need to compare the value of a variable to several patterns, using `match` statements is more useful. It is \n",
    "more used with string comparisons rather ones since it has to match the values.  The code below is a good example of when \n",
    "it is better to use `match` rather than `if` statements.  The code below prints \"Hello\" in the language you specify."
   ]
  },
  {
   "cell_type": "code",
   "execution_count": 2,
   "id": "799769c3",
   "metadata": {},
   "outputs": [
    {
     "name": "stdout",
     "output_type": "stream",
     "text": [
      "Hello\n"
     ]
    }
   ],
   "source": [
    "language = \"English\"\n",
    "\n",
    "#print hello depending on what language is specified\n",
    "match language:\n",
    "    case \"English\":\n",
    "        print(\"Hello\")\n",
    "    case \"French\":\n",
    "        print(\"Bonjour\")\n",
    "    case \"Italian\":\n",
    "        print(\"Salve\")\n",
    "    case \"Portuguese\":\n",
    "        print(\"Ola\")\n",
    "    case \"Maltese\":\n",
    "        print(\"Bonġu\")\n",
    "    case \"Chinese\":\n",
    "        print(\"Nǐn hǎo\")\n",
    "    case \"Maasai\":\n",
    "        print(\"Sopa\")\n",
    "    case _:\n",
    "        print(\"Language not supported yet\")"
   ]
  },
  {
   "cell_type": "markdown",
   "id": "4d1bd978",
   "metadata": {},
   "source": [
    "The case where there is a match is executed.  The last `case`, `_` is a wildcard, which means that if none of the cases match, \n",
    "that case will be executed.  \n",
    "\n",
    "\n",
    "```{exercise} Month in number v2.\n",
    ":label: month-match\n",
    "\n",
    "**Level:** {octicon}`star-fill;1em;sd-text-warning` {octicon}`star;1em;sd-text-warning` {octicon}`star;1em;sd-text-warning`\n",
    "  \n",
    "Write the same program as {numref}`month-if` but use the `match` statement this time to specify conditions.\n",
    "```\n",
    "\n",
    "So far we have compared single values, what if we want to compare a value to a list?  For example, checking if the `int` values in \n",
    "a list are more than 20."
   ]
  },
  {
   "cell_type": "code",
   "execution_count": 3,
   "id": "c10f342b",
   "metadata": {
    "tags": [
     "raises-exception"
    ]
   },
   "outputs": [
    {
     "ename": "TypeError",
     "evalue": "'>' not supported between instances of 'list' and 'int'",
     "output_type": "error",
     "traceback": [
      "\u001b[0;31m---------------------------------------------------------------------------\u001b[0m",
      "\u001b[0;31mTypeError\u001b[0m                                 Traceback (most recent call last)",
      "Cell \u001b[0;32mIn [3], line 3\u001b[0m\n\u001b[1;32m      1\u001b[0m l \u001b[38;5;241m=\u001b[39m [\u001b[38;5;241m55\u001b[39m, \u001b[38;5;241m92\u001b[39m, \u001b[38;5;241m110\u001b[39m, \u001b[38;5;241m66\u001b[39m, \u001b[38;5;241m75\u001b[39m, \u001b[38;5;241m45\u001b[39m, \u001b[38;5;241m40\u001b[39m, \u001b[38;5;241m57\u001b[39m, \u001b[38;5;241m55\u001b[39m, \u001b[38;5;241m62\u001b[39m]\n\u001b[0;32m----> 3\u001b[0m l \u001b[38;5;241m>\u001b[39m \u001b[38;5;241m20\u001b[39m\n",
      "\u001b[0;31mTypeError\u001b[0m: '>' not supported between instances of 'list' and 'int'"
     ]
    }
   ],
   "source": [
    "l = [55, 92, 110, 66, 75, 45, 40, 57, 55, 62]\n",
    "\n",
    "l > 20"
   ]
  },
  {
   "cell_type": "markdown",
   "id": "08c91dd1",
   "metadata": {},
   "source": [
    "As you can see this will throw an error as this code is trying to compare a `list` object to an `int` object.  What we \n",
    "really want to do is check if the value of each `int` object in list `l` is greater than 20.  In this way, both the left and right-hand \n",
    "side of the comparison operator will be of the same value (`int` in this example).  To do this we have to use loops.\n",
    "\n",
    "## Loops\n",
    "Loops form also part of control flow statements.  They are the tool needed to **repeat** operations until a defined condition \n",
    "is reached.  In the next sections we will look at the `while` and `for` loops.  \n",
    "\n",
    "### `for` loop\n",
    "Python’s `for` statement (or **`for` loop**) iterates over the items of a sequence (*e.g.,* string, tuple, list). \n",
    "{numref}`for` below shows the syntax of a `for` loop together with a flowchart.\n",
    "\n",
    "```{figure} images/for.png\n",
    "---\n",
    "name: for\n",
    "---\n",
    "Syntax of `for` loop (*A*) together with a flowchart representation (*B*)\n",
    "```\n",
    "\n",
    "The way `for` loops work is better explained by the animation below which shows how the code in the left-hand side of \n",
    "the animation is executed.  \n",
    "\n",
    "```{figure} images/for-loop.gif\n",
    "---\n",
    "name: for-loop\n",
    "---\n",
    "Animation demo of `for` loop example \n",
    "```\n",
    "As shown in the animation in {numref}`for-loop`, the `for` loop continues to iterate over each item in list `x` until the end of the list is reached. \n",
    "The value of item `i` in the example code is initialised after each iteration.  This means that the code below will not \n",
    "advance the item to be retrieved from list `x`."
   ]
  },
  {
   "cell_type": "code",
   "execution_count": 4,
   "id": "e90edc1e",
   "metadata": {},
   "outputs": [
    {
     "name": "stdout",
     "output_type": "stream",
     "text": [
      "10\n",
      "20\n",
      "30\n"
     ]
    }
   ],
   "source": [
    "x = [10, 20, 30]\n",
    "\n",
    "for i in x:\n",
    "    print(i)\n",
    "    i = i + 5"
   ]
  },
  {
   "cell_type": "markdown",
   "id": "914e66dc",
   "metadata": {},
   "source": [
    "````{exercise} for loop\n",
    ":label: for-exercise\n",
    "**Level:** {octicon}`star-fill;1em;sd-text-warning` {octicon}`star;1em;sd-text-warning` {octicon}`star;1em;sd-text-warning`\n",
    "\n",
    "Print the following list one word on a new line using a `for` loop.\n",
    "\n",
    "```{code-block}\n",
    "l = [\"keep\", \"calm\", \"and\", \"carry\", \"on\"]\n",
    "````\n",
    "\n",
    "#### `range()` function\n",
    "To repeat an operation for $n$ times, `range()` is very useful, especially if $n$ is a large number.  Range generates numbers \n",
    "in a range.  \n",
    "\n",
    "```{list-table} range() function arguments\n",
    ":header-rows: 1\n",
    ":name: range\n",
    "\n",
    "* - Input\n",
    "  - Description\n",
    "  - Example\n",
    "* - `range(`stop`)`\n",
    "  - Generates a sequence of numbers from *0* to *stop*, excluding the number *stop*.\n",
    "  - `range(5)` will generate numbers `0,1,2,3,4`\n",
    "* - `range(`start``, ``stop`)`\n",
    "  - Generates a sequence of numbers from *start* to *stop*, excluding the number *stop*.\n",
    "  - `range(3,7)` will generate numbers `3,4,5,6`\n",
    "* - `range(`start`, `stop`, `step`)`\n",
    "  - Generates a sequence of numbers that contains the *step<sup>th</sup>* item from the sequence starting from the *start* number to the *stop* number, excluding the *stop* number.\n",
    "  - `range(0,10,3)` will generate numbers `0,3,6,9`\n",
    "```\n",
    "\n",
    "````{Note}\n",
    "The output from `range()` is not a list, it is actually a `range` object which is an **iterable**, which means, it is able \n",
    "to return its data items one at a time.  `range` is a very efficient way of storing sequential numbers in Python as it \n",
    "always takes the same amount of memory, no matter the size of the numeric sequence.  For example, `range(5)` and `range(100000)` will\n",
    "still take the same amount of memory as 'range()' only stores the *start*, *stop* and *step* of the sequence.  \n",
    "\n",
    "\n",
    "To look at the numbers generated by `range()`, convert `range` to a list as shown below. \n",
    "\n",
    "```{code-block} \n",
    "# printing range directly will not show you the full sequence of numbers generated\n",
    "print(range(5))   #prints range(0, 5)\n",
    "\n",
    "# you need to convert it to a list first\n",
    "print(list(range(5)) #prints [0, 1, 2, 3, 4]\n",
    "\n",
    "#since range is an iterable you can use it in functions that take iterable as an input, example:\n",
    "sum(range(5))  # returns the sum of 0 + 1 + 2 + 3 + 4\n",
    "```\n",
    "````\n",
    "\n",
    "```{exercise} Range\n",
    ":label: range-exercise\n",
    "**Level:** {octicon}`star-fill;1em;sd-text-warning` {octicon}`star;1em;sd-text-warning` {octicon}`star;1em;sd-text-warning`\n",
    "\n",
    "In this exercise we are going to explore the `range()` function.\n",
    "1. Try the code in {numref}`range`.  \n",
    "2. Use the `for` loop and `range()` function to print *\"Hello World!\"* three times.\n",
    "```\n",
    "\n",
    "#### `break`\n",
    "The `break` statement exits (or breaks) from the execution of the respective loop code, that is, it does not continue executing the code in the \n",
    "current loop. The code below is an example of how to `break` a for loop.  The code prints each character of the string \n",
    "\"supercalifragilisticexpialidocious\" until the first character \"c\" is met.\n",
    "\n",
    "(code-break)="
   ]
  },
  {
   "cell_type": "code",
   "execution_count": 5,
   "id": "41d0c0a4",
   "metadata": {},
   "outputs": [
    {
     "name": "stdout",
     "output_type": "stream",
     "text": [
      "Current Letter : s\n",
      "Current Letter : u\n",
      "Current Letter : p\n",
      "Current Letter : e\n",
      "Current Letter : r\n",
      "I am now outside of the for loop\n"
     ]
    }
   ],
   "source": [
    "for letter in \"supercalifragilisticexpialidocious\":  #1\n",
    "   if letter == 'c':                                 #2\n",
    "      break                                          #3\n",
    "   print('Current Letter :', letter)                 #4 \n",
    "                                                     #5\n",
    "print(\"I am now outside of the for loop\")            #6"
   ]
  },
  {
   "cell_type": "markdown",
   "id": "80036983",
   "metadata": {},
   "source": [
    "The `print` statement in line 4 is at the same indentation as the `if` statement in line 2, meaning that both should run in the \n",
    "same iteration of the loop.  However, in the iteration when `letter` is \"c\", the code inside the `if` statement is executed first, which breaks the loop and thus \n",
    "the remaining code in the loop is not executed (skipped).  Note also, that the `print` statement in line 6 is not indented under the `for`\n",
    "loop, and thus it does not form part of the code in the loop (it is outside the loop).\n",
    "\n",
    "#### `continue`\n",
    "\n",
    "The `continue` statement will skip the remaining code in the current iteration, but it will continue the execution of the \n",
    "remaining iterations of the loop.  The code below is an example of how to `continue` a loop.  The code goes over a list of \n",
    "consecutive numbers from 0 to 9 and identifies even and odd numbers.\n",
    "\n",
    "(code-continue)="
   ]
  },
  {
   "cell_type": "code",
   "execution_count": 6,
   "id": "5db8568d",
   "metadata": {},
   "outputs": [
    {
     "name": "stdout",
     "output_type": "stream",
     "text": [
      "Even number: 0\n",
      "Odd number:  1\n",
      "Even number: 2\n",
      "Odd number:  3\n",
      "Even number: 4\n",
      "Odd number:  5\n",
      "Even number: 6\n",
      "Odd number:  7\n",
      "Even number: 8\n",
      "Odd number:  9\n"
     ]
    }
   ],
   "source": [
    "for i in range(10):                #1\n",
    "    if i % 2 == 0:                 #2\n",
    "        print(\"Even number:\", i)   #3\n",
    "        continue                   #4\n",
    "    print(\"Odd number: \", i)       #5"
   ]
  },
  {
   "cell_type": "markdown",
   "id": "ad27c7cb",
   "metadata": {},
   "source": [
    "In line 2, if the remainder of `i % 2` is 0, the even number is first printed (line 3), then `continue` will skip the remaining \n",
    "lines in the loop (line 5) and continue looping over the next iterations until `i` is 10.\n",
    "\n",
    "```{exercise} break and continue\n",
    ":label: break-continue\n",
    "**Level:** {octicon}`star-fill;1em;sd-text-warning` {octicon}`star;1em;sd-text-warning` {octicon}`star;1em;sd-text-warning`\n",
    "\n",
    "In this exercise we will explore the `break` and `continue` statements in loops.\n",
    "1. Using the code in the [break example](code-break), what happens if you print the current letter in the loop before the \n",
    "`if` statement? Why do you think that happened?\n",
    "2. Remove `continue` (line 4) in the [continue example above](code-continue).  What happens?  Why do you think this has happened? \n",
    "```\n",
    "\n",
    "\n",
    "### `while` loop\n",
    "The `while` statement executes code that is indented under it until a condition is `True`. \n",
    "In {numref}`while-loop` below, *suite* (one or more statements) will continue to execute until *expression* is `True`.\n",
    "\n",
    "```{figure} images/while.png\n",
    "---\n",
    "name: while-loop\n",
    "---\n",
    "Syntax of `while` loop (*A*) together with a flowchart representation (*B*)\n",
    "```\n",
    "\n",
    "The animation below runs the code on the left hand side of the animation.  It iterates over the `while` loop to explain \n",
    "how a `while` loop works.\n",
    "\n",
    "```{figure} images/while-loop.gif\n",
    "---\n",
    "name: anim-while-loop\n",
    "---\n",
    "Animation demo of `while` loop example\n",
    "```\n",
    "\n",
    "As shown in the animation above, the `while` loop does not iterate over a sequence (as was the case of the `for` loop).  In this example, \n",
    "`i` is incremented via the suite of the loop `i += 1` which increments `i` in each iteration.  The `break` and `continue` statements \n",
    "can also be used inside the `while` loop.\n",
    "\n",
    "````{exercise} Numbers program\n",
    ":label: num-prog\n",
    "**Level:** {octicon}`star-fill;1em;sd-text-warning` {octicon}`star-fill;1em;sd-text-warning`  {octicon}`star;1em;sd-text-warning`\n",
    "\n",
    "Write a program that allows a user to enter numbers.  If the user inputs -1, the program will quit.\n",
    "\n",
    "```{tip}\n",
    "The `input()` function takes the user's input as a string.  This will allow for interaction from the user. \n",
    "```\n",
    "````\n",
    "\n",
    "````{exercise} Fibonacci sequence\n",
    ":label: fibonacci\n",
    "\n",
    "**Level:** {octicon}`star-fill;1em;sd-text-warning` {octicon}`star-fill;1em;sd-text-warning` {octicon}`star-fill;1em;sd-text-warning`\n",
    "\n",
    "Write code that creates a Fibonacci sequence, where the last number of the series is not more than 100.\n",
    "The Fibonacci sequence is a sequence of numbers where each number is the sum of the two numbers preceding it.   You can \n",
    "read more about it [here](https://en.wikipedia.org/wiki/Fibonacci_number)\n",
    "```{tip}\n",
    "$F_{0} = 0$ , $F_{1} = 1,$  \n",
    "and  \n",
    "$F{n} = F_{n-1} + F_{n-2}$\n",
    "```\n",
    "````"
   ]
  }
 ],
 "metadata": {
  "jupytext": {
   "formats": "md:myst",
   "text_representation": {
    "extension": ".md",
    "format_name": "myst"
   }
  },
  "kernelspec": {
   "display_name": "Python 3",
   "language": "python",
   "name": "python3"
  },
  "language_info": {
   "codemirror_mode": {
    "name": "ipython",
    "version": 3
   },
   "file_extension": ".py",
   "mimetype": "text/x-python",
   "name": "python",
   "nbconvert_exporter": "python",
   "pygments_lexer": "ipython3",
   "version": "3.10.4"
  },
  "source_map": [
   11,
   35,
   47,
   69,
   90,
   106,
   112,
   145,
   151,
   221,
   228,
   242,
   248
  ]
 },
 "nbformat": 4,
 "nbformat_minor": 5
}