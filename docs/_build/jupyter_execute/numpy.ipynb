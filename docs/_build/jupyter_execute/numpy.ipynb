{
 "cells": [
  {
   "cell_type": "markdown",
   "id": "9d931b13",
   "metadata": {},
   "source": [
    "# NumPy\n",
    "\n",
    "## What is NumPy?\n",
    "NumPy is a popular Python package for scientific computing.  It provides multidimensional arrays objects and functionality \n",
    "for fast operations on them and facilitates mathematical operations.  NumPy is used in other popular Python packages including\n",
    "Pandas, SciPy, Matplotlib and scikit-learn.\n",
    "\n",
    "### NumPy arrays vs standard Python sequences (*e.g.,* lists)\n",
    "\n",
    "Below are the main differences between NumPy arrays and standard Python sequences such as lists:\n",
    "* NumPy arrays can only contain the same type of data items, for example, you cannot have one data item as `int` and another as `str`.\n",
    "* Numpy arrays have a fixed size when they are created, and changing size of NumPy arrays will create a new array.  This is different to standard Python list which can grow dynamically.  \n",
    "* NumPy uses a **vectorised** code system for arrays, which enables the application of operations on each data item without the use of loops. This facilitates mathematical and other operations and has the following advantages:\n",
    "    * Fewer lines of code\n",
    "    * Fast (this is more evident with large list sizes)\n",
    "    * Easier to read, resembles mathematical notation.  The code below shows the code in standard Python code and in NumPy code that multiplies two lists:\n",
    "\n",
    "`````{tab-set}\n",
    "````{tab-item} Standard Python\n",
    "```{code-block}\n",
    "for i in range(len(a)):\n",
    "    c.append(a[i]*b[i])\n",
    "```\n",
    "````\n",
    "\n",
    "````{tab-item} NumPy\n",
    "```{code-block}\n",
    "c = a * b\n",
    "```\n",
    "````\n",
    "`````\n",
    "\n",
    "## Importing NumPy\n",
    "Because we are using the Anaconda distribution for Python, NumPy comes pre-installed.  You can check whether NumPy is installed \n",
    "from the *Python Packages* tab in PyCharm.  \n",
    "![python-packages](images/python-packages.png)\n",
    "\n",
    "Once you have checked that it is installed on your machine, to be able to use NumPy we need to import it in the code.  The \n",
    "widely adopted convention is as follows:"
   ]
  },
  {
   "cell_type": "code",
   "execution_count": 1,
   "id": "49116521",
   "metadata": {},
   "outputs": [],
   "source": [
    "import numpy as np"
   ]
  },
  {
   "cell_type": "markdown",
   "id": "bc2554c8",
   "metadata": {},
   "source": [
    "## Creating NumPy arrays\n",
    "A NumPy array is the main data structure of NumPy. We can create a NumPy array from a Python list as follows:"
   ]
  },
  {
   "cell_type": "code",
   "execution_count": 2,
   "id": "b4865a12",
   "metadata": {},
   "outputs": [],
   "source": [
    "a = np.array([55, 92, 110, 66, 75, 45, 40, 57, 55, 62])"
   ]
  },
  {
   "cell_type": "markdown",
   "id": "7c69da21",
   "metadata": {},
   "source": [
    "```{figure} images/ndarray-pycharm.png\n",
    "---\n",
    "name: ndarray-pycharm\n",
    "width: 60%\n",
    "---\n",
    "`ndarray` object in PyCharm's Variable pane.\n",
    "```\n",
    "\n",
    "This creates an array object of type **`ndarray`** in memory as we can see from PyCharm's variable pane in {numref}`ndarray-pycharm`. \n",
    "`ndarray` is short for \"N-dimensional array\", which means any number of dimensions. In NumPy: \n",
    "* 1-D (one-dimensional) array is also called a **vector** and is similar to a Python list.\n",
    "* 2-D (two-dimensional) array is also called a **matrix**.\n",
    "* 3-D or higher dimensional arrays are also known as **tensor**.\n",
    "In this practical we will focus on vectors (1-D arrays) only.  \n",
    "\n",
    "```{figure} images/ndarray.png\n",
    "---\n",
    "name: ndarray\n",
    "---\n",
    "Representation of `ndarray` object in memory and its index positions of its data items.\n",
    "```\n",
    "\n",
    "{numref}`ndarray` above shows a representation of the `ndarray` object created in memory after running the code `a = np.array([55, 92, 110, 66, 75, 45, 40, 57, 55, 62])`. \n",
    "In this example, variable `a` points to an `ndarray` object in memory.  As you can see, the `ndarray` object is composed of different attributes. \n",
    "The data of the `ndarray` object is not stored inside the `ndarray` object, the `ndarray` object points to it.  We will be \n",
    "looking at how we can use the `ndarray` object as we go along.  \n",
    "\n",
    "NumPy arrays can be created using other functions.  The table below lists commonly used functions to create NumPy arrays.\n",
    "```{list-table} Functions to create NumPy arrays\n",
    ":header-rows: 1\n",
    ":name: ndarray-create-table\n",
    "\n",
    "* - Function\n",
    "  - Description\n",
    "  - Example\n",
    "* - `np.array(l)`\n",
    "  - returns a new `ndarray` object from list `l`.  </br> [Documentation to `np.array()`.](https://numpy.org/doc/stable/reference/generated/numpy.array.html#numpy-array)\n",
    "  - `np.array([10, 20, 30])` returns `array([10, 20, 30])`.\n",
    "* - `np.zeros(shape)`\n",
    "  - returns a new `ndarray` object of length `shape` filled with zeros.</br> [Documentation to `np.zeros()`.](https://numpy.org/doc/stable/reference/generated/numpy.zeros.html)\n",
    "  - `np.zeros(3)` returns `array([0., 0., 0.])`.\n",
    "* - `np.ones(shape)`\n",
    "  - returns a new `ndarray` object  of length `shape` filled with ones.</br>  [Documentation to `np.ones()`.](https://numpy.org/doc/stable/reference/generated/numpy.ones.html)\n",
    "  - `np.ones(3)` returns `array([1., 1., 1.])`.\n",
    "* - `np.arange(stop)` </br></br> `np.arange(start, stop)` </br></br>`np.arange(start, stop, step)`  \n",
    "  - `np.arange(stop)` returns a new `ndarray` object with a sequential range of data items from `0` to `stop`. </br></br> `np.arange(start, stop)` returns a sequential range of data items from `start` to `stop`. </br></br> `np.arange(start, stop, step)` returns a sequential range of `step`th data items from `start` to `stop`. </br></br>[Documentation to `np.arange()`](https://numpy.org/doc/stable/reference/generated/numpy.arange.html).  \n",
    "  - `np.arange(3)` returns `array([0, 1, 2])`. </br></br> `np.arange(2, 5)` returns `array([2, 3, 4])`. </br></br> `np.arange(1,8,2)` returns `array([1, 3, 5, 7])`.\n",
    "* - `np.linspace(start, stop, num)`\n",
    "  -  returns a new `ndarray` with a `num` evenly spaced sequence of numbers from `start` to `stop`. </br> [Documentation to `np.linspace()`.](https://numpy.org/doc/stable/reference/generated/numpy.linspace.html)\n",
    "  - `np.linspace(-5, 5, 3)` returns `array([-5.,  0.,  5.])`. \n",
    "```\n",
    "\n",
    "To get the length of an `ndarray` object use the `size` attribute as follows:"
   ]
  },
  {
   "cell_type": "code",
   "execution_count": 3,
   "id": "d50c3b80",
   "metadata": {},
   "outputs": [
    {
     "data": {
      "text/plain": [
       "10"
      ]
     },
     "execution_count": 3,
     "metadata": {},
     "output_type": "execute_result"
    }
   ],
   "source": [
    "a.size"
   ]
  },
  {
   "cell_type": "markdown",
   "id": "b34be3cb",
   "metadata": {},
   "source": [
    "```{exercise} Creating NumPy arrays\n",
    ":label: create-ndarrays\n",
    "\n",
    "**Level:** {octicon}`star-fill;1em;sd-text-warning` {octicon}`star;1em;sd-text-warning` {octicon}`star;1em;sd-text-warning`\n",
    "\n",
    "1. Try the examples in {numref}`ndarray-create-table` in the PyCharm console. For each example, look at the Variables \n",
    "pane in the console to see the `ndarray` object created.  \n",
    "2. Generate  a NumPy array that contains 20 evenly spaced numbers from 0 to 1.  What is the spacing between the numbers?  Hint: use [parameter `retstep`](https://numpy.org/doc/stable/reference/generated/numpy.linspace.html).  \n",
    "3. Use the `np.full()` function to create a NumPy array with ten 0.1 values.\n",
    "\n",
    "```\n",
    "\n",
    "\n",
    "## NumPy data types - `dtype`\n",
    "\n",
    "NumPy is written in C, a low-level language.  Because of this, it inherits some features that are normally associated \n",
    "with low level languages, NumPy data types are one of them.  \n",
    "\n",
    "While the size of the standard Python data types (*e.g.,* `int`, `float`) offer flexibility, that is, \n",
    "they can grow to accommodate numbers of different sizes (within the machine's memory constraints), NumPy data types \n",
    "have fixed sizes. For example, in NumPy an `int` has several `dtype`s: `int8`, `int16`, `int32`, `int64`.  `int8` means \n",
    "that a number created as `int8` will be stored in 8 bits or 1 byte of memory.  That is why the larger the number of bits \n",
    "allocated to a number, the larger the range of numbers can be held. {numref}`integer-dtypes` below gives us an indication of the range \n",
    "of numbers that can be held in the respective integer `dtype`.\n",
    "\n",
    "```{list-table} Number capacity for integer dtypes.\n",
    ":header-rows: 1\n",
    ":name: integer-dtypes\n",
    "\n",
    "* - dtype\n",
    "  - Number capacity\n",
    "* - `int8`\n",
    "  - -128 to 127\n",
    "* - `int16`\n",
    "  - -32,768 to +32,767\n",
    "* - `int32`\n",
    "  - -2,147,483,648 to +2,147,483,647\n",
    "* - `int64`\n",
    "  - -9,223,372,036,854,775,808 to +9,223,372,036,854,775,807\n",
    "```\n",
    "\n",
    "Numpy also has `dtype`s equivalent to the corresponding standard Python data types:\n",
    "\n",
    "```{list-table}\n",
    ":header-rows: 1\n",
    "\n",
    "* - Standard Python data type\n",
    "  - NumPy data type\n",
    "* - `int`\n",
    "  - `np.int_`\n",
    "* - `float`\n",
    "  - `np.float_`\n",
    "* - `str`\n",
    "  - `np.str_`\n",
    "* - `bool`\n",
    "  - `np.bool_`\n",
    "```\n",
    "\n",
    "When creating an array, NumPy automatically detects the type of data the array is made up of and allocates a data type that \n",
    "fits that array based on several factors (including the computer's architecture).  Because of this, we do not need to worry about \n",
    "which NumPy data type to allocate to our arrays as NumPy does that automatically for us.  In the case when we need to \n",
    "specify the `dtype` argument in NumPy functions, in this course we will be using the standard Python data types.\n",
    "\n",
    "\n",
    "```{exercise-start} dtype of NumPy arrays\n",
    ":label: dtype-ndarrays\n",
    "```\n",
    "**Level:** {octicon}`star-fill;1em;sd-text-warning` {octicon}`star;1em;sd-text-warning` {octicon}`star;1em;sd-text-warning`"
   ]
  },
  {
   "cell_type": "code",
   "execution_count": 4,
   "id": "08dd6a60",
   "metadata": {},
   "outputs": [],
   "source": [
    "l = [55, 92, 110, 66, 75, 45, 40, 57, 55, 62]\n",
    "a = np.array(l)"
   ]
  },
  {
   "cell_type": "markdown",
   "id": "8988ac5c",
   "metadata": {},
   "source": [
    "1. Using the code above: \n",
    "   * What is the `dtype` of `a`? (Look into PyCharm's Variable pane to check the `dtype` of `a`).\n",
    "2. What is the `dtype` of `np.zeros(3)`?  Why do you think this is the case?\n",
    "3. Using list `l`, create a NumPy array that contains the values of `l` in `str` format.  What is the `dtype` of this array?\n",
    "\n",
    "```{exercise-end}\n",
    "```\n",
    "\n",
    "## Array manipulation operations\n",
    "\n",
    "```{list-table} Array manipulation functions\n",
    ":header-rows: 1\n",
    ":name: ndarray-manip-table\n",
    "\n",
    "* - Function\n",
    "  - Description\n",
    "  - Example\n",
    "* - `np.append(arr, values)`\n",
    "  - returns a new NumPy array with the `values` added to the end of array `arr`. Note: this does not change the size of `arr`, but a new `ndarray` object is returned with the appended values.\n",
    "  - `np.append(a, [1, 2, 3])` </br>`np.append(a, 1)`\n",
    "* - `np.insert(arr, index, values)`\n",
    "  - returns a new NumPy array with the `values` added at the `index` position of array `arr`.\n",
    "  - `np.insert(a, 3, 90)`  </br>`np.insert(a, 3, [1, 2, 3]`\n",
    "* - `np.delete(arr, index)`\n",
    "  - returns a new NumPy array with the data items in `index` deleted from `arr`. \n",
    "  - `np.delete(a, 2)` </br>`np.delete(a, [2, 3])`\n",
    "* - `np.sort(arr)`\n",
    "  - returns a new NumPy array with the data items of `arr` sorted in ascending order.\n",
    "  - `np.sort(a)`\n",
    "* - `np.concatenate((arr1, arr2, ...))`\n",
    "  - returns a new NumPy array with the joined sequence of arrays.\n",
    "  - `a1 = [1, 2, 3]` </br> `a2 = [4, 5, 6, 7]` </br> `np.concatenate((a1, a2))`\n",
    "* - `np.unique(arr)`\n",
    "  - returns the unique data items in `arr`.\n",
    "  - `b = np.array([9, 3, 9, 8, 9, 4, 2, 0, 2, 5, 4, 7, 5, 1])` </br>`np.unique(b)`\n",
    "```\n",
    "\n",
    "```{exercise-start} manipulating NumPy arrays\n",
    ":label: ndarrays-manip-exercise\n",
    "```\n",
    "**Level:** {octicon}`star-fill;1em;sd-text-warning` {octicon}`star-fill;1em;sd-text-warning` {octicon}`star;1em;sd-text-warning`\n",
    "\n",
    "1. Try the examples in {numref}`ndarray-manip-table`.  Check the output of each example.\n",
    "2. Sort NumPy array `a` in descending order\n",
    "3. Create a NumPy array with the following values: [9, 3, 9, 8, 9, 4, 2, 0, 2, 5, 4, 7, 5, 1]\n",
    "   1. Get the frequency of each value in the array.\n",
    "   2. Get the index positions of the first occurring unique values in the array.\n",
    "```{exercise-end}\n",
    "```\n",
    "\n",
    "\n",
    "\n",
    "\n",
    "\n",
    "\n",
    "## Slicing NumPy arrays\n",
    "To get the value of the specific data items in the array we do that in the same way we do in Python lists: by using the square \n",
    "brackets e.g. \n",
    "a[2]\n",
    "a[2:5]\n",
    "a[1:8:2]\n",
    "\n",
    "### Views and Copies\n",
    "\n",
    "NumPy arrays also save their data \n",
    "separetly from the ndarray object.\n",
    "\n",
    "When we create a new variable and \n",
    "allocate it an existing nparray object, that variable will point to the same ndarray object.  Because of this, a change in b\n",
    "also effect a."
   ]
  },
  {
   "cell_type": "code",
   "execution_count": 5,
   "id": "e2b9e52c",
   "metadata": {},
   "outputs": [
    {
     "name": "stdout",
     "output_type": "stream",
     "text": [
      "ID of a is: 140251116349520\n",
      "ID of b is: 140251116349520\n",
      "[ 55  92 110  60  75  45  40  57  55  62]\n"
     ]
    }
   ],
   "source": [
    "l = [55, 92, 110, 66, 75, 45, 40, 57, 55, 62]\n",
    "a = np.array(l)\n",
    "\n",
    "\n",
    "print(\"ID of a is:\", id(a))\n",
    "\n",
    "b = a\n",
    "print(\"ID of b is:\", id(b))\n",
    "\n",
    "b[3] = 60\n",
    "print(a)"
   ]
  },
  {
   "cell_type": "markdown",
   "id": "b258e271",
   "metadata": {},
   "source": [
    "In the example above, b and a share the same ID.  Changing the data item in index 3 of b, caused the change in a as well, since \n",
    "both are the same object.  \n",
    "The view method creates a new ndarray object that point to the same data.  Because it is pointing to the same data, any changes\n",
    "made to the view ndarray object will be effected in the base object which is the ndarray where the array data is actually stored.  \n",
    "In the example below c is the view object and a is the base object.  As you can see the id of the base of c and a are the same."
   ]
  },
  {
   "cell_type": "code",
   "execution_count": 6,
   "id": "ff79de29",
   "metadata": {},
   "outputs": [
    {
     "name": "stdout",
     "output_type": "stream",
     "text": [
      "ID of a is: 140251116349520\n",
      "ID of c is: 140251120696848\n",
      "ID of base array of c is: 140251116349520\n"
     ]
    }
   ],
   "source": [
    "c = a.view()\n",
    "print(\"ID of a is:\", id(a))\n",
    "print(\"ID of c is:\", id(c))\n",
    "\n",
    "print(\"ID of base array of c is:\", id(c.base))"
   ]
  },
  {
   "cell_type": "markdown",
   "id": "30dfb00c",
   "metadata": {},
   "source": [
    "Slicing an ndarray also returns a view of it."
   ]
  },
  {
   "cell_type": "code",
   "execution_count": 7,
   "id": "3f4d27ef",
   "metadata": {},
   "outputs": [
    {
     "name": "stdout",
     "output_type": "stream",
     "text": [
      "[80 60 75]\n",
      "[55 92 80 60 75 45 40 57 55 62]\n"
     ]
    }
   ],
   "source": [
    "d = a[2:5]\n",
    "d[0] = 80    #this changes a[2] as well!\n",
    "print(d)\n",
    "print(a)"
   ]
  },
  {
   "cell_type": "markdown",
   "id": "c68b45a3",
   "metadata": {},
   "source": [
    "When creating a copy of an ndarray however, this would create a completely new copy, ie. the object and data are not pointing to \n",
    "the same object but rather they point to a different one."
   ]
  },
  {
   "cell_type": "code",
   "execution_count": 8,
   "id": "160fc36c",
   "metadata": {},
   "outputs": [
    {
     "name": "stdout",
     "output_type": "stream",
     "text": [
      "ID of a is: 140251116349520\n",
      "ID of e is: 140251116868528\n",
      "a is: [55 92 80 60 75 45 40 57 55 62]\n",
      "e is: [55 92 80 70 75 45 40 57 55 62]\n"
     ]
    }
   ],
   "source": [
    "#create a copy of ndarray a\n",
    "e = a.copy()\n",
    "print(\"ID of a is:\", id(a))\n",
    "print(\"ID of e is:\", id(e))\n",
    "\n",
    "e[3] = 70\n",
    "print(f\"a is: {a}\")\n",
    "print(f\"e is: {e}\")"
   ]
  },
  {
   "cell_type": "markdown",
   "id": "9c2c34b6",
   "metadata": {},
   "source": [
    "# Vectorised array operations\n",
    "\n",
    "One of the main differences between standard Python data sequences such as lists and NumPy arrays is that it uses a vectorised system \n",
    "which allows us to perform operations over all the ndarray object using one line of code as opposed to  using a loop as we do \n",
    "with lists.\n",
    "\n",
    "\n",
    "#Extract items in the list that are >60\n",
    "a > 60\n",
    "returns a list of True and False; True if the data item is > 60, and False otherwise.\n",
    "\n",
    "<compare with standard python>\n",
    "\n",
    "To get the actual data items we have to use our comparison statement inside the [] as essentially we want to slice our \n",
    "ndarray based on a condition:\n",
    "a[a > 60]\n",
    "\n",
    "This is similar to the way we extract items from vectors in R.  \n",
    "\n",
    "You can combine multiple comparison statements using the & (and) and | (or) logical operators\n",
    "get the marks that are > 60 and < 90: \n",
    "a[(a > 60)  & (a < 90)]\n",
    "\n",
    "\n",
    "### Operations on arrays\n",
    "\n",
    "Similarly, arithmetic operations can be performed on an array in one statement. For example:"
   ]
  },
  {
   "cell_type": "code",
   "execution_count": 9,
   "id": "ec1481d9",
   "metadata": {},
   "outputs": [
    {
     "name": "stdout",
     "output_type": "stream",
     "text": [
      "a1 + a2 is: [12 30 33]\n",
      "a1 - a2 is: [ 8 10 27]\n",
      "a1 * a2 is: [ 20 200  90]\n",
      "a1 / a2 is: [ 5.  2. 10.]\n"
     ]
    }
   ],
   "source": [
    "a1 = np.array([10,20,30])\n",
    "a2 = np.array([2,10,3])\n",
    "\n",
    "# add arrays together\n",
    "print(f\"a1 + a2 is: {a1 + a2}\")\n",
    "\n",
    "#subtract\n",
    "print(f\"a1 - a2 is: {a1 - a2}\")\n",
    "\n",
    "#multiply\n",
    "print(f\"a1 * a2 is: {a1 * a2}\")\n",
    "\n",
    "#divide\n",
    "print(f\"a1 / a2 is: {a1 / a2}\")\n"
   ]
  },
  {
   "cell_type": "markdown",
   "id": "d082d978",
   "metadata": {},
   "source": [
    "You can also use aggregate functions on NumPy arrays that perform an operation across all items in the array and return one \n",
    "result back.  For example, if you want to add all the numbers in a NumPy array together, use sum:"
   ]
  },
  {
   "cell_type": "code",
   "execution_count": 10,
   "id": "3b02cf04",
   "metadata": {},
   "outputs": [
    {
     "name": "stdout",
     "output_type": "stream",
     "text": [
      "sum of all data items in a1 is: 60\n"
     ]
    },
    {
     "data": {
      "text/plain": [
       "8.16496580927726"
      ]
     },
     "execution_count": 10,
     "metadata": {},
     "output_type": "execute_result"
    }
   ],
   "source": [
    "a3 = np.array([1, 4, 9])\n",
    "\n",
    "#aggregation function\n",
    "print(f\"sum of all data items in a1 is: {a1.sum()}\")\n",
    "a1.min()\n",
    "a1.max()\n",
    "a1.mean()\n",
    "a1.std() #get standard deviation"
   ]
  },
  {
   "cell_type": "code",
   "execution_count": 11,
   "id": "3805220e",
   "metadata": {},
   "outputs": [
    {
     "data": {
      "text/plain": [
       "array([ 2., 10.,  3.])"
      ]
     },
     "execution_count": 11,
     "metadata": {},
     "output_type": "execute_result"
    }
   ],
   "source": [
    "#return element-wise square root\n",
    "ans = np.sqrt(a3)\n",
    "\n",
    "# square each element in ndarray\n",
    "# square(sqrt(x)) = x \n",
    "np.square(ans)\n",
    "\n",
    "# calculate exponential of each data item\n",
    "ans2 = np.exp(a2)\n",
    "\n",
    "# calculate the natural logarithm of each data item in ndarray\n",
    "# the natural logarithm is the inverse of the exponential function: log(exp(x)) = x\n",
    "np.log(ans2)  "
   ]
  },
  {
   "cell_type": "markdown",
   "id": "57a173bb",
   "metadata": {},
   "source": [
    "There are several other mathematical functions that can be applied on ndarrays.  A full list can be found [here](https://numpy.org/doc/stable/reference/routines.math.html).\n",
    "\n",
    "\n",
    "\n",
    "\n",
    "### Broadcasting\n",
    "\n",
    "We have seen so far how we can perform arithmetic operations on NumPy arrays of the same size.  Broadcasting refers to when\n",
    "we want to perform an operation between a NumPy array of different sizes.  In this course we will be focusing on operations \n",
    "between NumPy arrays and single values, for example, an integer.  In this case the integer is \"broadcast\" across the NumPy array\n",
    "so that they have similar sizes for the operation to be possible."
   ]
  },
  {
   "cell_type": "code",
   "execution_count": 12,
   "id": "b6bf2005",
   "metadata": {},
   "outputs": [
    {
     "data": {
      "text/plain": [
       "array([20, 40, 60])"
      ]
     },
     "execution_count": 12,
     "metadata": {},
     "output_type": "execute_result"
    }
   ],
   "source": [
    "a1 * 2"
   ]
  },
  {
   "cell_type": "markdown",
   "id": "9f269194",
   "metadata": {},
   "source": [
    "All these features make NumPy desirable to work with mathematical forumulas.  \n",
    "Eucleadean distance example:\n",
    "https://www.calculatorsoup.com/calculators/geometry-plane/distance-two-points.php"
   ]
  },
  {
   "cell_type": "code",
   "execution_count": 13,
   "id": "649a6cce",
   "metadata": {},
   "outputs": [
    {
     "name": "stdout",
     "output_type": "stream",
     "text": [
      "2.23606797749979\n"
     ]
    }
   ],
   "source": [
    "import numpy as np\n",
    " \n",
    "# initializing points in\n",
    "# numpy arrays\n",
    "point1 = np.array((1, 2, 3))\n",
    "point2 = np.array((1, 1, 1))\n",
    " \n",
    "# finding sum of squares\n",
    "sum_sq = np.sum(np.square(point1 - point2))\n",
    " \n",
    "# Doing squareroot and\n",
    "# printing Euclidean distance\n",
    "print(np.sqrt(sum_sq))"
   ]
  },
  {
   "cell_type": "markdown",
   "id": "f0fffea3",
   "metadata": {},
   "source": [
    "Exercise:\n",
    "https://numpy.org/devdocs/user/absolute_beginners.html#working-with-mathematical-formulas\n",
    "\n",
    "\n",
    "\n",
    "\n",
    "### Random sampling\n",
    "To generate a random number we first call default_rng() method to create an instance of Generator"
   ]
  },
  {
   "cell_type": "code",
   "execution_count": 14,
   "id": "da6c32f5",
   "metadata": {},
   "outputs": [
    {
     "name": "stdout",
     "output_type": "stream",
     "text": [
      "[7 3 8]\n",
      "[0.79736546 0.67625467 0.39110955]\n"
     ]
    }
   ],
   "source": [
    "import numpy as np\n",
    "\n",
    "seed = 12345\n",
    "rng = np.random.default_rng(seed=seed)\n",
    "#generate 3 random integers between 1 and 10 (excluded)\n",
    "rints = rng.integers(low=1, high=10, size=3)\n",
    "print(rints)\n",
    "\n",
    "# generate 3 random decimal numbers in the range[0,1]\n",
    "rfloat = rng.random(3)\n",
    "print(rfloat)\n"
   ]
  },
  {
   "cell_type": "markdown",
   "id": "b327bd64",
   "metadata": {},
   "source": [
    "You can also draw samples from a distribution.  For example\n",
    "For a whole list of distributions see [here](https://numpy.org/devdocs/reference/random/generator.html#distributions)\n",
    "\n",
    "#draw 5 samples from the normal distribution where mean=0 and standard deviation is 0.1\n",
    "mu, sigma = 0, 0.1 # mean and standard deviation\n",
    "sample_normal = rng.normal(mu, sigma, 5)\n",
    "print(sample_normal)"
   ]
  }
 ],
 "metadata": {
  "jupytext": {
   "formats": "md:myst",
   "text_representation": {
    "extension": ".md",
    "format_name": "myst"
   }
  },
  "kernelspec": {
   "display_name": "Python 3",
   "language": "python",
   "name": "python3"
  },
  "language_info": {
   "codemirror_mode": {
    "name": "ipython",
    "version": 3
   },
   "file_extension": ".py",
   "mimetype": "text/x-python",
   "name": "python",
   "nbconvert_exporter": "python",
   "pygments_lexer": "ipython3",
   "version": "3.10.4"
  },
  "source_map": [
   11,
   54,
   56,
   61,
   63,
   118,
   120,
   192,
   195,
   267,
   279,
   286,
   292,
   296,
   301,
   306,
   315,
   345,
   361,
   366,
   377,
   391,
   404,
   406,
   412,
   426,
   438,
   451
  ]
 },
 "nbformat": 4,
 "nbformat_minor": 5
}