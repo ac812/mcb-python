{
 "cells": [
  {
   "cell_type": "markdown",
   "metadata": {
    "collapsed": false,
    "pycharm": {
     "name": "#%% md\n"
    }
   },
   "source": [
    "# 1,500 scientists lift the lid on reproducibility\n",
    "\n",
    "## Survey sheds light on the 'crisis' rocking research.\n",
    "### by Mona Baker\n",
    "\n",
    "**More than 70% of researchers have tried and failed to reproduce another scientist's experiments**, and more than half have failed to reproduce their own experiments. Those are some of the telling figures that emerged from *Nature*'s survey of 1,576 researchers who took a brief online questionnaire on reproducibility in research.\n",
    "\n",
    "The data reveal sometimes-contradictory attitudes towards reproducibility. Although 52% of those surveyed agree that there is a significant crisis of reproducibility, less than 31% think that failure to reproduce published results means that the result is probably wrong, and most say that they still trust the published literature.\n",
    "\n",
    "![](https://www.nature.com/news/polopoly_fs/7.36716.1469695923!/image/reproducibility-graphic-online1.jpeg_gen/derivatives/landscape_630/reproducibility-graphic-online1.jpeg)\n",
    "\n",
    "### The Survey\n",
    "\n",
    "In the survey respondents were asked to rate 11 different approaches to improving reproducibilty in science.  Below is the list order by the most highly rated:\n",
    "\n",
    "* Better understanding of statistics\n",
    "* Better mentoring/supervision\n",
    "* More robust design\n",
    "* Better teaching\n",
    "* More within-lab validation\n",
    "* Incentives for better practice\n",
    "* Incentives for formal reproduction\n",
    "* More external-lab validation\n",
    "* More time for mentoring\n",
    "* Journals enforcing standards\n",
    "* More time checking notebooks\n"
   ]
  }
 ],
 "metadata": {
  "kernelspec": {
   "display_name": "Python 3",
   "language": "python",
   "name": "python3"
  },
  "language_info": {
   "codemirror_mode": {
    "name": "ipython",
    "version": 3
   },
   "file_extension": ".py",
   "mimetype": "text/x-python",
   "name": "python",
   "nbconvert_exporter": "python",
   "pygments_lexer": "ipython3",
   "version": "3.10.4"
  }
 },
 "nbformat": 4,
 "nbformat_minor": 0
}