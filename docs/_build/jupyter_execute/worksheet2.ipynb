{
 "cells": [
  {
   "cell_type": "markdown",
   "id": "86a7de61",
   "metadata": {},
   "source": [
    "# Worksheet 2\n",
    "\n",
    "\n",
    "```{exercise} cm to m function\n",
    ":label: cm-to-m\n",
    ":class: dropdown\n",
    ":nonumber:\n",
    "\n",
    "**Level:** {octicon}`star-fill;1em;sd-text-warning` {octicon}`star;1em;sd-text-warning` {octicon}`star;1em;sd-text-warning`\n",
    "\n",
    "Create a function `cm_to_m()` that given a number `n` as an argument, which represents centimeters (cm), will convert that \n",
    "number to meters (m). \n",
    "\n",
    "```\n",
    "\n",
    "```{exercise} Mark grading function\n",
    ":label: mark-to-class\n",
    ":class: dropdown\n",
    ":nonumber:\n",
    "\n",
    "**Level:** {octicon}`star-fill;1em;sd-text-warning` {octicon}`star;1em;sd-text-warning` {octicon}`star;1em;sd-text-warning`\n",
    "\n",
    "Write a program that returns the student class grade.  You may adapt [this code](code-reference-marking).\n",
    "```\n",
    "\n",
    "\n",
    "```{exercise} Even numbers function\n",
    ":label: even-numbers-function\n",
    ":class: dropdown\n",
    ":nonumber:\n",
    "\n",
    "**Level:** {octicon}`star-fill;1em;sd-text-warning` {octicon}`star-fill;1em;sd-text-warning` {octicon}`star;1em;sd-text-warning`\n",
    "\n",
    "Write a function that given a list of numbers returns even numbers **only** back.\n",
    "```\n",
    "\n",
    "```{exercise-start} Bubble sort\n",
    ":label: bubble-sort\n",
    ":class: dropdown\n",
    ":nonumber:\n",
    "\n",
    "**Level:** {octicon}`star-fill;1em;sd-text-warning` {octicon}`star-fill;1em;sd-text-warning` {octicon}`star-fill;1em;sd-text-warning`\n",
    "```\n",
    "\n",
    "In this exercise we are going to practice **nested loops** by coding the bubble sort.  The bubble sort is a simple sorting \n",
    "algorithm. To sort a list of numbers, the bubble sort iterates over the numbers in the list.  For each number `l[j]`, \n",
    "it compares it with the number next to it `l[j+1]`.  If `l[j]` is bigger than `l[j+1]`, they will swap places, that is,\n",
    "`l[j+1]` becomes `l[j]` and `l[j]` becomes `l[j+1]`.  This process is repeated for *N* times, where *N* is the length of the list - 1.\n",
    "\n",
    "Below is an example of the first iteration of the bubble sort algorithm.  Write a `bubble_sort()` function that will implement \n",
    "the bubble sort algorithm as explained above.  The function should take a list of numbers as an input and returns \n",
    "the sorted list as an output. \n",
    "\n",
    "```{figure} images/bubble-sort.gif\n",
    ":width: 50%\n",
    "Example of the first iteration of the bubble sort algorithm.\n",
    "```\n",
    "\n",
    "\n",
    "```{admonition} Do you know?\n",
    ":class: tip\n",
    "\n",
    "The bubble sort is one of the simple sorting algorithms.  Because it is a simple algorithm it is not an efficient one and, \n",
    "in fact, it is widely critisised and also a known programmers humour.  [Barack Obama once joked about it too!](https://youtu.be/k4RRi_ntQc8)\n",
    "```\n",
    "\n",
    "```{exercise-end}\n",
    "```"
   ]
  }
 ],
 "metadata": {
  "jupytext": {
   "formats": "md:myst",
   "text_representation": {
    "extension": ".md",
    "format_name": "myst"
   }
  },
  "kernelspec": {
   "display_name": "Python 3",
   "language": "python",
   "name": "python3"
  },
  "language_info": {
   "codemirror_mode": {
    "name": "ipython",
    "version": 3
   },
   "file_extension": ".py",
   "mimetype": "text/x-python",
   "name": "python",
   "nbconvert_exporter": "python",
   "pygments_lexer": "ipython3",
   "version": "3.10.4"
  },
  "source_map": [
   11
  ]
 },
 "nbformat": 4,
 "nbformat_minor": 5
}