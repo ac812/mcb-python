{
 "cells": [
  {
   "cell_type": "markdown",
   "metadata": {
    "pycharm": {
     "name": "#%% md\n"
    }
   },
   "source": [
    "# Practical 4 Solutions\n",
    "The solutions for this practical are all written in jupyter notebook.\n",
    "\n",
    "\n",
    "## Fibonacci revisited"
   ]
  },
  {
   "cell_type": "code",
   "execution_count": 1,
   "metadata": {
    "pycharm": {
     "name": "#%%\n"
    }
   },
   "outputs": [],
   "source": [
    "import matplotlib.pyplot as plt\n",
    "import numpy as np\n",
    "\n",
    "def fibonacci(n):\n",
    "    \"\"\"\n",
    "    Returns the Fibonacci sequence from 0 to the nth value in the sequence.\n",
    "    :param n: positive integer\n",
    "    :return: the nth Fibonacci value in the sequence\n",
    "    \"\"\"\n",
    "    if n in {0,1}:\n",
    "        return n\n",
    "    else:\n",
    "        return fibonacci(n-1) + fibonacci(n-2)"
   ]
  },
  {
   "cell_type": "code",
   "execution_count": 2,
   "metadata": {
    "pycharm": {
     "name": "#%%\n"
    }
   },
   "outputs": [
    {
     "data": {
      "text/plain": [
       "[Text(0.5, 0, 'n'),\n",
       " Text(0, 0.5, 'fibonacci(n)'),\n",
       " Text(0.5, 1.0, 'The Fibonacci sequence')]"
      ]
     },
     "execution_count": 2,
     "metadata": {},
     "output_type": "execute_result"
    },
    {
     "data": {
      "image/png": "[encoded data removed]",
      "text/plain": [
       "<Figure size 640x480 with 1 Axes>"
      ]
     },
     "metadata": {
      "filenames": {
       "image/png": "/Users/alexiacardona/PycharmProjects/MCBPracticals/docs/_build/jupyter_execute/solutions-practical4_2_1.png"
      }
     },
     "output_type": "display_data"
    }
   ],
   "source": [
    "# x and y coordinates\n",
    "x = np.arange(1,20)\n",
    "y = np.array([fibonacci(i) for i in x])\n",
    "\n",
    "# plot n vs fibonacci(n)\n",
    "fig, ax = plt.subplots()\n",
    "ax.scatter(x,y)\n",
    "ax.set(xlabel=\"n\", ylabel=\"fibonacci(n)\", title=\"The Fibonacci sequence\")\n",
    "# you do not need to call fig.show() in jupyter notebook to show your plot\n"
   ]
  },
  {
   "cell_type": "markdown",
   "metadata": {
    "pycharm": {
     "name": "#%% md\n"
    }
   },
   "source": [
    "We can see from the plot above that the fibonacci sequence increases very fast.\n"
   ]
  },
  {
   "cell_type": "markdown",
   "metadata": {
    "pycharm": {
     "name": "#%% md\n"
    }
   },
   "source": [
    "# Tower of Hanoi\n"
   ]
  },
  {
   "cell_type": "code",
   "execution_count": 3,
   "metadata": {
    "pycharm": {
     "name": "#%%\n"
    }
   },
   "outputs": [],
   "source": [
    "def tower_hanoi(n, source, target, spare):\n",
    "    \"\"\"\n",
    "    Prints the sequence of steps required to solve the tower of Hanoi problem for n disck using 3 poles.\n",
    "    :param n: number of disck\n",
    "    :param source: name of source rod\n",
    "    :param target: name of target rod\n",
    "    :param spare: name of spare rod\n",
    "    \"\"\"\n",
    "    if n == 1:\n",
    "        print(f\"Move disk 1 from {source} rod to {target} rod\")\n",
    "    else:\n",
    "        tower_hanoi(n-1, source, spare, target)\n",
    "        print(f\"Move disk {n} from {source} rod to {target} rod\")\n",
    "        tower_hanoi(n-1, spare, target, source)"
   ]
  },
  {
   "cell_type": "code",
   "execution_count": 4,
   "metadata": {
    "pycharm": {
     "name": "#%%\n"
    }
   },
   "outputs": [
    {
     "name": "stdout",
     "output_type": "stream",
     "text": [
      "Move disk 1 from A rod to B rod\n",
      "Move disk 2 from A rod to C rod\n",
      "Move disk 1 from B rod to C rod\n",
      "Move disk 3 from A rod to B rod\n",
      "Move disk 1 from C rod to A rod\n",
      "Move disk 2 from C rod to B rod\n",
      "Move disk 1 from A rod to B rod\n"
     ]
    }
   ],
   "source": [
    "# call the function for 3 disks with A as the source rod, B as the target rod and C as the spare rod.\n",
    "tower_hanoi(3, \"A\", \"B\", \"C\")\n"
   ]
  }
 ],
 "metadata": {
  "kernelspec": {
   "display_name": "Python 3 (ipykernel)",
   "language": "python",
   "name": "python3"
  },
  "language_info": {
   "codemirror_mode": {
    "name": "ipython",
    "version": 3
   },
   "file_extension": ".py",
   "mimetype": "text/x-python",
   "name": "python",
   "nbconvert_exporter": "python",
   "pygments_lexer": "ipython3",
   "version": "3.10.4"
  }
 },
 "nbformat": 4,
 "nbformat_minor": 1
}