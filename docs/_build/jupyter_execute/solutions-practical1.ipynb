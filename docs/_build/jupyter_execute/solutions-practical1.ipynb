{
 "cells": [
  {
   "cell_type": "markdown",
   "id": "26c3e028",
   "metadata": {},
   "source": [
    "# Practical 1 Solutions\n",
    "\n",
    "## Exercise 1\n",
    "```{solution} arithmetic-operators\n",
    ":label: arithmetic-operators-solution\n",
    "\n",
    "a. Solutions are in {numref}`numeric-operators-table`.  \n",
    "b. `8 + (10 + 4**3 + 2)`\n",
    "```\n",
    "\n",
    "## Exercise 2\n",
    "```{solution-start} variables-types\n",
    ":label: variables-types-solution\n",
    "```"
   ]
  },
  {
   "cell_type": "code",
   "execution_count": 1,
   "id": "c85da490",
   "metadata": {},
   "outputs": [
    {
     "name": "stdout",
     "output_type": "stream",
     "text": [
      "a is 10 of type <class 'int'>\n",
      "b is 10 of type <class 'int'>\n",
      "a is 22 of type <class 'int'>\n",
      "b is 10 of type <class 'int'>\n",
      "c is 7.33 of type <class 'float'>\n",
      "d is 7 of type <class 'int'>\n"
     ]
    }
   ],
   "source": [
    "# 1\n",
    "a = b = 10\n",
    "\n",
    "# 2\n",
    "print(\"a is\", a, \"of type\", type(a))\n",
    "print(\"b is\", b, \"of type\", type(b))\n",
    "\n",
    "#3\n",
    "a=22\n",
    "\n",
    "#4\n",
    "print(\"a is\", a, \"of type\", type(a))\n",
    "print(\"b is\", b, \"of type\", type(b))\n",
    "\n",
    "#5\n",
    "c = a/3\n",
    "\n",
    "#6\n",
    "print(f\"c is {c:.2f} of type {type(c)}\")\n",
    "\n",
    "#7\n",
    "d = int(c)\n",
    "\n",
    "#8 when converting a decimal number to int, the fractional part of the number is lost \n",
    "print(\"d is\", d, \"of type\", type(d))"
   ]
  },
  {
   "cell_type": "markdown",
   "id": "06ddd98d",
   "metadata": {},
   "source": [
    "```{solution-end}\n",
    "```\n",
    "\n",
    "## Exercise 3\n",
    "```{solution-start} exploring-lists\n",
    ":label: exploring-lists-solution\n",
    "```"
   ]
  },
  {
   "cell_type": "code",
   "execution_count": 2,
   "id": "755b8cb9",
   "metadata": {},
   "outputs": [
    {
     "name": "stdout",
     "output_type": "stream",
     "text": [
      "Item at l[2] is 110\n",
      "Item at l[-2] is 55\n",
      "[110, 66, 75]\n",
      "[92, 66, 45, 57]\n",
      "l[:2] is [55, 92]\n",
      "l[5:] is [45, 40, 57, 55, 62]\n",
      "\n",
      "Print all items in list l [55, 92, 110, 66, 75, 45, 40, 57, 55, 62]\n",
      "\n",
      "Concatenate l to [70,] results in [55, 92, 110, 66, 75, 45, 40, 57, 55, 62, 70]\n",
      "\n",
      "Replicating list l by 2: [55, 92, 110, 66, 75, 45, 40, 57, 55, 62, 55, 92, 110, 66, 75, 45, 40, 57, 55, 62]\n",
      "\n",
      "List unpacking:\n",
      "Name is Alexia\n",
      "Subject is MCB\n",
      "Year is 1B\n",
      "\n",
      "List membership:\n",
      "False\n",
      "True\n",
      "True\n",
      "\n",
      "Answer for section 5:\n",
      "10\n",
      "40\n",
      "110\n",
      "0\n",
      "2\n"
     ]
    }
   ],
   "source": [
    "#1\n",
    "l = [55, 92, 110, 66, 75, 45, 40, 57, 55, 62]\n",
    "\n",
    "#2\n",
    "#Extract item at index position 2\n",
    "print(\"Item at l[2] is\", l[2])\n",
    "\n",
    "#Extract item at index position -2\n",
    "print(\"Item at l[-2] is\", l[-2])\n",
    "\n",
    "#3\n",
    "print(l[2:5])\n",
    "print(l[1:8:2])\n",
    "\n",
    "#Extract items from the beginning of the list to index position 2 (excluded).\n",
    "print(\"l[:2] is\", l[:2])\n",
    "\n",
    "#Extract items from index position 5 to the end of the list.\n",
    "print(\"l[5:] is\", l[5:])\n",
    "\n",
    "#print all items in a list\n",
    "print(\"\\nPrint all items in list l\", l)\n",
    "\n",
    "# List concatenation: add tuples together\n",
    "l2 = l + [70,]   #you have to specify the one item as a tuple as well\n",
    "print(\"\\nConcatenate l to [70,] results in\", l2) \n",
    "\n",
    "# List replication:  replicate contents of a list by a specified number of times\n",
    "l3 = l * 2\n",
    "print(\"\\nReplicating list l by 2:\", l3)\n",
    "\n",
    "# List unpacking - place data items of list in separate variables\n",
    "print(\"\\nList unpacking:\")\n",
    "l4 = [\"Alexia\", \"MCB\", \"1B\"]\n",
    "[name, subject, year] = l4\n",
    "print(\"Name is\", name)\n",
    "print(\"Subject is\", subject)\n",
    "print(\"Year is\", year)\n",
    "\n",
    "#4\n",
    "print(\"\\nList membership:\")\n",
    "#Check if number 2 is one of the items of list l\n",
    "print(2 in l)      #returns False\n",
    "\n",
    "#Check if number 55 is one of the items of list l\n",
    "print(55 in l)     #returns True\n",
    "\n",
    "#Check that 2 is not one of the items of list l\n",
    "print(2 not in l)  #returns True\n",
    "\n",
    "#5\n",
    "print(\"\\nAnswer for section 5:\")\n",
    "print(len(l))\n",
    "print(min(l))\n",
    "print(max(l))\n",
    "print(l.index(55))\n",
    "print(l.count(55))"
   ]
  },
  {
   "cell_type": "markdown",
   "id": "7309deea",
   "metadata": {},
   "source": [
    "```{solution-end}\n",
    "```\n",
    "\n",
    "## Exercise 4\n",
    "```{solution-start} lists-utility\n",
    ":label: lists-utility-solution\n",
    "```"
   ]
  },
  {
   "cell_type": "code",
   "execution_count": 3,
   "id": "51198b56",
   "metadata": {},
   "outputs": [
    {
     "name": "stdout",
     "output_type": "stream",
     "text": [
      "List l: [55, 92, 110, 66, 75, 45, 40, 57, 55, 62]\n",
      "List after l.append(100): [55, 92, 110, 66, 75, 45, 40, 57, 55, 62, 100]\n",
      "List after l.insert(1,44): [55, 44, 92, 110, 66, 75, 45, 40, 57, 55, 62, 100]\n",
      "List after l.remove(55): [44, 92, 110, 66, 75, 45, 40, 57, 55, 62, 100]\n",
      "List after l.reverse(): [100, 62, 55, 57, 40, 45, 75, 66, 110, 92, 44]\n",
      "List after l.sort(): [40, 44, 45, 55, 57, 62, 66, 75, 92, 100, 110]\n",
      "List after del l[7:9]: [40, 44, 45, 55, 57, 62, 66, 100, 110]\n"
     ]
    }
   ],
   "source": [
    "print(\"List l:\", l)\n",
    "\n",
    "l.append(100)\n",
    "print(\"List after l.append(100):\", l)\n",
    "\n",
    "l.insert(1,44)\n",
    "print(\"List after l.insert(1,44):\", l)\n",
    "\n",
    "l.remove(55)\n",
    "print(\"List after l.remove(55):\", l)\n",
    "\n",
    "l.reverse()\n",
    "print(\"List after l.reverse():\", l)\n",
    "\n",
    "l.sort()\n",
    "print(\"List after l.sort():\", l)\n",
    "\n",
    "del l[7:9]\n",
    "print(\"List after del l[7:9]:\", l)"
   ]
  },
  {
   "cell_type": "markdown",
   "id": "ba9395d8",
   "metadata": {},
   "source": [
    "```{solution-end}\n",
    "```\n",
    "\n",
    "## Exercise 5\n",
    "```{solution-start} join-strings\n",
    ":label: join-strings-solution\n",
    "```\n",
    "The `join()` method takes as an argument a list of strings to join together. The separator to use between the different data items in \n",
    "`words` is the string we are calling the `join()` method on."
   ]
  },
  {
   "cell_type": "code",
   "execution_count": 4,
   "id": "0d10497f",
   "metadata": {},
   "outputs": [
    {
     "name": "stdout",
     "output_type": "stream",
     "text": [
      "keep calm and carry on\n"
     ]
    }
   ],
   "source": [
    "words = [\"keep\", \"calm\", \"and\", \"carry\", \"on\"]\n",
    "quote = \" \".join(words)\n",
    "print(quote)"
   ]
  },
  {
   "cell_type": "markdown",
   "id": "fa38fa41",
   "metadata": {},
   "source": [
    "```{solution-end}\n",
    "```\n",
    "\n",
    "## Exercise 6\n",
    "```{solution-start} split-strings\n",
    "```\n",
    "To divide strings by a separator, the `split()` string method provides an eay way to do this.  Have a look at the \n",
    "[documentation](https://docs.python.org/3.3/library/stdtypes.html?highlight=split#str.split).  If no arguments are passed \n",
    "to the `split()` method, all whitespace is removed from the string that called `split()` and a list is returned with the \n",
    "separated strings."
   ]
  },
  {
   "cell_type": "code",
   "execution_count": 5,
   "id": "625669dd",
   "metadata": {},
   "outputs": [
    {
     "name": "stdout",
     "output_type": "stream",
     "text": [
      "There are 5 words in the words list.\n",
      "['Your', 'path', 'you', 'must', 'decide']\n"
     ]
    }
   ],
   "source": [
    "sentence = \"Your path you must decide\"\n",
    "words = sentence.split()\n",
    "print(f\"There are {len(words)} words in the words list.\")\n",
    "print(words)"
   ]
  },
  {
   "cell_type": "markdown",
   "id": "41d2f0c4",
   "metadata": {},
   "source": [
    "```{solution-end}\n",
    "```\n",
    "\n",
    "## Exercise 7\n",
    "```{solution-start} month-if\n",
    ":label: month-if-solution\n",
    "```"
   ]
  },
  {
   "cell_type": "code",
   "execution_count": 6,
   "id": "91538619",
   "metadata": {},
   "outputs": [
    {
     "name": "stdout",
     "output_type": "stream",
     "text": [
      "October\n"
     ]
    }
   ],
   "source": [
    "#specify month you want to get the name of\n",
    "month = 10\n",
    "\n",
    "if month == 1:\n",
    "    print(\"January\")\n",
    "elif month == 2:\n",
    "    print(\"February\")\n",
    "elif month == 3:\n",
    "    print(\"March\")\n",
    "elif month == 4:\n",
    "    print(\"April\")\n",
    "elif month == 5:\n",
    "    print(\"May\")\n",
    "elif month == 6:\n",
    "    print(\"June\")\n",
    "elif month == 7:\n",
    "    print(\"July\")\n",
    "elif month == 8:\n",
    "    print(\"August\")\n",
    "elif month == 9:\n",
    "    print(\"September\")\n",
    "elif month == 10:\n",
    "    print(\"October\")\n",
    "elif month == 11:\n",
    "    print(\"November\")\n",
    "elif month == 12:\n",
    "    print(\"December\")\n",
    "else:\n",
    "    print(\"Month number not supported.\")"
   ]
  },
  {
   "cell_type": "markdown",
   "id": "326f735b",
   "metadata": {},
   "source": [
    "```{solution-end}\n",
    "```\n",
    "\n",
    "## Exercise 8\n",
    "```{solution-start} month-match\n",
    ":label: month-match-solution\n",
    "```"
   ]
  },
  {
   "cell_type": "code",
   "execution_count": 7,
   "id": "86ff54a5",
   "metadata": {},
   "outputs": [
    {
     "name": "stdout",
     "output_type": "stream",
     "text": [
      "Month number not supported.\n"
     ]
    }
   ],
   "source": [
    "#specify month you want to get the name of\n",
    "month = 0\n",
    "\n",
    "match month:\n",
    "    case 1:\n",
    "        print(\"January\")\n",
    "    case 2:\n",
    "        print(\"February\")\n",
    "    case 3:\n",
    "        print(\"March\")\n",
    "    case 4:\n",
    "        print(\"April\")\n",
    "    case 5:\n",
    "        print(\"May\")\n",
    "    case 6:\n",
    "        print(\"June\")\n",
    "    case 7:\n",
    "        print(\"July\")\n",
    "    case 8:\n",
    "        print(\"August\")\n",
    "    case 9:\n",
    "        print(\"September\")\n",
    "    case 10:\n",
    "        print(\"October\")\n",
    "    case 11:\n",
    "        print(\"November\")\n",
    "    case 12:\n",
    "        print(\"December\")\n",
    "    case _:\n",
    "        print(\"Month number not supported.\")"
   ]
  },
  {
   "cell_type": "markdown",
   "id": "7673b177",
   "metadata": {},
   "source": [
    "```{solution-end}\n",
    "```\n",
    "\n",
    "## Exercise 9\n",
    "```{solution-start} for-exercise\n",
    ":label: for-exercise-solution\n",
    "```"
   ]
  },
  {
   "cell_type": "code",
   "execution_count": 8,
   "id": "64a11235",
   "metadata": {},
   "outputs": [
    {
     "name": "stdout",
     "output_type": "stream",
     "text": [
      "keep\n",
      "calm\n",
      "and\n",
      "carry\n",
      "on\n"
     ]
    }
   ],
   "source": [
    "l = [\"keep\", \"calm\", \"and\", \"carry\", \"on\"]\n",
    "\n",
    "for s in l:\n",
    "    print(s)"
   ]
  },
  {
   "cell_type": "markdown",
   "id": "c908ced1",
   "metadata": {},
   "source": [
    "```{solution-end}\n",
    "```\n",
    "\n",
    "## Exercise 10\n",
    "```{solution-start} range-exercise\n",
    ":label: range-exercise-solution\n",
    "```\n",
    "1. Solutions are in the Example column in {numref}`range`.\n",
    "2."
   ]
  },
  {
   "cell_type": "code",
   "execution_count": 9,
   "id": "b34c22b0",
   "metadata": {},
   "outputs": [
    {
     "name": "stdout",
     "output_type": "stream",
     "text": [
      "Hello World!\n",
      "Hello World!\n",
      "Hello World!\n"
     ]
    }
   ],
   "source": [
    "for i in range(3):\n",
    "    print(\"Hello World!\")"
   ]
  },
  {
   "cell_type": "markdown",
   "id": "a5124cf0",
   "metadata": {},
   "source": [
    "```{solution-end}\n",
    "```\n",
    "\n",
    "## Exercise 11\n",
    "```{solution-start} break-continue\n",
    ":label: break-continue-solution\n",
    "```\n",
    "1:"
   ]
  },
  {
   "cell_type": "code",
   "execution_count": 10,
   "id": "282d336c",
   "metadata": {},
   "outputs": [
    {
     "name": "stdout",
     "output_type": "stream",
     "text": [
      "Current Letter : s\n",
      "Current Letter : u\n",
      "Current Letter : p\n",
      "Current Letter : e\n",
      "Current Letter : r\n",
      "Current Letter : c\n",
      "I am now outside of the for loop\n"
     ]
    }
   ],
   "source": [
    "for letter in 'supercalifragilisticexpialidocious':  #1\n",
    "   print('Current Letter :', letter)                 #2\n",
    "   if letter == 'c':                                 #3\n",
    "      break                                          #4\n",
    "                                                     #5\n",
    "print(\"I am now outside of the for loop\")            #6"
   ]
  },
  {
   "cell_type": "markdown",
   "id": "48aad819",
   "metadata": {},
   "source": [
    "In the code above, the `print` statement in line 2 is at the same indentation as the `if` statement in line 3.  This means that when the `for` loop executes \n",
    "it will first execute this `print` statement (line 2) and then the `if` statement (line 3). Because of this, the \"c\" character is printed before \n",
    "the `for` loop can break.  When the `for` loop breaks, the loop does not continue its iterations and so the next line of code outside the `for` loop\n",
    "(line 6) is executed next.    \n",
    "\n",
    "2:"
   ]
  },
  {
   "cell_type": "code",
   "execution_count": 11,
   "id": "00fc62e9",
   "metadata": {},
   "outputs": [
    {
     "name": "stdout",
     "output_type": "stream",
     "text": [
      "Even number: 0\n",
      "Odd number:  0\n",
      "Odd number:  1\n",
      "Even number: 2\n",
      "Odd number:  2\n",
      "Odd number:  3\n",
      "Even number: 4\n",
      "Odd number:  4\n",
      "Odd number:  5\n",
      "Even number: 6\n",
      "Odd number:  6\n",
      "Odd number:  7\n",
      "Even number: 8\n",
      "Odd number:  8\n",
      "Odd number:  9\n"
     ]
    }
   ],
   "source": [
    "for i in range(10):                #1\n",
    "    if i % 2 == 0:                 #2\n",
    "        print(\"Even number:\", i)   #3\n",
    "    print(\"Odd number: \", i)       #4"
   ]
  },
  {
   "cell_type": "markdown",
   "id": "7b3a1705",
   "metadata": {},
   "source": [
    "Since `continue` was removed, no code inside the loop is skipped and both line 3 and line 4 are executed in each iteration of the loop.\n",
    "```{solution-end}\n",
    "```\n",
    "\n",
    "\n",
    "\n",
    "```{solution-start} num-prog\n",
    ":label: num-prog-solution\n",
    "```\n",
    "```{code-block}\n",
    "x = 0\n",
    "print(\"Welcome to the number program.\")\n",
    "print(\"To quit program enter -1\")\n",
    "\n",
    "# repeat the loop until x is -1\n",
    "while x != -1:\n",
    "    x = int(input(\"Enter a number:\")) # we use int() to convert user input to an int\n",
    "```\n",
    "```{solution-end}\n",
    "```\n",
    "\n",
    "\n",
    "```{solution-start} fibonacci\n",
    ":label: fibonacci-solution\n",
    "```"
   ]
  },
  {
   "cell_type": "code",
   "execution_count": 12,
   "id": "8b64f453",
   "metadata": {},
   "outputs": [
    {
     "name": "stdout",
     "output_type": "stream",
     "text": [
      "0\n",
      "1\n",
      "1\n",
      "2\n",
      "3\n",
      "5\n",
      "8\n",
      "13\n",
      "21\n",
      "34\n",
      "55\n",
      "89\n"
     ]
    }
   ],
   "source": [
    "a, b = 0, 1\n",
    "while a < 100:\n",
    "    print(a)\n",
    "    a, b = b, a+b"
   ]
  },
  {
   "cell_type": "markdown",
   "id": "40334319",
   "metadata": {},
   "source": [
    "```{tip}\n",
    "To print a comma separated list instead replace `print(a)` with `print(a, end=',')` in line 3.  The `end` parameter takes as \n",
    "an argument a string appended after the last value (default is a newline if unspecified).  Use `help(print)` in console to \n",
    "learn more about the parameters that `print()` has.\n",
    "```\n",
    "\n",
    "```{solution-end}\n",
    "```"
   ]
  }
 ],
 "metadata": {
  "jupytext": {
   "formats": "md:myst",
   "text_representation": {
    "extension": ".md",
    "format_name": "myst"
   }
  },
  "kernelspec": {
   "display_name": "Python 3",
   "language": "python",
   "name": "python3"
  },
  "language_info": {
   "codemirror_mode": {
    "name": "ipython",
    "version": 3
   },
   "file_extension": ".py",
   "mimetype": "text/x-python",
   "name": "python",
   "nbconvert_exporter": "python",
   "pygments_lexer": "ipython3",
   "version": "3.10.4"
  },
  "source_map": [
   11,
   28,
   54,
   63,
   121,
   129,
   149,
   160,
   164,
   176,
   181,
   189,
   219,
   227,
   258,
   266,
   271,
   281,
   284,
   293,
   300,
   307,
   312,
   338,
   343
  ]
 },
 "nbformat": 4,
 "nbformat_minor": 5
}