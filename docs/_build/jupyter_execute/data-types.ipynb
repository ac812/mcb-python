{
 "cells": [
  {
   "cell_type": "markdown",
   "id": "4ec2f58f",
   "metadata": {},
   "source": [
    "# Data Types\n",
    "Data can be of many forms.  Python has several built-in data types.  The most commonly used data-types are below:\n",
    "\n",
    "```{list-table} Common data-types in Python\n",
    ":header-rows: 1\n",
    ":name: data-types-table\n",
    "\n",
    "* - Data Type\n",
    "  - Description\n",
    "  - Example\n",
    "* - `int`\n",
    "  - Integers (whole numbers)\n",
    "  - 40\n",
    "* - `float`\n",
    "  - Numbers with decimal points (default)\n",
    "  - 27.5\n",
    "* - `Decimal`\n",
    "  - Numbers with decimal points (high precision)\n",
    "  - 27.5\n",
    "* - `str`\n",
    "  - Strings; sequence of characters\n",
    "  - \"Hello World!\"\n",
    "* - `bool`\n",
    "  - Boolean; can only be `True` or `False`\n",
    "  - \n",
    "```\n",
    "\n",
    "## Float vs Decimal\n",
    "When creating a variable and assign it a decimal number, that variable is automatically created of type \n",
    "`float` in Python.  This should be fine for most of the time but one issue is that some decimals are not represented \n",
    "precisely with float as seen in the example below."
   ]
  },
  {
   "cell_type": "code",
   "execution_count": 1,
   "id": "69c01e3d",
   "metadata": {},
   "outputs": [
    {
     "name": "stdout",
     "output_type": "stream",
     "text": [
      "Value of x is 0.30000000000000004 of type <class 'float'>\n"
     ]
    }
   ],
   "source": [
    "import decimal\n",
    "\n",
    "#use float to add 0.1 three times\n",
    "x = 0.1 + 0.1 + 0.1\n",
    "\n",
    "#check the value and data-type of x\n",
    "print(\"Value of x is\", x, \"of type\", type(x))"
   ]
  },
  {
   "cell_type": "markdown",
   "id": "c1fba758",
   "metadata": {},
   "source": [
    "As shown in the example above the `float` version is inaccurate at the 17<sup>th</sup> decimal place.  These inaccuracies\n",
    "however, are most of the time negligible. If you need high precision numbers, use `Decimal` numbers from the `decimal` \n",
    "module. `Decimal` numbers are slower to compute than `float` numbers, but they provide accurate results.  To make sure \n",
    "numbers are accurate provide the `decimal.Decimal()` function with the number value as a `string` as shown below:"
   ]
  },
  {
   "cell_type": "code",
   "execution_count": 2,
   "id": "ae64e2ad",
   "metadata": {},
   "outputs": [
    {
     "name": "stdout",
     "output_type": "stream",
     "text": [
      "Value of x is 0.3 of type <class 'decimal.Decimal'>\n"
     ]
    }
   ],
   "source": [
    "import decimal\n",
    "\n",
    "#use Decimal to add 0.1 three times\n",
    "x = decimal.Decimal(\"0.1\") + decimal.Decimal(\"0.1\") + decimal.Decimal(\"0.1\")\n",
    "\n",
    "#check the value and data-type of x\n",
    "print(\"Value of x is\", x, \"of type\", type(x))"
   ]
  },
  {
   "cell_type": "markdown",
   "id": "0fe59f10",
   "metadata": {},
   "source": [
    "## Converting data-types (type casting)\n",
    "We have already seen how to convert a `float` to a `Decimal` number.  To explicitly convert a variable from one type to another \n",
    "we use the following functions:\n",
    "\n",
    "```{list-table} Common data-types in Python\n",
    ":header-rows: 1\n",
    ":name: casting-table\n",
    "\n",
    "* - Function\n",
    "  - Description\n",
    "  - Example\n",
    "* - `int(`x`)`\n",
    "  - Returns an `int` version of number or string *x*.\n",
    "  - `int(\"22\")` returns `22`\n",
    "* - `float(`x`)`\n",
    "  - Returns a `float` version of number or string *x*.\n",
    "  - `float(22)` returns `22.0`\n",
    "* - `str(`x`)`\n",
    "  - Returns a string version of *x*.\n",
    "  - `str(22)` returns `\"22\"`\n",
    "```\n",
    "Every variable (object) in Python has a type.  The `type()` function returns the type of the object as in the example below:"
   ]
  },
  {
   "cell_type": "code",
   "execution_count": 3,
   "id": "1f7e8242",
   "metadata": {},
   "outputs": [
    {
     "name": "stdout",
     "output_type": "stream",
     "text": [
      "<class 'int'>\n",
      "<class 'str'>\n",
      "<class 'float'>\n"
     ]
    }
   ],
   "source": [
    "a, b, c = 22, \"22\", 22.0\n",
    "\n",
    "print(type(a))\n",
    "print(type(b))\n",
    "print(type(c))"
   ]
  },
  {
   "cell_type": "markdown",
   "id": "2d32abbc",
   "metadata": {},
   "source": [
    "```{tip}\n",
    "The first line is an example of **multiple assignment** where instead of assigning values to a single variable one line at a time, \n",
    "you can assign values to multiple variables on the same line.  In the example above, `a` is assigned to `22`, `b` to `\"22\"` and `c` to `22.0`.  \n",
    "```\n",
    "\n",
    "## Watching variables\n",
    "In PyCharm, checking the type of variables is much easier as PyCharm has a **Variables pane** where you can see all the variables of your existing program \n",
    "that are in memory, their type and also their values!  This is very convenient when you are writing code as you are always \n",
    "aware of what you have in memory.  The Variables pane can be found at the bottom of the screen on the right hand side in PyCharm in the Python \n",
    "Console tab as shown in the screenshot below.  This process is called **watching variables**.  \n",
    "```{figure} images/variables-pane.png\n",
    "---\n",
    "name: variables-pane\n",
    "---\n",
    "Variables pane in PyCharm.    \n",
    "It shows three variabels in memory (a,b,c), their types and their values.  \n",
    "```\n",
    "\n",
    "## Strings\n",
    "Textual data is stored in `str` objects as shown in {numref}`data-types-table`.  We can distinguish a string object as it \n",
    "is enclosed in quotes `\"\"`.\n",
    "\n",
    "### String Escape Sequences\n",
    "Strings can be enclosed in single quotes `‘ ‘` or double quotes `“ “`. In this course we will be using double quotes. \n",
    "Sometimes, you may want to include quotes as part of your string value.  This can still be done in Python by using Escape\n",
    "sequences (see example below).  Special characters are escaped with backslashes `\\` in strings.  The table below shows more Python String \n",
    "Escape sequences.\n",
    "\n",
    "```{list-table} String Escape sequences.\n",
    ":header-rows: 1\n",
    ":name: data-types-table\n",
    "\n",
    "* - Escape Sequence\n",
    "  - Translation\n",
    "* - \\'\n",
    "  - Single quote (')\n",
    "* - \\\"\n",
    "  - Double quote (\")\n",
    "* - \\\\\n",
    "  - Backslash (\\)\n",
    "* - \\t\n",
    "  - Tab\n",
    "* - \\n\n",
    "  - new line\n",
    "```\n",
    "\n",
    "Below is an example of a string that contains quotes:"
   ]
  },
  {
   "cell_type": "code",
   "execution_count": 4,
   "id": "c80c3be4",
   "metadata": {},
   "outputs": [
    {
     "name": "stdout",
     "output_type": "stream",
     "text": [
      "here is an example of 'single quotes' and \"double quotes\".\n"
     ]
    }
   ],
   "source": [
    "a = \"here is an example of 'single quotes' and \\\"double quotes\\\".\"\n",
    "print(a)"
   ]
  },
  {
   "cell_type": "markdown",
   "id": "0b6f74d6",
   "metadata": {},
   "source": [
    "If you don’t want Python to interpret escaped characters, use `r` before the string as in the example below:"
   ]
  },
  {
   "cell_type": "code",
   "execution_count": 5,
   "id": "204692ad",
   "metadata": {},
   "outputs": [
    {
     "name": "stdout",
     "output_type": "stream",
     "text": [
      "C:\\home\\textfile.txt\n"
     ]
    }
   ],
   "source": [
    "print(r\"C:\\home\\textfile.txt\")"
   ]
  },
  {
   "cell_type": "markdown",
   "id": "56f03fdb",
   "metadata": {},
   "source": [
    "### Formatted String Literals\n",
    "Another useful operation with strings are formatted string literals, also known as **f-strings**.  F-strings allow you \n",
    "to include and format Python expressions in a string. They start with `f` or `F` followed by the string and accept \n",
    "expressions enclosed in `{ }`.  To understand better how f-strings work, below is an example using strings as \n",
    "expressions:"
   ]
  },
  {
   "cell_type": "code",
   "execution_count": 6,
   "id": "0b5148c7",
   "metadata": {},
   "outputs": [
    {
     "name": "stdout",
     "output_type": "stream",
     "text": [
      "My name is Alexia and I live in Cambridge\n"
     ]
    }
   ],
   "source": [
    "name = \"Alexia\"\n",
    "location = \"Cambridge\"\n",
    "print(f\"My name is {name} and I live in {location}\")"
   ]
  },
  {
   "cell_type": "markdown",
   "id": "b1f092c0",
   "metadata": {},
   "source": [
    "Now try one with your own name and location!  \n",
    "f-strings are very useful when we need to format numbers.  To format decimal numbers up to a specified number of decimal \n",
    "places we use f-strings as following:"
   ]
  },
  {
   "cell_type": "code",
   "execution_count": 7,
   "id": "f5d6b6cc",
   "metadata": {},
   "outputs": [
    {
     "name": "stdout",
     "output_type": "stream",
     "text": [
      "The temperature is 27.8\n"
     ]
    }
   ],
   "source": [
    "temperature = 27.78823\n",
    "\n",
    "# display temperature to 1 decimal place\n",
    "print(f\"The temperature is {temperature:.1f}\")"
   ]
  },
  {
   "cell_type": "markdown",
   "id": "6e2c7563",
   "metadata": {},
   "source": [
    "Here temperature is the `float` we want to print. After the `:` is the specification of how many decimal places we want it\n",
    "to be printed `.1f`.\n",
    "\n",
    "\n",
    "\n",
    "## Immutable objects\n",
    "In Python, the built-in data types we have looked at so far, such as `str`, `int`, `float`, `Decimal`, `bool` are \n",
    "immutable.  This means, that once a value is assigned to them, that object cannot be changed. Every time we create a \n",
    "variable in Python and assign it a value, that value is created as an object in memory with a **unique object ID**.  If \n",
    "an object with the same value already exists in memory, however, Python will make your new variable point to this existing\n",
    "object in memory.\n",
    "\n",
    "To understand better how objects are created in memory the example below shows a step-by-step process of what happens\n",
    "in memory when we create new variables and assign values to variables. \n",
    "\n",
    "\n",
    "```{figure} images/immutable-variables.png\n",
    "---\n",
    "name: immutable\n",
    "---\n",
    "Example of object references and objects.   \n",
    "rc is the reference count (see [Garbage Collection](#garbage-collection) section).\n",
    "```\n",
    "\n",
    "If you want to check whether a variable is referencing the same object as another variable or not, use the `id()` function, \n",
    "which given a variable name as an argument, it returns the ID of an object in memory that the variable is pointing to. \n",
    "The code below further confirms the pointers shown in {numref}`immutable` by using the `id()` function."
   ]
  },
  {
   "cell_type": "code",
   "execution_count": 8,
   "id": "5d931da3",
   "metadata": {},
   "outputs": [
    {
     "name": "stdout",
     "output_type": "stream",
     "text": [
      "Step A\n",
      "a is referencing object 140494286128144 in memory\n",
      "\n",
      "Step B\n",
      "a is referencing object 140494286128144 in memory\n",
      "b is referencing object 140494286128144 in memory\n",
      "\n",
      "Step C\n",
      "a is referencing object 140494051990832 in memory\n",
      "b is referencing object 140494286128144 in memory\n",
      "\n",
      "Step D\n",
      "a is referencing object 140494051990832 in memory\n",
      "b is referencing object 140494051990832 in memory\n"
     ]
    }
   ],
   "source": [
    "# Step A\n",
    "print(\"Step A\")\n",
    "a = 26\n",
    "print(\"a is referencing object\", id(a), \"in memory\")\n",
    "\n",
    "# Step B\n",
    "print(\"\\nStep B\")\n",
    "b = a\n",
    "print(\"a is referencing object\", id(a), \"in memory\")\n",
    "print(\"b is referencing object\", id(b), \"in memory\")\n",
    "\n",
    "# Step C\n",
    "print(\"\\nStep C\")\n",
    "a = \"MCB\"\n",
    "print(\"a is referencing object\", id(a), \"in memory\")\n",
    "print(\"b is referencing object\", id(b), \"in memory\")\n",
    "\n",
    "# Step D\n",
    "print(\"\\nStep D\")\n",
    "b = a\n",
    "print(\"a is referencing object\", id(a), \"in memory\")\n",
    "print(\"b is referencing object\", id(b), \"in memory\")"
   ]
  },
  {
   "cell_type": "markdown",
   "id": "de269de1",
   "metadata": {},
   "source": [
    "## Garbage collection\n",
    "All this memory management is done automatically for you in Python and you do not need to worry about allocating or \n",
    "freeing memory (as the case with some low level programming languages such as C).  Objects are garbage collected when they\n",
    "have no object references pointing to them (such as the object with the value of 26 in the example above, at the end of the example code).  This \n",
    "process is known as **reference counting**.  When an object in memory has no variables pointing to it, it essentially \n",
    "means that the current program code does not need it anymore, so Python is free to garbage collect it.  For the garbage \n",
    "collection process to be triggered there is a threshold number of objects that need to be exceeded, that is, garbage\n",
    "collection is not done immediately after an object has a reference count of 0.  \n",
    "\n",
    "```{exercise} Variables and their types\n",
    ":label: variables-types\n",
    "\n",
    "**Level:** {octicon}`star-fill;1em;sd-text-warning` {octicon}`star;1em;sd-text-warning` {octicon}`star;1em;sd-text-warning`\n",
    "\n",
    "In this exercise we are going to explore the values and types of variables after performing oerations on them.  Watch the \n",
    "values of these variables in PyCharm as you proceed through the exercise.\n",
    "\n",
    "Perform the following tasks:\n",
    "1. Create two variables `a` and `b` and assign them the value of `10`.\n",
    "2. Print the value and type of `a` and `b`.\n",
    "3. Assign `a` to `22`.\n",
    "4. What is the value of `a` and `b`?  What are their types?\n",
    "5. Create a new variable `c` with the value of $a\\div3$.\n",
    "6. Print the value of `c` to 2 decimal places and its type.\n",
    "7. Convert `c` to an integer and assign this result to variable `d`.\n",
    "8. What is the value and type of `d`? Why do you think `d` has lost its fractional part from `c`?\n",
    "```"
   ]
  }
 ],
 "metadata": {
  "jupytext": {
   "formats": "md:myst",
   "text_representation": {
    "extension": ".md",
    "format_name": "myst"
   }
  },
  "kernelspec": {
   "display_name": "Python 3",
   "language": "python",
   "name": "python3"
  },
  "language_info": {
   "codemirror_mode": {
    "name": "ipython",
    "version": 3
   },
   "file_extension": ".py",
   "mimetype": "text/x-python",
   "name": "python",
   "nbconvert_exporter": "python",
   "pygments_lexer": "ipython3",
   "version": "3.10.4"
  },
  "source_map": [
   11,
   45,
   53,
   59,
   67,
   92,
   98,
   147,
   150,
   153,
   155,
   163,
   167,
   172,
   177,
   206,
   229
  ]
 },
 "nbformat": 4,
 "nbformat_minor": 5
}