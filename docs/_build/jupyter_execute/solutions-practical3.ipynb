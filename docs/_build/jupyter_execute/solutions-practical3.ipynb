{
 "cells": [
  {
   "cell_type": "markdown",
   "id": "6b3fc6ef",
   "metadata": {},
   "source": [
    "# Practical 3 Solutions\n",
    "\n",
    "```{solution-start} exploring-df\n",
    ":label: exploring-df-solution\n",
    ":class: dropdown\n",
    "```\n",
    "1. `df` is a DataFrame object.  One of the ways you could get this is via the `type` function:"
   ]
  },
  {
   "cell_type": "code",
   "execution_count": 1,
   "id": "bddc0807",
   "metadata": {},
   "outputs": [
    {
     "data": {
      "text/plain": [
       "pandas.core.frame.DataFrame"
      ]
     },
     "execution_count": 1,
     "metadata": {},
     "output_type": "execute_result"
    }
   ],
   "source": [
    "import pandas as pd\n",
    "\n",
    "df = pd.read_csv(\"data/world-bank-1_data.csv\")\n",
    "type(df)"
   ]
  },
  {
   "cell_type": "markdown",
   "id": "5b67fd0c",
   "metadata": {},
   "source": [
    "2.,"
   ]
  },
  {
   "cell_type": "code",
   "execution_count": 2,
   "id": "f279648d",
   "metadata": {},
   "outputs": [
    {
     "data": {
      "text/plain": [
       "(3038, 11)"
      ]
     },
     "execution_count": 2,
     "metadata": {},
     "output_type": "execute_result"
    }
   ],
   "source": [
    "# this returns a tuple in the format of (number of rows, number of columns)\n",
    "df.shape"
   ]
  },
  {
   "cell_type": "markdown",
   "id": "be0530d7",
   "metadata": {},
   "source": [
    "3.,"
   ]
  },
  {
   "cell_type": "code",
   "execution_count": 3,
   "id": "5c4dc869",
   "metadata": {},
   "outputs": [
    {
     "data": {
      "text/plain": [
       "country                object\n",
       "year                    int64\n",
       "population_m          float64\n",
       "population_f          float64\n",
       "population_t          float64\n",
       "population_density    float64\n",
       "land_area             float64\n",
       "life_expectancy_f     float64\n",
       "life_expectancy_m     float64\n",
       "life_expectancy_t     float64\n",
       "co2_emissions_pc      float64\n",
       "dtype: object"
      ]
     },
     "execution_count": 3,
     "metadata": {},
     "output_type": "execute_result"
    }
   ],
   "source": [
    "df.dtypes"
   ]
  },
  {
   "cell_type": "markdown",
   "id": "f24180bd",
   "metadata": {},
   "source": [
    "```{solution-end}\n",
    "```\n",
    "\n",
    "```{solution-start} slicing-df\n",
    ":label: slicing-df-solution\n",
    ":class: dropdown\n",
    "```\n",
    "1."
   ]
  },
  {
   "cell_type": "code",
   "execution_count": 4,
   "id": "545741d6",
   "metadata": {
    "tags": [
     "output_scroll"
    ]
   },
   "outputs": [
    {
     "data": {
      "text/html": [
       "<div>\n",
       "<style scoped>\n",
       "    .dataframe tbody tr th:only-of-type {\n",
       "        vertical-align: middle;\n",
       "    }\n",
       "\n",
       "    .dataframe tbody tr th {\n",
       "        vertical-align: top;\n",
       "    }\n",
       "\n",
       "    .dataframe thead th {\n",
       "        text-align: right;\n",
       "    }\n",
       "</style>\n",
       "<table border=\"1\" class=\"dataframe\">\n",
       "  <thead>\n",
       "    <tr style=\"text-align: right;\">\n",
       "      <th></th>\n",
       "      <th>country</th>\n",
       "      <th>year</th>\n",
       "      <th>population_m</th>\n",
       "    </tr>\n",
       "  </thead>\n",
       "  <tbody>\n",
       "    <tr>\n",
       "      <th>0</th>\n",
       "      <td>Afghanistan</td>\n",
       "      <td>2000</td>\n",
       "      <td>10689508.0</td>\n",
       "    </tr>\n",
       "    <tr>\n",
       "      <th>1</th>\n",
       "      <td>Afghanistan</td>\n",
       "      <td>2001</td>\n",
       "      <td>11117754.0</td>\n",
       "    </tr>\n",
       "    <tr>\n",
       "      <th>2</th>\n",
       "      <td>Afghanistan</td>\n",
       "      <td>2002</td>\n",
       "      <td>11642106.0</td>\n",
       "    </tr>\n",
       "    <tr>\n",
       "      <th>3</th>\n",
       "      <td>Afghanistan</td>\n",
       "      <td>2003</td>\n",
       "      <td>12214634.0</td>\n",
       "    </tr>\n",
       "    <tr>\n",
       "      <th>4</th>\n",
       "      <td>Afghanistan</td>\n",
       "      <td>2004</td>\n",
       "      <td>12763726.0</td>\n",
       "    </tr>\n",
       "    <tr>\n",
       "      <th>...</th>\n",
       "      <td>...</td>\n",
       "      <td>...</td>\n",
       "      <td>...</td>\n",
       "    </tr>\n",
       "    <tr>\n",
       "      <th>3033</th>\n",
       "      <td>Zimbabwe</td>\n",
       "      <td>2016</td>\n",
       "      <td>6674206.0</td>\n",
       "    </tr>\n",
       "    <tr>\n",
       "      <th>3034</th>\n",
       "      <td>Zimbabwe</td>\n",
       "      <td>2017</td>\n",
       "      <td>6777054.0</td>\n",
       "    </tr>\n",
       "    <tr>\n",
       "      <th>3035</th>\n",
       "      <td>Zimbabwe</td>\n",
       "      <td>2018</td>\n",
       "      <td>6879119.0</td>\n",
       "    </tr>\n",
       "    <tr>\n",
       "      <th>3036</th>\n",
       "      <td>Zimbabwe</td>\n",
       "      <td>2019</td>\n",
       "      <td>6983353.0</td>\n",
       "    </tr>\n",
       "    <tr>\n",
       "      <th>3037</th>\n",
       "      <td>Zimbabwe</td>\n",
       "      <td>2020</td>\n",
       "      <td>7092010.0</td>\n",
       "    </tr>\n",
       "  </tbody>\n",
       "</table>\n",
       "<p>3038 rows × 3 columns</p>\n",
       "</div>"
      ],
      "text/plain": [
       "          country  year  population_m\n",
       "0     Afghanistan  2000    10689508.0\n",
       "1     Afghanistan  2001    11117754.0\n",
       "2     Afghanistan  2002    11642106.0\n",
       "3     Afghanistan  2003    12214634.0\n",
       "4     Afghanistan  2004    12763726.0\n",
       "...           ...   ...           ...\n",
       "3033     Zimbabwe  2016     6674206.0\n",
       "3034     Zimbabwe  2017     6777054.0\n",
       "3035     Zimbabwe  2018     6879119.0\n",
       "3036     Zimbabwe  2019     6983353.0\n",
       "3037     Zimbabwe  2020     7092010.0\n",
       "\n",
       "[3038 rows x 3 columns]"
      ]
     },
     "execution_count": 4,
     "metadata": {},
     "output_type": "execute_result"
    }
   ],
   "source": [
    "df.iloc[ : , 0:3]"
   ]
  },
  {
   "cell_type": "markdown",
   "id": "c6e72f51",
   "metadata": {},
   "source": [
    "2.,"
   ]
  },
  {
   "cell_type": "code",
   "execution_count": 5,
   "id": "06f2dbd6",
   "metadata": {
    "tags": [
     "output_scroll"
    ]
   },
   "outputs": [
    {
     "data": {
      "text/html": [
       "<div>\n",
       "<style scoped>\n",
       "    .dataframe tbody tr th:only-of-type {\n",
       "        vertical-align: middle;\n",
       "    }\n",
       "\n",
       "    .dataframe tbody tr th {\n",
       "        vertical-align: top;\n",
       "    }\n",
       "\n",
       "    .dataframe thead th {\n",
       "        text-align: right;\n",
       "    }\n",
       "</style>\n",
       "<table border=\"1\" class=\"dataframe\">\n",
       "  <thead>\n",
       "    <tr style=\"text-align: right;\">\n",
       "      <th></th>\n",
       "      <th>country</th>\n",
       "      <th>year</th>\n",
       "      <th>population_m</th>\n",
       "      <th>population_f</th>\n",
       "      <th>population_t</th>\n",
       "      <th>population_density</th>\n",
       "      <th>land_area</th>\n",
       "      <th>life_expectancy_f</th>\n",
       "      <th>life_expectancy_m</th>\n",
       "      <th>life_expectancy_t</th>\n",
       "      <th>co2_emissions_pc</th>\n",
       "    </tr>\n",
       "  </thead>\n",
       "  <tbody>\n",
       "    <tr>\n",
       "      <th>0</th>\n",
       "      <td>Afghanistan</td>\n",
       "      <td>2000</td>\n",
       "      <td>10689508.0</td>\n",
       "      <td>10090449.0</td>\n",
       "      <td>20779957.0</td>\n",
       "      <td>31.859861</td>\n",
       "      <td>652230.0</td>\n",
       "      <td>57.120</td>\n",
       "      <td>54.663</td>\n",
       "      <td>55.841</td>\n",
       "      <td>0.036574</td>\n",
       "    </tr>\n",
       "    <tr>\n",
       "      <th>1</th>\n",
       "      <td>Afghanistan</td>\n",
       "      <td>2001</td>\n",
       "      <td>11117754.0</td>\n",
       "      <td>10489238.0</td>\n",
       "      <td>21606992.0</td>\n",
       "      <td>33.127872</td>\n",
       "      <td>652230.0</td>\n",
       "      <td>57.596</td>\n",
       "      <td>55.119</td>\n",
       "      <td>56.308</td>\n",
       "      <td>0.033785</td>\n",
       "    </tr>\n",
       "    <tr>\n",
       "      <th>2</th>\n",
       "      <td>Afghanistan</td>\n",
       "      <td>2002</td>\n",
       "      <td>11642106.0</td>\n",
       "      <td>10958668.0</td>\n",
       "      <td>22600774.0</td>\n",
       "      <td>34.651540</td>\n",
       "      <td>652230.0</td>\n",
       "      <td>58.080</td>\n",
       "      <td>55.583</td>\n",
       "      <td>56.784</td>\n",
       "      <td>0.045574</td>\n",
       "    </tr>\n",
       "  </tbody>\n",
       "</table>\n",
       "</div>"
      ],
      "text/plain": [
       "       country  year  population_m  population_f  population_t  \\\n",
       "0  Afghanistan  2000    10689508.0    10090449.0    20779957.0   \n",
       "1  Afghanistan  2001    11117754.0    10489238.0    21606992.0   \n",
       "2  Afghanistan  2002    11642106.0    10958668.0    22600774.0   \n",
       "\n",
       "   population_density  land_area  life_expectancy_f  life_expectancy_m  \\\n",
       "0           31.859861   652230.0             57.120             54.663   \n",
       "1           33.127872   652230.0             57.596             55.119   \n",
       "2           34.651540   652230.0             58.080             55.583   \n",
       "\n",
       "   life_expectancy_t  co2_emissions_pc  \n",
       "0             55.841          0.036574  \n",
       "1             56.308          0.033785  \n",
       "2             56.784          0.045574  "
      ]
     },
     "execution_count": 5,
     "metadata": {},
     "output_type": "execute_result"
    }
   ],
   "source": [
    "df.iloc[0:3]"
   ]
  },
  {
   "cell_type": "markdown",
   "id": "d1f6ced1",
   "metadata": {},
   "source": [
    "3.,"
   ]
  },
  {
   "cell_type": "code",
   "execution_count": 6,
   "id": "20810efe",
   "metadata": {
    "tags": [
     "output_scroll"
    ]
   },
   "outputs": [
    {
     "data": {
      "text/plain": [
       "country               Afghanistan\n",
       "year                         2000\n",
       "population_m           10689508.0\n",
       "population_f           10090449.0\n",
       "population_t           20779957.0\n",
       "population_density      31.859861\n",
       "land_area                652230.0\n",
       "life_expectancy_f           57.12\n",
       "life_expectancy_m          54.663\n",
       "life_expectancy_t          55.841\n",
       "co2_emissions_pc         0.036574\n",
       "Name: 0, dtype: object"
      ]
     },
     "execution_count": 6,
     "metadata": {},
     "output_type": "execute_result"
    }
   ],
   "source": [
    "df.iloc[0]"
   ]
  },
  {
   "cell_type": "markdown",
   "id": "2dc0c7e2",
   "metadata": {},
   "source": [
    "4.,"
   ]
  },
  {
   "cell_type": "code",
   "execution_count": 7,
   "id": "7f655f8e",
   "metadata": {
    "tags": [
     "output_scroll"
    ]
   },
   "outputs": [
    {
     "data": {
      "text/plain": [
       "1217    Hong Kong SAR, China\n",
       "Name: country, dtype: object"
      ]
     },
     "execution_count": 7,
     "metadata": {},
     "output_type": "execute_result"
    }
   ],
   "source": [
    "#get min and max values of life_expectancy_max\n",
    "le_min = df[\"life_expectancy_t\"].min()\n",
    "le_max = df[\"life_expectancy_t\"].max()\n",
    "\n",
    "# get country with lowest life expectancy\n",
    "df.loc[df[\"life_expectancy_t\"] == le_min, \"country\"]\n",
    "\n",
    "# get country with highest life expectancy\n",
    "df.loc[df[\"life_expectancy_t\"] == le_max, \"country\"]"
   ]
  },
  {
   "cell_type": "markdown",
   "id": "8a15a587",
   "metadata": {},
   "source": [
    "5.,"
   ]
  },
  {
   "cell_type": "code",
   "execution_count": 8,
   "id": "ec06588a",
   "metadata": {
    "tags": [
     "output_scroll",
     "raises-exception"
    ]
   },
   "outputs": [
    {
     "data": {
      "text/plain": [
       "(14, 11)"
      ]
     },
     "execution_count": 8,
     "metadata": {},
     "output_type": "execute_result"
    }
   ],
   "source": [
    "uk_data = df[df[\"country\"] == \"United Kingdom\"]\n",
    "\n",
    "# get number of rows and columns from DataFrame - 14 records were returned\n",
    "uk_data.shape"
   ]
  },
  {
   "cell_type": "markdown",
   "id": "03830411",
   "metadata": {},
   "source": [
    "6.,"
   ]
  },
  {
   "cell_type": "code",
   "execution_count": 9,
   "id": "48cb57fb",
   "metadata": {},
   "outputs": [
    {
     "data": {
      "text/plain": [
       "(1, 11)"
      ]
     },
     "execution_count": 9,
     "metadata": {},
     "output_type": "execute_result"
    }
   ],
   "source": [
    "uk_2020 = df[(df[\"country\"] == \"United Kingdom\") & (df[\"year\"] == 2020)]\n",
    "\n",
    "# get number of rows and columns from DataFrame - 1 record was returned\n",
    "uk_2020.shape"
   ]
  },
  {
   "cell_type": "markdown",
   "id": "00996591",
   "metadata": {},
   "source": [
    "7.,"
   ]
  },
  {
   "cell_type": "code",
   "execution_count": 10,
   "id": "a25ce135",
   "metadata": {
    "tags": [
     "output_scroll",
     "raises-exception"
    ]
   },
   "outputs": [
    {
     "ename": "TypeError",
     "evalue": "Cannot perform 'rand_' with a dtyped [int64] array and scalar of type [bool]",
     "output_type": "error",
     "traceback": [
      "\u001b[0;31m---------------------------------------------------------------------------\u001b[0m",
      "\u001b[0;31mTypeError\u001b[0m                                 Traceback (most recent call last)",
      "File \u001b[0;32m~/.conda/envs/MCBPractical2/lib/python3.10/site-packages/pandas/core/ops/array_ops.py:301\u001b[0m, in \u001b[0;36mna_logical_op\u001b[0;34m(x, y, op)\u001b[0m\n\u001b[1;32m    292\u001b[0m \u001b[38;5;28;01mtry\u001b[39;00m:\n\u001b[1;32m    293\u001b[0m     \u001b[38;5;66;03m# For exposition, write:\u001b[39;00m\n\u001b[1;32m    294\u001b[0m     \u001b[38;5;66;03m#  yarr = isinstance(y, np.ndarray)\u001b[39;00m\n\u001b[0;32m   (...)\u001b[0m\n\u001b[1;32m    299\u001b[0m     \u001b[38;5;66;03m# Then Cases where this goes through without raising include:\u001b[39;00m\n\u001b[1;32m    300\u001b[0m     \u001b[38;5;66;03m#  (xint or xbool) and (yint or bool)\u001b[39;00m\n\u001b[0;32m--> 301\u001b[0m     result \u001b[38;5;241m=\u001b[39m \u001b[43mop\u001b[49m\u001b[43m(\u001b[49m\u001b[43mx\u001b[49m\u001b[43m,\u001b[49m\u001b[43m \u001b[49m\u001b[43my\u001b[49m\u001b[43m)\u001b[49m\n\u001b[1;32m    302\u001b[0m \u001b[38;5;28;01mexcept\u001b[39;00m \u001b[38;5;167;01mTypeError\u001b[39;00m:\n",
      "File \u001b[0;32m~/.conda/envs/MCBPractical2/lib/python3.10/site-packages/pandas/core/roperator.py:52\u001b[0m, in \u001b[0;36mrand_\u001b[0;34m(left, right)\u001b[0m\n\u001b[1;32m     51\u001b[0m \u001b[38;5;28;01mdef\u001b[39;00m \u001b[38;5;21mrand_\u001b[39m(left, right):\n\u001b[0;32m---> 52\u001b[0m     \u001b[38;5;28;01mreturn\u001b[39;00m \u001b[43moperator\u001b[49m\u001b[38;5;241;43m.\u001b[39;49m\u001b[43mand_\u001b[49m\u001b[43m(\u001b[49m\u001b[43mright\u001b[49m\u001b[43m,\u001b[49m\u001b[43m \u001b[49m\u001b[43mleft\u001b[49m\u001b[43m)\u001b[49m\n",
      "\u001b[0;31mTypeError\u001b[0m: ufunc 'bitwise_and' not supported for the input types, and the inputs could not be safely coerced to any supported types according to the casting rule ''safe''",
      "\nDuring handling of the above exception, another exception occurred:\n",
      "\u001b[0;31mValueError\u001b[0m                                Traceback (most recent call last)",
      "File \u001b[0;32m~/.conda/envs/MCBPractical2/lib/python3.10/site-packages/pandas/core/ops/array_ops.py:315\u001b[0m, in \u001b[0;36mna_logical_op\u001b[0;34m(x, y, op)\u001b[0m\n\u001b[1;32m    314\u001b[0m \u001b[38;5;28;01mtry\u001b[39;00m:\n\u001b[0;32m--> 315\u001b[0m     result \u001b[38;5;241m=\u001b[39m \u001b[43mlibops\u001b[49m\u001b[38;5;241;43m.\u001b[39;49m\u001b[43mscalar_binop\u001b[49m\u001b[43m(\u001b[49m\u001b[43mx\u001b[49m\u001b[43m,\u001b[49m\u001b[43m \u001b[49m\u001b[43my\u001b[49m\u001b[43m,\u001b[49m\u001b[43m \u001b[49m\u001b[43mop\u001b[49m\u001b[43m)\u001b[49m\n\u001b[1;32m    316\u001b[0m \u001b[38;5;28;01mexcept\u001b[39;00m (\n\u001b[1;32m    317\u001b[0m     \u001b[38;5;167;01mTypeError\u001b[39;00m,\n\u001b[1;32m    318\u001b[0m     \u001b[38;5;167;01mValueError\u001b[39;00m,\n\u001b[0;32m   (...)\u001b[0m\n\u001b[1;32m    321\u001b[0m     \u001b[38;5;167;01mNotImplementedError\u001b[39;00m,\n\u001b[1;32m    322\u001b[0m ) \u001b[38;5;28;01mas\u001b[39;00m err:\n",
      "File \u001b[0;32m~/.conda/envs/MCBPractical2/lib/python3.10/site-packages/pandas/_libs/ops.pyx:180\u001b[0m, in \u001b[0;36mpandas._libs.ops.scalar_binop\u001b[0;34m()\u001b[0m\n",
      "\u001b[0;31mValueError\u001b[0m: Buffer dtype mismatch, expected 'Python object' but got 'long'",
      "\nThe above exception was the direct cause of the following exception:\n",
      "\u001b[0;31mTypeError\u001b[0m                                 Traceback (most recent call last)",
      "Input \u001b[0;32mIn [10]\u001b[0m, in \u001b[0;36m<cell line: 1>\u001b[0;34m()\u001b[0m\n\u001b[0;32m----> 1\u001b[0m df[df[\u001b[38;5;124m\"\u001b[39m\u001b[38;5;124mcountry\u001b[39m\u001b[38;5;124m\"\u001b[39m] \u001b[38;5;241m==\u001b[39m \u001b[38;5;124;43m\"\u001b[39;49m\u001b[38;5;124;43mUnited Kingdom\u001b[39;49m\u001b[38;5;124;43m\"\u001b[39;49m\u001b[43m \u001b[49m\u001b[38;5;241;43m&\u001b[39;49m\u001b[43m \u001b[49m\u001b[43mdf\u001b[49m\u001b[43m[\u001b[49m\u001b[38;5;124;43m\"\u001b[39;49m\u001b[38;5;124;43myear\u001b[39;49m\u001b[38;5;124;43m\"\u001b[39;49m\u001b[43m]\u001b[49m \u001b[38;5;241m==\u001b[39m \u001b[38;5;241m2020\u001b[39m]\n",
      "File \u001b[0;32m~/.conda/envs/MCBPractical2/lib/python3.10/site-packages/pandas/core/ops/common.py:70\u001b[0m, in \u001b[0;36m_unpack_zerodim_and_defer.<locals>.new_method\u001b[0;34m(self, other)\u001b[0m\n\u001b[1;32m     66\u001b[0m             \u001b[38;5;28;01mreturn\u001b[39;00m \u001b[38;5;28mNotImplemented\u001b[39m\n\u001b[1;32m     68\u001b[0m other \u001b[38;5;241m=\u001b[39m item_from_zerodim(other)\n\u001b[0;32m---> 70\u001b[0m \u001b[38;5;28;01mreturn\u001b[39;00m \u001b[43mmethod\u001b[49m\u001b[43m(\u001b[49m\u001b[38;5;28;43mself\u001b[39;49m\u001b[43m,\u001b[49m\u001b[43m \u001b[49m\u001b[43mother\u001b[49m\u001b[43m)\u001b[49m\n",
      "File \u001b[0;32m~/.conda/envs/MCBPractical2/lib/python3.10/site-packages/pandas/core/arraylike.py:74\u001b[0m, in \u001b[0;36mOpsMixin.__rand__\u001b[0;34m(self, other)\u001b[0m\n\u001b[1;32m     72\u001b[0m \u001b[38;5;129m@unpack_zerodim_and_defer\u001b[39m(\u001b[38;5;124m\"\u001b[39m\u001b[38;5;124m__rand__\u001b[39m\u001b[38;5;124m\"\u001b[39m)\n\u001b[1;32m     73\u001b[0m \u001b[38;5;28;01mdef\u001b[39;00m \u001b[38;5;21m__rand__\u001b[39m(\u001b[38;5;28mself\u001b[39m, other):\n\u001b[0;32m---> 74\u001b[0m     \u001b[38;5;28;01mreturn\u001b[39;00m \u001b[38;5;28;43mself\u001b[39;49m\u001b[38;5;241;43m.\u001b[39;49m\u001b[43m_logical_method\u001b[49m\u001b[43m(\u001b[49m\u001b[43mother\u001b[49m\u001b[43m,\u001b[49m\u001b[43m \u001b[49m\u001b[43mroperator\u001b[49m\u001b[38;5;241;43m.\u001b[39;49m\u001b[43mrand_\u001b[49m\u001b[43m)\u001b[49m\n",
      "File \u001b[0;32m~/.conda/envs/MCBPractical2/lib/python3.10/site-packages/pandas/core/series.py:5634\u001b[0m, in \u001b[0;36mSeries._logical_method\u001b[0;34m(self, other, op)\u001b[0m\n\u001b[1;32m   5631\u001b[0m lvalues \u001b[38;5;241m=\u001b[39m \u001b[38;5;28mself\u001b[39m\u001b[38;5;241m.\u001b[39m_values\n\u001b[1;32m   5632\u001b[0m rvalues \u001b[38;5;241m=\u001b[39m extract_array(other, extract_numpy\u001b[38;5;241m=\u001b[39m\u001b[38;5;28;01mTrue\u001b[39;00m, extract_range\u001b[38;5;241m=\u001b[39m\u001b[38;5;28;01mTrue\u001b[39;00m)\n\u001b[0;32m-> 5634\u001b[0m res_values \u001b[38;5;241m=\u001b[39m \u001b[43mops\u001b[49m\u001b[38;5;241;43m.\u001b[39;49m\u001b[43mlogical_op\u001b[49m\u001b[43m(\u001b[49m\u001b[43mlvalues\u001b[49m\u001b[43m,\u001b[49m\u001b[43m \u001b[49m\u001b[43mrvalues\u001b[49m\u001b[43m,\u001b[49m\u001b[43m \u001b[49m\u001b[43mop\u001b[49m\u001b[43m)\u001b[49m\n\u001b[1;32m   5635\u001b[0m \u001b[38;5;28;01mreturn\u001b[39;00m \u001b[38;5;28mself\u001b[39m\u001b[38;5;241m.\u001b[39m_construct_result(res_values, name\u001b[38;5;241m=\u001b[39mres_name)\n",
      "File \u001b[0;32m~/.conda/envs/MCBPractical2/lib/python3.10/site-packages/pandas/core/ops/array_ops.py:391\u001b[0m, in \u001b[0;36mlogical_op\u001b[0;34m(left, right, op)\u001b[0m\n\u001b[1;32m    387\u001b[0m \u001b[38;5;66;03m# For int vs int `^`, `|`, `&` are bitwise operators and return\u001b[39;00m\n\u001b[1;32m    388\u001b[0m \u001b[38;5;66;03m#   integer dtypes.  Otherwise these are boolean ops\u001b[39;00m\n\u001b[1;32m    389\u001b[0m filler \u001b[38;5;241m=\u001b[39m fill_int \u001b[38;5;28;01mif\u001b[39;00m is_self_int_dtype \u001b[38;5;129;01mand\u001b[39;00m is_other_int_dtype \u001b[38;5;28;01melse\u001b[39;00m fill_bool\n\u001b[0;32m--> 391\u001b[0m res_values \u001b[38;5;241m=\u001b[39m \u001b[43mna_logical_op\u001b[49m\u001b[43m(\u001b[49m\u001b[43mlvalues\u001b[49m\u001b[43m,\u001b[49m\u001b[43m \u001b[49m\u001b[43mrvalues\u001b[49m\u001b[43m,\u001b[49m\u001b[43m \u001b[49m\u001b[43mop\u001b[49m\u001b[43m)\u001b[49m\n\u001b[1;32m    392\u001b[0m \u001b[38;5;66;03m# error: Cannot call function of unknown type\u001b[39;00m\n\u001b[1;32m    393\u001b[0m res_values \u001b[38;5;241m=\u001b[39m filler(res_values)  \u001b[38;5;66;03m# type: ignore[operator]\u001b[39;00m\n",
      "File \u001b[0;32m~/.conda/envs/MCBPractical2/lib/python3.10/site-packages/pandas/core/ops/array_ops.py:324\u001b[0m, in \u001b[0;36mna_logical_op\u001b[0;34m(x, y, op)\u001b[0m\n\u001b[1;32m    316\u001b[0m         \u001b[38;5;28;01mexcept\u001b[39;00m (\n\u001b[1;32m    317\u001b[0m             \u001b[38;5;167;01mTypeError\u001b[39;00m,\n\u001b[1;32m    318\u001b[0m             \u001b[38;5;167;01mValueError\u001b[39;00m,\n\u001b[0;32m   (...)\u001b[0m\n\u001b[1;32m    321\u001b[0m             \u001b[38;5;167;01mNotImplementedError\u001b[39;00m,\n\u001b[1;32m    322\u001b[0m         ) \u001b[38;5;28;01mas\u001b[39;00m err:\n\u001b[1;32m    323\u001b[0m             typ \u001b[38;5;241m=\u001b[39m \u001b[38;5;28mtype\u001b[39m(y)\u001b[38;5;241m.\u001b[39m\u001b[38;5;18m__name__\u001b[39m\n\u001b[0;32m--> 324\u001b[0m             \u001b[38;5;28;01mraise\u001b[39;00m \u001b[38;5;167;01mTypeError\u001b[39;00m(\n\u001b[1;32m    325\u001b[0m                 \u001b[38;5;124mf\u001b[39m\u001b[38;5;124m\"\u001b[39m\u001b[38;5;124mCannot perform \u001b[39m\u001b[38;5;124m'\u001b[39m\u001b[38;5;132;01m{\u001b[39;00mop\u001b[38;5;241m.\u001b[39m\u001b[38;5;18m__name__\u001b[39m\u001b[38;5;132;01m}\u001b[39;00m\u001b[38;5;124m'\u001b[39m\u001b[38;5;124m with a dtyped [\u001b[39m\u001b[38;5;132;01m{\u001b[39;00mx\u001b[38;5;241m.\u001b[39mdtype\u001b[38;5;132;01m}\u001b[39;00m\u001b[38;5;124m] array \u001b[39m\u001b[38;5;124m\"\u001b[39m\n\u001b[1;32m    326\u001b[0m                 \u001b[38;5;124mf\u001b[39m\u001b[38;5;124m\"\u001b[39m\u001b[38;5;124mand scalar of type [\u001b[39m\u001b[38;5;132;01m{\u001b[39;00mtyp\u001b[38;5;132;01m}\u001b[39;00m\u001b[38;5;124m]\u001b[39m\u001b[38;5;124m\"\u001b[39m\n\u001b[1;32m    327\u001b[0m             ) \u001b[38;5;28;01mfrom\u001b[39;00m \u001b[38;5;21;01merr\u001b[39;00m\n\u001b[1;32m    329\u001b[0m \u001b[38;5;28;01mreturn\u001b[39;00m result\u001b[38;5;241m.\u001b[39mreshape(x\u001b[38;5;241m.\u001b[39mshape)\n",
      "\u001b[0;31mTypeError\u001b[0m: Cannot perform 'rand_' with a dtyped [int64] array and scalar of type [bool]"
     ]
    }
   ],
   "source": [
    "df[df[\"country\"] == \"United Kingdom\" & df[\"year\"] == 2020]"
   ]
  },
  {
   "cell_type": "markdown",
   "id": "9b1709de",
   "metadata": {},
   "source": [
    "```{solution-end}\n",
    "```\n",
    "\n",
    "\n",
    "```{solution-start} create-columns\n",
    ":label: create-columns-solution\n",
    ":class: dropdown\n",
    "```"
   ]
  },
  {
   "cell_type": "code",
   "execution_count": 11,
   "id": "645845e1",
   "metadata": {},
   "outputs": [],
   "source": [
    "df[\"population_m_f\"] = df[\"population_m\"] / df[\"population_t\"]\n",
    "df[\"population_f_f\"] = df[\"population_f\"] / df[\"population_t\"]"
   ]
  },
  {
   "cell_type": "markdown",
   "id": "e8584bf5",
   "metadata": {},
   "source": [
    "```{solution-end}\n",
    "```\n",
    "\n",
    "```{solution-start} save-df-file\n",
    ":label: save-df-file-solution\n",
    ":class: dropdown\n",
    "```\n",
    "1."
   ]
  },
  {
   "cell_type": "code",
   "execution_count": 12,
   "id": "5250f53c",
   "metadata": {},
   "outputs": [],
   "source": [
    "# Pandas does not have a to_txt() function so we need to adapt the to_csv() method.\n",
    "df.to_csv(\"data/world-bank-1_data.txt\", sep=\"\\t\")"
   ]
  },
  {
   "cell_type": "markdown",
   "id": "8adb21e7",
   "metadata": {},
   "source": [
    "3.,"
   ]
  },
  {
   "cell_type": "code",
   "execution_count": 13,
   "id": "639ebf84",
   "metadata": {
    "tags": [
     "output_scroll"
    ]
   },
   "outputs": [
    {
     "data": {
      "text/html": [
       "<div>\n",
       "<style scoped>\n",
       "    .dataframe tbody tr th:only-of-type {\n",
       "        vertical-align: middle;\n",
       "    }\n",
       "\n",
       "    .dataframe tbody tr th {\n",
       "        vertical-align: top;\n",
       "    }\n",
       "\n",
       "    .dataframe thead th {\n",
       "        text-align: right;\n",
       "    }\n",
       "</style>\n",
       "<table border=\"1\" class=\"dataframe\">\n",
       "  <thead>\n",
       "    <tr style=\"text-align: right;\">\n",
       "      <th></th>\n",
       "      <th>Unnamed: 0</th>\n",
       "      <th>country</th>\n",
       "      <th>year</th>\n",
       "      <th>population_m</th>\n",
       "      <th>population_f</th>\n",
       "      <th>population_t</th>\n",
       "      <th>population_density</th>\n",
       "      <th>land_area</th>\n",
       "      <th>life_expectancy_f</th>\n",
       "      <th>life_expectancy_m</th>\n",
       "      <th>life_expectancy_t</th>\n",
       "      <th>co2_emissions_pc</th>\n",
       "      <th>population_m_f</th>\n",
       "      <th>population_f_f</th>\n",
       "    </tr>\n",
       "  </thead>\n",
       "  <tbody>\n",
       "    <tr>\n",
       "      <th>0</th>\n",
       "      <td>0</td>\n",
       "      <td>Afghanistan</td>\n",
       "      <td>2000</td>\n",
       "      <td>10689508.0</td>\n",
       "      <td>10090449.0</td>\n",
       "      <td>20779957.0</td>\n",
       "      <td>31.859861</td>\n",
       "      <td>652230.0</td>\n",
       "      <td>57.120</td>\n",
       "      <td>54.663</td>\n",
       "      <td>55.841</td>\n",
       "      <td>0.036574</td>\n",
       "      <td>0.514414</td>\n",
       "      <td>0.485586</td>\n",
       "    </tr>\n",
       "    <tr>\n",
       "      <th>1</th>\n",
       "      <td>1</td>\n",
       "      <td>Afghanistan</td>\n",
       "      <td>2001</td>\n",
       "      <td>11117754.0</td>\n",
       "      <td>10489238.0</td>\n",
       "      <td>21606992.0</td>\n",
       "      <td>33.127872</td>\n",
       "      <td>652230.0</td>\n",
       "      <td>57.596</td>\n",
       "      <td>55.119</td>\n",
       "      <td>56.308</td>\n",
       "      <td>0.033785</td>\n",
       "      <td>0.514544</td>\n",
       "      <td>0.485456</td>\n",
       "    </tr>\n",
       "    <tr>\n",
       "      <th>2</th>\n",
       "      <td>2</td>\n",
       "      <td>Afghanistan</td>\n",
       "      <td>2002</td>\n",
       "      <td>11642106.0</td>\n",
       "      <td>10958668.0</td>\n",
       "      <td>22600774.0</td>\n",
       "      <td>34.651540</td>\n",
       "      <td>652230.0</td>\n",
       "      <td>58.080</td>\n",
       "      <td>55.583</td>\n",
       "      <td>56.784</td>\n",
       "      <td>0.045574</td>\n",
       "      <td>0.515120</td>\n",
       "      <td>0.484880</td>\n",
       "    </tr>\n",
       "    <tr>\n",
       "      <th>3</th>\n",
       "      <td>3</td>\n",
       "      <td>Afghanistan</td>\n",
       "      <td>2003</td>\n",
       "      <td>12214634.0</td>\n",
       "      <td>11466237.0</td>\n",
       "      <td>23680871.0</td>\n",
       "      <td>36.307546</td>\n",
       "      <td>652230.0</td>\n",
       "      <td>58.578</td>\n",
       "      <td>56.056</td>\n",
       "      <td>57.271</td>\n",
       "      <td>0.051518</td>\n",
       "      <td>0.515802</td>\n",
       "      <td>0.484198</td>\n",
       "    </tr>\n",
       "    <tr>\n",
       "      <th>4</th>\n",
       "      <td>4</td>\n",
       "      <td>Afghanistan</td>\n",
       "      <td>2004</td>\n",
       "      <td>12763726.0</td>\n",
       "      <td>11962963.0</td>\n",
       "      <td>24726689.0</td>\n",
       "      <td>37.910996</td>\n",
       "      <td>652230.0</td>\n",
       "      <td>59.093</td>\n",
       "      <td>56.542</td>\n",
       "      <td>57.772</td>\n",
       "      <td>0.041655</td>\n",
       "      <td>0.516192</td>\n",
       "      <td>0.483808</td>\n",
       "    </tr>\n",
       "  </tbody>\n",
       "</table>\n",
       "</div>"
      ],
      "text/plain": [
       "   Unnamed: 0      country  year  population_m  population_f  population_t  \\\n",
       "0           0  Afghanistan  2000    10689508.0    10090449.0    20779957.0   \n",
       "1           1  Afghanistan  2001    11117754.0    10489238.0    21606992.0   \n",
       "2           2  Afghanistan  2002    11642106.0    10958668.0    22600774.0   \n",
       "3           3  Afghanistan  2003    12214634.0    11466237.0    23680871.0   \n",
       "4           4  Afghanistan  2004    12763726.0    11962963.0    24726689.0   \n",
       "\n",
       "   population_density  land_area  life_expectancy_f  life_expectancy_m  \\\n",
       "0           31.859861   652230.0             57.120             54.663   \n",
       "1           33.127872   652230.0             57.596             55.119   \n",
       "2           34.651540   652230.0             58.080             55.583   \n",
       "3           36.307546   652230.0             58.578             56.056   \n",
       "4           37.910996   652230.0             59.093             56.542   \n",
       "\n",
       "   life_expectancy_t  co2_emissions_pc  population_m_f  population_f_f  \n",
       "0             55.841          0.036574        0.514414        0.485586  \n",
       "1             56.308          0.033785        0.514544        0.485456  \n",
       "2             56.784          0.045574        0.515120        0.484880  \n",
       "3             57.271          0.051518        0.515802        0.484198  \n",
       "4             57.772          0.041655        0.516192        0.483808  "
      ]
     },
     "execution_count": 13,
     "metadata": {},
     "output_type": "execute_result"
    }
   ],
   "source": [
    "df2 = pd.read_csv(\"data/world-bank-1_data.txt\", sep=\"\\t\")\n",
    "df2.head()"
   ]
  },
  {
   "cell_type": "markdown",
   "id": "6c321b1b",
   "metadata": {},
   "source": [
    "```{solution-end}\n",
    "```\n",
    "\n",
    "\n",
    "```{solution-start} highlight_scatter\n",
    ":label: highlight_scatter-solution\n",
    ":class: dropdown\n",
    "```"
   ]
  },
  {
   "cell_type": "code",
   "execution_count": 14,
   "id": "8cf69bf7",
   "metadata": {},
   "outputs": [
    {
     "name": "stderr",
     "output_type": "stream",
     "text": [
      "/var/folders/sz/n8rnbx3134g78k44vpsr7s340000gn/T/ipykernel_56226/2089022769.py:20: UserWarning: Matplotlib is currently using module://matplotlib_inline.backend_inline, which is a non-GUI backend, so cannot show the figure.\n",
      "  fig.show()\n"
     ]
    },
    {
     "data": {
      "image/png": "[encoded data removed]",
      "text/plain": [
       "<Figure size 640x480 with 1 Axes>"
      ]
     },
     "metadata": {
      "filenames": {
       "image/png": "/Users/alexiacardona/PycharmProjects/MCBPracticals/docs/_build/jupyter_execute/solutions-practical3_27_1.png"
      }
     },
     "output_type": "display_data"
    }
   ],
   "source": [
    "import matplotlib.pyplot as plt\n",
    "\n",
    "fig, ax = plt.subplots()\n",
    "\n",
    "# extract records where co2_emissions_pc are > 40\n",
    "highlight = df[df[\"co2_emissions_pc\"] > 40]\n",
    "\n",
    "# extract columns to represent x and y axis for plot\n",
    "x = df[\"life_expectancy_t\"].to_numpy()\n",
    "y = df[\"co2_emissions_pc\"].to_numpy()\n",
    "x_highlight = highlight[\"life_expectancy_t\"].to_numpy()\n",
    "y_highlight = highlight[\"co2_emissions_pc\"].to_numpy()\n",
    "\n",
    "# first plot all the points as black points\n",
    "ax.scatter(x, y, c=\"black\")\n",
    "\n",
    "#the plot the points present in highlight in red\n",
    "ax.scatter(x_highlight, y_highlight, c=\"red\")\n",
    "\n",
    "fig.show()"
   ]
  },
  {
   "cell_type": "markdown",
   "id": "39413368",
   "metadata": {},
   "source": [
    "```{solution-end}\n",
    "```"
   ]
  }
 ],
 "metadata": {
  "jupytext": {
   "formats": "md:myst",
   "text_representation": {
    "extension": ".md",
    "format_name": "myst"
   }
  },
  "kernelspec": {
   "display_name": "Python 3",
   "language": "python",
   "name": "python3"
  },
  "language_info": {
   "codemirror_mode": {
    "name": "ipython",
    "version": 3
   },
   "file_extension": ".py",
   "mimetype": "text/x-python",
   "name": "python",
   "nbconvert_exporter": "python",
   "pygments_lexer": "ipython3",
   "version": "3.10.4"
  },
  "source_map": [
   11,
   20,
   25,
   28,
   31,
   34,
   36,
   46,
   49,
   51,
   54,
   57,
   60,
   62,
   73,
   75,
   82,
   84,
   89,
   91,
   94,
   103,
   106,
   115,
   118,
   121,
   125,
   136,
   157
  ]
 },
 "nbformat": 4,
 "nbformat_minor": 5
}