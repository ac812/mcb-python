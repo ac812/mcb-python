{
 "cells": [
  {
   "cell_type": "markdown",
   "id": "0893fa13",
   "metadata": {},
   "source": [
    "# Creating functions\n",
    "\n",
    "We have previously seen [what functions are and how to call them](calling-functions).  Functions are a good way to structure \n",
    "your code into useful chunks, each chunk being responsible for a particular task.  This makes functions are a good way \n",
    "to create **reusable code**. In this section we are going to learn how to create a function of our own from scratch. \n",
    "Functions in Python are defined in the following way:\n",
    "\n",
    "```{image} images/def-function.png\n",
    ":align: center\n",
    "```\n",
    "where *parameters* is an optional list of zero or more comma separated parameters, and suite is one or more statements. The example code below defines a simple \n",
    "function which is named `hello`.  The function does not take any arguments, and it just prints *\"Hello World!\"* back."
   ]
  },
  {
   "cell_type": "code",
   "execution_count": 1,
   "id": "59bf2e01",
   "metadata": {},
   "outputs": [],
   "source": [
    "def hello():\n",
    "    print(\"Hello World!\")"
   ]
  },
  {
   "cell_type": "markdown",
   "id": "9792475a",
   "metadata": {},
   "source": [
    "The definition of a function will not execute the code in it.  To execute the code in a function, you would need to call the \n",
    "function first:"
   ]
  },
  {
   "cell_type": "code",
   "execution_count": 2,
   "id": "cfabfd3e",
   "metadata": {},
   "outputs": [
    {
     "name": "stdout",
     "output_type": "stream",
     "text": [
      "Hello World!\n"
     ]
    }
   ],
   "source": [
    "hello()"
   ]
  },
  {
   "cell_type": "markdown",
   "id": "e412ea51",
   "metadata": {},
   "source": [
    "The example below is another simple function, but this time, the function defines two parameters: `num1` and `num2`. The \n",
    "function below also returns the value of the sum of the two numbers (**arguments**) passed into the function by using the \n",
    "**`return`** keyword."
   ]
  },
  {
   "cell_type": "code",
   "execution_count": 3,
   "id": "6927f960",
   "metadata": {},
   "outputs": [],
   "source": [
    "def sum_two_numbers(num1, num2):\n",
    "    return num1 + num2"
   ]
  },
  {
   "cell_type": "markdown",
   "id": "b651b2cf",
   "metadata": {},
   "source": [
    "Again, to execute the code inside the function we would need to call it.  The `sum_two_numbers()` function expects two arguments, below is \n",
    "an example."
   ]
  },
  {
   "cell_type": "code",
   "execution_count": 4,
   "id": "34ef5c0d",
   "metadata": {},
   "outputs": [
    {
     "name": "stdout",
     "output_type": "stream",
     "text": [
      "2\n"
     ]
    }
   ],
   "source": [
    "print(sum_two_numbers(1, 1))"
   ]
  },
  {
   "cell_type": "markdown",
   "id": "b822fca9",
   "metadata": {},
   "source": [
    "If you do not supply two arguments, the `sum_two_numbers()` would raise an error:"
   ]
  },
  {
   "cell_type": "code",
   "execution_count": 5,
   "id": "c5e9cac8",
   "metadata": {
    "tags": [
     "raises-exception"
    ]
   },
   "outputs": [
    {
     "ename": "TypeError",
     "evalue": "sum_two_numbers() missing 1 required positional argument: 'num2'",
     "output_type": "error",
     "traceback": [
      "\u001b[0;31m---------------------------------------------------------------------------\u001b[0m",
      "\u001b[0;31mTypeError\u001b[0m                                 Traceback (most recent call last)",
      "Cell \u001b[0;32mIn [5], line 1\u001b[0m\n\u001b[0;32m----> 1\u001b[0m sum_two_numbers(\u001b[38;5;241m1\u001b[39m)\n",
      "\u001b[0;31mTypeError\u001b[0m: sum_two_numbers() missing 1 required positional argument: 'num2'"
     ]
    }
   ],
   "source": [
    "sum_two_numbers(1)"
   ]
  },
  {
   "cell_type": "markdown",
   "id": "c85c6852",
   "metadata": {},
   "source": [
    ":::{card} Parameters vs Arguments\n",
    ":class-card: sd-bg-light\n",
    "\n",
    "{bdg-info}`Programming concept`\n",
    "\n",
    "A **parameter** is the variable defined in the function definition inside the parentheses, for example, `num1` and `num2` are parameters\n",
    "in the `sum_two_numbers()` function defined above.\n",
    "\n",
    "An **argument** is the value that is passed into the function when it is called. In the call `sum_two_number(1, 1)` 1 and 1 are arguments.\n",
    ":::\n",
    "\n",
    "## Default argument values\n",
    "You can assign default values to arguments in your functions, such that, if a user decides to call your function without \n",
    "specifying all the arguments, the arguments that were not passed would have already a predefined value.  For example, in the code \n",
    "below, `sum_two_numbers()` assigns default values of 0 to parameters `num1` and `num2`."
   ]
  },
  {
   "cell_type": "code",
   "execution_count": 6,
   "id": "370d6db9",
   "metadata": {},
   "outputs": [],
   "source": [
    "def sum_two_numbers(num1=0, num2=0):\n",
    "    return num1 + num2"
   ]
  },
  {
   "cell_type": "markdown",
   "id": "e034db29",
   "metadata": {},
   "source": [
    "Using the `sum_to_numbers()` function as defined in the code above, the `sum_two_number()` function can be called in \n",
    "different ways which are shown below:"
   ]
  },
  {
   "cell_type": "code",
   "execution_count": 7,
   "id": "7aa3a6fd",
   "metadata": {},
   "outputs": [
    {
     "name": "stdout",
     "output_type": "stream",
     "text": [
      "0\n",
      "0\n",
      "0\n"
     ]
    }
   ],
   "source": [
    "print(sum_two_numbers())       #1\n",
    "print(sum_two_numbers(0, 0))   #2\n",
    "print(sum_two_numbers(0))      #3"
   ]
  },
  {
   "cell_type": "markdown",
   "id": "e4da0026",
   "metadata": {},
   "source": [
    "The three function calls above return the same result, that of 0.  Line 1 makes use of both default values for `num1` and `num2`. \n",
    "Line 2 passes the values of 0 to `num1` and 0 to `num2` which happen to be the same as their default values.  Line 3 \n",
    "calls `sum_two_numbers()` with only one argument.  The argument passed is assigned to the first parameter defined in the function, in this \n",
    "case this is `num1`.  `num2` will use its default value since no argument was passed for `num2`.  \n",
    "\n",
    "## Positional vs keyword arguments"
   ]
  },
  {
   "cell_type": "code",
   "execution_count": 8,
   "id": "a6c14640",
   "metadata": {},
   "outputs": [
    {
     "name": "stdout",
     "output_type": "stream",
     "text": [
      "5\n",
      "5\n",
      "5\n"
     ]
    }
   ],
   "source": [
    "print(sum_two_numbers(1, 4))             #positional arguments\n",
    "print(sum_two_numbers(num1=1, num2=4))   #keyword arguments\n",
    "print(sum_two_numbers(num2=4, num1=1))   #not recommended"
   ]
  },
  {
   "cell_type": "markdown",
   "id": "864dc3c4",
   "metadata": {},
   "source": [
    "The function calls above also return the same result, this time it is 5.  However, the function calls above helps us understand \n",
    "better the difference between positional and keyword arguments.  **Positional arguments** are arguments that are passed without \n",
    "specifying the name of the parameter in the call.  The first line is an example of calling the `sum_two_numbers()` function \n",
    "with positional arguments.  **Keyword arguments** call functions using the name of the parameters in the form $parameter = value$. \n",
    "The second line is an example of calling the `sum_two_numbers()` function using keyword arguments.  The third call is also an \n",
    "example of the function call using keyword arguments.  However, it is not recommended to call functions in this way as essentially line 3 \n",
    "is not following the same order the parameters were defined in the definition, which could lead to confusion.\n",
    "\n",
    "The calls in the code below are all not recommended as they mix positional and keyword arguments in the same call. \n",
    "As a good practice, you should call functions using either positional arguments, or else using keyword arguments, but not both."
   ]
  },
  {
   "cell_type": "code",
   "execution_count": 9,
   "id": "9283b170",
   "metadata": {
    "tags": [
     "raises-exception"
    ]
   },
   "outputs": [
    {
     "ename": "SyntaxError",
     "evalue": "positional argument follows keyword argument (648565061.py, line 2)",
     "output_type": "error",
     "traceback": [
      "\u001b[0;36m  Cell \u001b[0;32mIn [9], line 2\u001b[0;36m\u001b[0m\n\u001b[0;31m    print(sum_two_numbers(num1=1, 4))  #this raises an error\u001b[0m\n\u001b[0m                                   ^\u001b[0m\n\u001b[0;31mSyntaxError\u001b[0m\u001b[0;31m:\u001b[0m positional argument follows keyword argument\n"
     ]
    }
   ],
   "source": [
    "print(sum_two_numbers(1, num2=4))\n",
    "print(sum_two_numbers(num1=1, 4))  #this raises an error\n",
    "print(sum_two_numbers(1, num1=1))  #this raises an error"
   ]
  },
  {
   "cell_type": "markdown",
   "id": "09332bca",
   "metadata": {},
   "source": [
    "Line 2 raises an error as you cannot have a keyword argument followed by a positional one.  Line 3 also raises an error \n",
    "as both arguments are using the same argument; in the first argument, 1 is assigned to `num1` and the second argument is also assigning 1 to `num1`.\n",
    "\n",
    "```{exercise} Exploring creating functions\n",
    ":label: exploring-creating-functions\n",
    "\n",
    "**Level:** {octicon}`star-fill;1em;sd-text-warning` {octicon}`star;1em;sd-text-warning` {octicon}`star;1em;sd-text-warning`\n",
    "\n",
    "Use the `sum_two_numbers()` function:  \n",
    "a. What happens if you remove the `return` keyword from its definition?  \n",
    "b. Explore default argument values, positional and keyword arguments by trying the code above and calling the `sum_two_numbers()` function with different arguments.\n",
    "\n",
    "```\n",
    "\n",
    "```{exercise} The Fibonacci sequence function\n",
    ":label: fibonacci-function\n",
    "\n",
    "**Level:** {octicon}`star-fill;1em;sd-text-warning` {octicon}`star-fill;1em;sd-text-warning` {octicon}`star-fill;1em;sd-text-warning`\n",
    "\n",
    "Rewrite the solution of {numref}`fibonacci` such that, you create a function `fibonacci` that takes parameter `n` as an input, \n",
    "and returns the list of Fibonacci sequence numbers from 0 to `n`.\n",
    "\n",
    "```\n",
    "\n",
    "## Documentation Strings\n",
    "Now that we know how to create functions, it is important that we start creating them using good programming practice. We \n",
    "should follow the definition of a function with **docstrings**.  Docstrings is short for Python Documentation Strings.  docstrings\n",
    "associate documentation with Python modules, functions and classes. To generate docstrings you need to use triple quotes as shown in the example below."
   ]
  },
  {
   "cell_type": "code",
   "execution_count": 10,
   "id": "194b0c0d",
   "metadata": {},
   "outputs": [],
   "source": [
    "def sum_two_numbers(num1=0, num2=0):\n",
    "    \"\"\"\n",
    "    Returns the sum of two numbers.\n",
    "    :param num1: first number\n",
    "    :param num2: second number\n",
    "    :return: Returns the sum of num1 and num2.\n",
    "    \"\"\"\n",
    "    return num1 + num2"
   ]
  },
  {
   "cell_type": "markdown",
   "id": "1663ca31",
   "metadata": {},
   "source": [
    "PyCharm automatically generates the name of the parameters and the return statement.  Filling in the remaining details \n",
    "will ensure that we have documentation specified for the usage of our the function.  When we run code, similarly \n",
    "to comments, docstrings do not have an effect on our code.  But docstrings have the additional benefit of being associated with\n",
    "documentation, so always use docstrings to explain functions rather than comments. \n",
    "\n",
    "To check out how the documentation created looks like, either include the `help()` function in your code using the name of the \n",
    "function you have created and documented with docstrings as an argument.  For example, `help(sum_two_numbers)`.  The other way \n",
    "is to call `pydoc` from the terminal together with the name of the file where the function is saved, for example, if `sum_two_numbers()`\n",
    "was saved in `numbers.py`, then run `pydoc numbers.py` in the terminal.\n",
    "\n",
    "\n",
    "[//]: # (## Variable scope)"
   ]
  }
 ],
 "metadata": {
  "jupytext": {
   "formats": "md:myst",
   "text_representation": {
    "extension": ".md",
    "format_name": "myst"
   }
  },
  "kernelspec": {
   "display_name": "Python 3",
   "language": "python",
   "name": "python3"
  },
  "language_info": {
   "codemirror_mode": {
    "name": "ipython",
    "version": 3
   },
   "file_extension": ".py",
   "mimetype": "text/x-python",
   "name": "python",
   "nbconvert_exporter": "python",
   "pygments_lexer": "ipython3",
   "version": "3.10.4"
  },
  "source_map": [
   11,
   26,
   29,
   33,
   35,
   41,
   44,
   48,
   50,
   54,
   57,
   75,
   78,
   83,
   87,
   95,
   99,
   111,
   117,
   148,
   157
  ]
 },
 "nbformat": 4,
 "nbformat_minor": 5
}