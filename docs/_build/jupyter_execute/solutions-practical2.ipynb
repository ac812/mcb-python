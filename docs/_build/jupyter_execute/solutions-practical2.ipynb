{
 "cells": [
  {
   "cell_type": "markdown",
   "id": "a6577c2a",
   "metadata": {},
   "source": [
    "# Practical 2 Solutions\n",
    "\n",
    "```{solution-start} exploring-creating-functions\n",
    ":label: exploring-creating-functions-solution\n",
    ":class: dropdown\n",
    "```\n",
    "a."
   ]
  },
  {
   "cell_type": "code",
   "execution_count": 1,
   "id": "87a87d5a",
   "metadata": {},
   "outputs": [
    {
     "name": "stdout",
     "output_type": "stream",
     "text": [
      "None\n"
     ]
    }
   ],
   "source": [
    "def sum_two_numbers(num1, num2):\n",
    "    num1 + num2\n",
    "\n",
    "print(sum_two_numbers(1, 1))"
   ]
  },
  {
   "cell_type": "markdown",
   "id": "5be28c47",
   "metadata": {},
   "source": [
    "In general, we should always aim to create functions that return a value, as a good programming practice.  However, in Python, a function that does not \n",
    "specify a `return` statement, returns `None`by default.\n",
    "\n",
    "```{solution-end}\n",
    "```\n",
    "\n",
    "```{solution-start} fibonacci-function\n",
    ":label: fibonacci-function-solution\n",
    ":class: dropdown\n",
    "```"
   ]
  },
  {
   "cell_type": "code",
   "execution_count": 2,
   "id": "37b548b5",
   "metadata": {},
   "outputs": [
    {
     "name": "stdout",
     "output_type": "stream",
     "text": [
      "[0, 1, 1, 2, 3, 5, 8, 13, 21, 34, 55, 89]\n"
     ]
    }
   ],
   "source": [
    "def fibonacci(n):           #1      \n",
    "    fib_seq = []            #2\n",
    "    a, b = 0, 1             #3\n",
    "    while a < n:            #4\n",
    "        fib_seq.append(a)   #5\n",
    "        a, b = b, a+b       #6\n",
    "    return fib_seq          #7\n",
    "                            #8\n",
    "print(fibonacci(100))       #9"
   ]
  },
  {
   "cell_type": "markdown",
   "id": "9f496121",
   "metadata": {},
   "source": [
    "Lines 1-7 define the `fibinacci()` function.  In line 2, `fib-seq` is an empty list that be populated in the `while` loop with \n",
    "the Fibonacci sequence.  Instead of printing it, on line 5 we are adding the next item of the Fibonacci sequence to the \n",
    "`fib_seq` list.  Line 7 returns the list.  Line 9 provides 100 as an argument to the `fibonacci()` function and then prints it.\n",
    "\n",
    "```{solution-end}\n",
    "```\n",
    "\n",
    "```{solution-start} create-ndarrays\n",
    ":label: create-ndarrays-solution\n",
    ":class: dropdown\n",
    "```\n",
    "b."
   ]
  },
  {
   "cell_type": "code",
   "execution_count": 3,
   "id": "0e908115",
   "metadata": {},
   "outputs": [
    {
     "name": "stdout",
     "output_type": "stream",
     "text": [
      "Step size of sequence is: 0.05263157894736842\n"
     ]
    }
   ],
   "source": [
    "import numpy as np\n",
    "\n",
    "#retstep=True will also return the step size of the sequence generated\n",
    "np.linspace(0, 1, 20, retstep=True)\n",
    "\n",
    "a, step_size = np.linspace(0,1,20, retstep=True)\n",
    "print(f\"Step size of sequence is: {step_size}\")"
   ]
  },
  {
   "cell_type": "markdown",
   "id": "7960ee9e",
   "metadata": {},
   "source": [
    "c."
   ]
  },
  {
   "cell_type": "code",
   "execution_count": 4,
   "id": "79723131",
   "metadata": {},
   "outputs": [
    {
     "data": {
      "text/plain": [
       "array([0.1, 0.1, 0.1, 0.1, 0.1, 0.1, 0.1, 0.1, 0.1, 0.1])"
      ]
     },
     "execution_count": 4,
     "metadata": {},
     "output_type": "execute_result"
    }
   ],
   "source": [
    "np.full(10, 0.1)"
   ]
  },
  {
   "cell_type": "markdown",
   "id": "82f0c4f9",
   "metadata": {},
   "source": [
    "```{solution-end}\n",
    "```\n",
    "\n",
    "```{solution-start} dtype-ndarrays\n",
    ":label: dtype-ndarrays-solution\n",
    ":class: dropdown\n",
    "```\n",
    "1. `a` is of `dtype` `int64`.  NumPy detected that the values of the list supplied as argument are integers and so it created the `ndarray` with integer data types."
   ]
  },
  {
   "cell_type": "code",
   "execution_count": 5,
   "id": "3229047f",
   "metadata": {},
   "outputs": [
    {
     "data": {
      "text/plain": [
       "dtype('int64')"
      ]
     },
     "execution_count": 5,
     "metadata": {},
     "output_type": "execute_result"
    }
   ],
   "source": [
    "l = [55, 92, 110, 66, 75, 45, 40, 57, 55, 62]\n",
    "a = np.array(l)\n",
    "a.dtype"
   ]
  },
  {
   "cell_type": "markdown",
   "id": "2ce63d60",
   "metadata": {},
   "source": [
    "2., `b` is of `dtype` `float64`.  If we look at the documentation of [`np.zeros()`](https://numpy.org/doc/stable/reference/generated/numpy.zeros.html), we notice that it has a keyword argument `dtype=float`.  This means that by default `np.zeros()` creates arrays of `dtype` `float64`."
   ]
  },
  {
   "cell_type": "code",
   "execution_count": 6,
   "id": "786d21c0",
   "metadata": {},
   "outputs": [
    {
     "data": {
      "text/plain": [
       "dtype('float64')"
      ]
     },
     "execution_count": 6,
     "metadata": {},
     "output_type": "execute_result"
    }
   ],
   "source": [
    "b = np.zeros(3)\n",
    "b.dtype"
   ]
  },
  {
   "cell_type": "markdown",
   "id": "26ecc2e1",
   "metadata": {},
   "source": [
    "3.,  `c` is of type `<U3`.  Note that when creating strings NumPy does not use the `str` notation but instead uses a Unicode string. In this case, `U` means unicode and `3` is the length of the largest string in the array."
   ]
  },
  {
   "cell_type": "code",
   "execution_count": 7,
   "id": "30276ae8",
   "metadata": {},
   "outputs": [
    {
     "name": "stdout",
     "output_type": "stream",
     "text": [
      "['55' '92' '110' '66' '75' '45' '40' '57' '55' '62']\n"
     ]
    },
    {
     "data": {
      "text/plain": [
       "dtype('<U3')"
      ]
     },
     "execution_count": 7,
     "metadata": {},
     "output_type": "execute_result"
    }
   ],
   "source": [
    "c = np.array(l, dtype=str)\n",
    "print(c)\n",
    "c.dtype"
   ]
  },
  {
   "cell_type": "markdown",
   "id": "3634d1a6",
   "metadata": {},
   "source": [
    "```{solution-end}\n",
    "```\n",
    "\n",
    "```{solution-start} ndarrays-manip-exercise\n",
    ":label: ndarrays-manip-exercise-solution\n",
    ":class: dropdown\n",
    "```\n",
    "1. Note: NumPy array `a` is not changed, the methods return a new NumPy array object with the change requested.  \n",
    "2.  The `np.flip()` function reverses the elements of a NumPy array."
   ]
  },
  {
   "cell_type": "code",
   "execution_count": 8,
   "id": "c35502e3",
   "metadata": {},
   "outputs": [
    {
     "data": {
      "text/plain": [
       "array([110,  92,  75,  66,  62,  57,  55,  55,  45,  40])"
      ]
     },
     "execution_count": 8,
     "metadata": {},
     "output_type": "execute_result"
    }
   ],
   "source": [
    "np.flip(np.sort(a))"
   ]
  },
  {
   "cell_type": "markdown",
   "id": "56650d04",
   "metadata": {},
   "source": [
    "3.1."
   ]
  },
  {
   "cell_type": "code",
   "execution_count": 9,
   "id": "e2c2560d",
   "metadata": {},
   "outputs": [
    {
     "name": "stdout",
     "output_type": "stream",
     "text": [
      "[0 1 2 3 4 5 7 8 9]\n",
      "[1 1 2 1 2 2 1 1 3]\n"
     ]
    }
   ],
   "source": [
    "b = np.array([9, 3, 9, 8, 9, 4, 2, 0, 2, 5, 4, 7, 5, 1])\n",
    "\n",
    "#get the frequency of each value in the array\n",
    "unique, count = np.unique(b, return_counts=True) \n",
    "# unique values \n",
    "print(unique)\n",
    "# frequency of these unique values \n",
    "print(count)"
   ]
  },
  {
   "cell_type": "markdown",
   "id": "5b86a303",
   "metadata": {},
   "source": [
    "3.2."
   ]
  },
  {
   "cell_type": "code",
   "execution_count": 10,
   "id": "e2dedc8a",
   "metadata": {},
   "outputs": [
    {
     "name": "stdout",
     "output_type": "stream",
     "text": [
      "[0 1 2 3 4 5 7 8 9]\n",
      "[ 7 13  6  1  5  9 11  3  0]\n"
     ]
    }
   ],
   "source": [
    "#get the index position of the first occuring unique value\n",
    "unique, indices = np.unique(b, return_index=True)\n",
    "#unique values\n",
    "print(unique)\n",
    "# index positions of first occuring unique values \n",
    "print(indices)"
   ]
  },
  {
   "cell_type": "markdown",
   "id": "da09f62d",
   "metadata": {},
   "source": [
    "```{solution-end}\n",
    "```\n",
    "\n",
    "```{solution-start} odd-even-numpy-exercise\n",
    ":label: odd-even-numpy-exercise-solution\n",
    ":class: dropdown\n",
    "```"
   ]
  },
  {
   "cell_type": "code",
   "execution_count": 11,
   "id": "ee167953",
   "metadata": {},
   "outputs": [
    {
     "name": "stdout",
     "output_type": "stream",
     "text": [
      "Even numbers in list are: [ 92 110  66  40  62]\n",
      "Odd numbers in list are: [55 75 45 57 55]\n"
     ]
    }
   ],
   "source": [
    "a = np.array([55,  92, 110,  66,  75,  45,  40,  57,  55,  62])\n",
    "\n",
    "print(f\"Even numbers in list are: {a[a % 2 == 0]}\")\n",
    "print(f\"Odd numbers in list are: {a[a % 2 != 0]}\")"
   ]
  },
  {
   "cell_type": "markdown",
   "id": "777a6fb8",
   "metadata": {},
   "source": [
    "```{solution-end}\n",
    "```\n",
    "\n",
    "```{solution-start} math-formula-exercise\n",
    ":label: math-formula-exercise-solution\n",
    ":class: dropdown\n",
    "```"
   ]
  },
  {
   "cell_type": "code",
   "execution_count": 12,
   "id": "71b176ae",
   "metadata": {},
   "outputs": [
    {
     "name": "stdout",
     "output_type": "stream",
     "text": [
      "2.0\n"
     ]
    }
   ],
   "source": [
    "y = np.array([2,1,2,3,2,4])\n",
    "y_hat = np.array([1,1,1,2,2,1])\n",
    "\n",
    "mse = (1/6) * np.sum(np.square(y-y_hat))\n",
    "print(mse)"
   ]
  },
  {
   "cell_type": "markdown",
   "id": "25402649",
   "metadata": {},
   "source": [
    "```{solution-end}\n",
    "```\n",
    "\n",
    "```{solution-start} random-exercise\n",
    ":label: random-exercise-solution\n",
    ":class: dropdown\n",
    "```\n",
    "2., The two random numbers generated are the same (see below).  The generator needs a starting number (seed) to be able to\n",
    "generate a random variable.  Using a seed enables replication of results."
   ]
  },
  {
   "cell_type": "code",
   "execution_count": 13,
   "id": "1dc17762",
   "metadata": {},
   "outputs": [
    {
     "name": "stdout",
     "output_type": "stream",
     "text": [
      "0.22733602246716966\n",
      "0.22733602246716966\n"
     ]
    }
   ],
   "source": [
    "seed = 12345\n",
    "\n",
    "# create a generator\n",
    "rng = np.random.default_rng(seed=seed)\n",
    "rnumber = rng.random()\n",
    "print(rnumber)\n",
    "\n",
    "# create a generator\n",
    "rng = np.random.default_rng(seed=seed)\n",
    "rnumber = rng.random()\n",
    "print(rnumber)"
   ]
  },
  {
   "cell_type": "markdown",
   "id": "41979bdb",
   "metadata": {},
   "source": [
    "3.,  If you do not use a seed to initialise the generator, then a random seed value is used and it will not be possible to relicate results.\n",
    "\n",
    "4.,"
   ]
  },
  {
   "cell_type": "code",
   "execution_count": 14,
   "id": "255cc399",
   "metadata": {},
   "outputs": [
    {
     "name": "stdout",
     "output_type": "stream",
     "text": [
      "[2 2 4 4 3 2 3 2 4 5 2 5 4 1 3 5 4 2 4 2 1 2 2 3 2 4 2 1 1 3 5 3 5 4 5 5 3\n",
      " 5 3 2 3 4 2 5 2 2 2 2 0 3 2 1 3 2 2 3 2 2 3 3 2 2 2 2 3 2 3 2 4 2 5 2 4 3\n",
      " 2 4 2 1 3 3 3 2 2 4 1 5 3 3 2 2 0 2 5 6 3 2 2 6 1 3]\n"
     ]
    }
   ],
   "source": [
    "rng = np.random.default_rng(seed=seed)\n",
    "ans = rng.binomial(10, 0.3, 100)\n",
    "print(ans)"
   ]
  },
  {
   "cell_type": "markdown",
   "id": "41035a44",
   "metadata": {},
   "source": [
    "```{solution-end}\n",
    "```"
   ]
  }
 ],
 "metadata": {
  "jupytext": {
   "formats": "md:myst",
   "text_representation": {
    "extension": ".md",
    "format_name": "myst"
   }
  },
  "kernelspec": {
   "display_name": "Python 3",
   "language": "python",
   "name": "python3"
  },
  "language_info": {
   "codemirror_mode": {
    "name": "ipython",
    "version": 3
   },
   "file_extension": ".py",
   "mimetype": "text/x-python",
   "name": "python",
   "nbconvert_exporter": "python",
   "pygments_lexer": "ipython3",
   "version": "3.10.4"
  },
  "source_map": [
   11,
   20,
   25,
   36,
   46,
   59,
   67,
   69,
   71,
   80,
   84,
   86,
   89,
   91,
   95,
   106,
   108,
   110,
   119,
   121,
   128,
   136,
   141,
   149,
   155,
   165,
   177,
   181,
   185
  ]
 },
 "nbformat": 4,
 "nbformat_minor": 5
}