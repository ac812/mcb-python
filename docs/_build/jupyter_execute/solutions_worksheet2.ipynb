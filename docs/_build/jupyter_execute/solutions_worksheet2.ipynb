{
 "cells": [
  {
   "cell_type": "markdown",
   "id": "e4b85df2",
   "metadata": {},
   "source": [
    "# Worksheet 2 Solutions\n",
    "\n",
    "```{solution-start} cm-to-m\n",
    ":label: cm-to-m-solution\n",
    ":class: dropdown\n",
    "```"
   ]
  },
  {
   "cell_type": "code",
   "execution_count": 1,
   "id": "7872b0a7",
   "metadata": {},
   "outputs": [
    {
     "name": "stdout",
     "output_type": "stream",
     "text": [
      "3.45\n"
     ]
    }
   ],
   "source": [
    "def cm_to_m(n):\n",
    "    \"\"\"\n",
    "    Returns the meter conversion of a number.\n",
    "    :param n: integer containing the centimeter value to be converted.\n",
    "    :return: Returns the meter conversion of the integer argument n.\n",
    "    \"\"\"\n",
    "    return n/100\n",
    "\n",
    "print(cm_to_m(345))"
   ]
  },
  {
   "cell_type": "markdown",
   "id": "7067e844",
   "metadata": {},
   "source": [
    "```{solution-end}\n",
    "```\n",
    "\n",
    "\n",
    "```{solution-start} mark-to-class\n",
    ":label: mark-to-class-soliution\n",
    ":class: dropdown\n",
    "```"
   ]
  },
  {
   "cell_type": "code",
   "execution_count": 2,
   "id": "5f40eaa2",
   "metadata": {},
   "outputs": [
    {
     "name": "stdout",
     "output_type": "stream",
     "text": [
      "77 is in class: First\n",
      "55 is in class: Second\n"
     ]
    }
   ],
   "source": [
    "def get_grading(mark):\n",
    "    \"\"\"\n",
    "    Returns the class that the mark passed as an argument falls under.\n",
    "    :param mark: integer containing the student mark which ranges from 0 - 100.\n",
    "    :return: The class that the mark falls under.\n",
    "    \"\"\"\n",
    "    if mark > 69:\n",
    "        return \"First\"\n",
    "    elif mark > 49:\n",
    "        return \"Second\"\n",
    "    elif mark > 39:\n",
    "        return \"Third\"\n",
    "    else:\n",
    "        return \"Fail\"\n",
    "\n",
    "print(f\"77 is in class: {get_grading(77)}\")\n",
    "print(f\"55 is in class: {get_grading(55)}\")"
   ]
  },
  {
   "cell_type": "markdown",
   "id": "5d14989b",
   "metadata": {},
   "source": [
    "```{solution-end}\n",
    "```\n",
    "\n",
    "\n",
    "```{solution-start} even-numbers-function\n",
    ":label: even-numbers-function-soliution\n",
    ":class: dropdown\n",
    "```"
   ]
  },
  {
   "cell_type": "code",
   "execution_count": 3,
   "id": "b6f586d9",
   "metadata": {},
   "outputs": [
    {
     "name": "stdout",
     "output_type": "stream",
     "text": [
      "[2, 4, 6, 8]\n"
     ]
    }
   ],
   "source": [
    "def is_even_num(l):\n",
    "    \"\"\"\n",
    "    Retrurns the even numbers from a list of arguments passed as an argument to this function.\n",
    "    :param l: list of numbers.\n",
    "    :return: Even numbers from the list l passed as an argument to this function.\n",
    "    \"\"\"\n",
    "    enum = []\n",
    "    for n in l:\n",
    "        if n % 2 == 0:\n",
    "            enum.append(n)\n",
    "    return enum\n",
    "\n",
    "l = [1, 2, 3, 4, 5, 6, 7, 8, 9]\n",
    "print(is_even_num(l))"
   ]
  },
  {
   "cell_type": "markdown",
   "id": "0959837b",
   "metadata": {},
   "source": [
    "```{solution-end}\n",
    "```\n",
    "\n",
    "\n",
    "```{solution-start} bubble-sort\n",
    ":label: bubble-sort-solution\n",
    ":class: dropdown\n",
    "```"
   ]
  },
  {
   "cell_type": "code",
   "execution_count": 4,
   "id": "d6a7ae5f",
   "metadata": {},
   "outputs": [
    {
     "name": "stdout",
     "output_type": "stream",
     "text": [
      "Initial list: [3, 1, 6, 2, 4]\n",
      "Sorted list: [1, 2, 3, 4, 6]\n"
     ]
    }
   ],
   "source": [
    "def bubble_sort(x):\n",
    "    \"\"\"\n",
    "    Returns the list of integers x in ascending order.\n",
    "    :param x: list of integers\n",
    "    :return: the sorted list of integers in ascending order\n",
    "    \"\"\"\n",
    "    k = len(x)\n",
    "    for i in range(k-1):\n",
    "        for j in range(k-i-1):\n",
    "            if(l[j] > l[j+1]):\n",
    "                l[j], l[j+1] = l[j+1], l[j]\n",
    "    return l\n",
    "\n",
    "\n",
    "l = [3, 1, 6, 2, 4]\n",
    "print(f\"Initial list: {l}\")\n",
    "print(f\"Sorted list: {bubble_sort(l)}\")"
   ]
  },
  {
   "cell_type": "markdown",
   "id": "8c8c41f4",
   "metadata": {},
   "source": [
    "Note:  there are different versions of optimisations of the bubble sort that I have not included in this solution as it is \n",
    "outside the scope of this exercise.  However, if interested please look into *bubble sort algorithm optimisations*.\n",
    "```{solution-end}\n",
    "```"
   ]
  }
 ],
 "metadata": {
  "jupytext": {
   "formats": "md:myst",
   "text_representation": {
    "extension": ".md",
    "format_name": "myst"
   }
  },
  "kernelspec": {
   "display_name": "Python 3",
   "language": "python",
   "name": "python3"
  },
  "language_info": {
   "codemirror_mode": {
    "name": "ipython",
    "version": 3
   },
   "file_extension": ".py",
   "mimetype": "text/x-python",
   "name": "python",
   "nbconvert_exporter": "python",
   "pygments_lexer": "ipython3",
   "version": "3.10.4"
  },
  "source_map": [
   11,
   19,
   29,
   38,
   56,
   65,
   80,
   89,
   107
  ]
 },
 "nbformat": 4,
 "nbformat_minor": 5
}