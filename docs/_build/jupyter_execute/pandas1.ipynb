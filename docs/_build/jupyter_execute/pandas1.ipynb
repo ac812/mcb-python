{
 "cells": [
  {
   "cell_type": "markdown",
   "id": "c8699540",
   "metadata": {},
   "source": [
    "# Pandas \n",
    "\n",
    "## What is Pandas?\n",
    "Pandas is a Python package designed for data manipulation and analysis. Its name is derived from \"**pan**el **da**ta\" (not the bear!) and is also \n",
    "from \"Python data analysis\" [^ McKinney]. It is especially popular for its data structures that help process tabular data \n",
    "in a fast and efficient way. \n",
    "\n",
    "## Importing Pandas\n",
    "\n",
    "You can check whether Pandas is installed from the *Python Packages* tab in PyCharm.  If it is not, you would see an **install** \n",
    "button on the right hand side of the Python Packages pane when you search for Pandas.  Click on the *install* button if \n",
    "Pandas is not installed on your machine.\n",
    "![python-packages](images/pandas-install.png)\n",
    "\n",
    "To be able to work with Pandas we need to import the Pandas package into our Python code.  Below is the community agreed convention:"
   ]
  },
  {
   "cell_type": "code",
   "execution_count": 1,
   "id": "610a564c",
   "metadata": {},
   "outputs": [],
   "source": [
    "import pandas as pd"
   ]
  },
  {
   "cell_type": "markdown",
   "id": "95f0e408",
   "metadata": {},
   "source": [
    "## The dataset\n",
    "\n",
    "For this session we will be using data from the World Bank Data Catalog [^world-bank] from the World Development Indicators (WDI) collection \n",
    "which was transformed by Alexia Cardona for the purpose of teaching data manipulation and visualisation programming. This data is \n",
    "compiled using official international resources.\n",
    "\n",
    "Download the dataset from [here](data/world-bank-1_data.csv) and save it into a `data` folder in your PyCharm project. \n",
    "\n",
    "This dataset contains official data for each country worldwide and contains indicators on life expectancy, population, and CO2 emissions.  Below is \n",
    "the metadata of the dataset:\n",
    "\n",
    "```{list-table} Dataset Metadata\n",
    ":header-rows: 1\n",
    ":name: ndarray-manip-table\n",
    "\n",
    "* - Column name\n",
    "  - Description\n",
    "* - `country`\n",
    "  - Name of country.\n",
    "* - `year`\n",
    "  - Year data is representative of.\n",
    "* - `life_expectancy_f`\n",
    "  - Life expectancy at birth, female (years). Life expectancy at birth indicates the number of years a newborn infant would live if prevailing patterns of mortality at the time of its birth were to stay the same throughout its life.\n",
    "* - `life_expectancy_m`\n",
    "  - Life expectancy at birth, male (years).\n",
    "* - `life_expectancy_t`\n",
    "  - Life expectancy at birth, total (years).\n",
    "* - `land_area`\n",
    "  - Land area (sq. km).\n",
    "* - `population_m`\n",
    "  - Male population count.\n",
    "* - `population_f`\n",
    "  - Female population count.  \n",
    "* - `population_t`\n",
    "  - Total population count.\n",
    "```\n",
    "\n",
    "## Reading tabular data from a file\n",
    "\n",
    "Now that we have everything in place, let us start by first reading our data into our Python code.  Pandas has conventient \n",
    "functions that load files containing tabular data."
   ]
  },
  {
   "cell_type": "code",
   "execution_count": 2,
   "id": "58caa46e",
   "metadata": {},
   "outputs": [],
   "source": [
    "df = pd.read_csv(\"data/world-bank-1_data.csv\")"
   ]
  },
  {
   "cell_type": "markdown",
   "id": "df7f10b7",
   "metadata": {},
   "source": [
    "The code above reads the file `world-bank-1_data.csv` into a `DataFrame` object and creates variable `df` that points to it.\n",
    "There are other functions in Pandas that read other file formats.  You can see a list of these [here](https://pandas.pydata.org/docs/reference/io.html).\n",
    "If we run the code above in the Python Console in PyCharm we can see all this information in the Variables pane (see {numref}`dataframe-pycharm`).\n",
    "\n",
    "```{figure} images/dataframe-pycharm.png\n",
    "---\n",
    "name: dataframe-pycharm\n",
    "---\n",
    "`df` in the Variables pane in PyCharm.\n",
    "```\n",
    "\n",
    "If we click on the *View as DataFrame* link, we can actually see the value of the data that is inside `df`. \n",
    "```{figure} images/df-view.png\n",
    "---\n",
    "name: df-view\n",
    "---\n",
    "Data view of `df` in PyCharm.\n",
    "```\n",
    "\n",
    "This is the easiest way to check the data.  Checking the data through the `df` attributes in the Variables pane is not user-friendly \n",
    "for DataFrame objects due to the complexity of it. \n",
    "\n",
    "## The DataFrame \n",
    "The popularity of Pandas mainly lies with its data structure; the `DataFrame`.  The DataFrame data structure is suitable for \n",
    "data that is in tabular form (2-dimensional); data with columns and rows.  Since most of the data comes into this form, it makes the DataFrame data structure \n",
    "and Pandas widely used.\n",
    "\n",
    "Now that we have loaded the DataFrame in Python, we need to check if the data has loaded properly.  We already saw how we \n",
    "can check this visually via PyCharm.  Let us try to check this in the Console, by printing the first 5 rows of the DataFrame:\n",
    "\n",
    "```{code-block}\n",
    "df.head(5)\n",
    "```"
   ]
  },
  {
   "cell_type": "code",
   "execution_count": 3,
   "id": "3dc4f8b8",
   "metadata": {
    "tags": [
     "output_scroll",
     "remove-input"
    ]
   },
   "outputs": [
    {
     "name": "stdout",
     "output_type": "stream",
     "text": [
      "       country  year  population_m  population_f  population_t  \\\n",
      "0  Afghanistan  2000    10689508.0    10090449.0    20779957.0   \n",
      "1  Afghanistan  2001    11117754.0    10489238.0    21606992.0   \n",
      "2  Afghanistan  2002    11642106.0    10958668.0    22600774.0   \n",
      "3  Afghanistan  2003    12214634.0    11466237.0    23680871.0   \n",
      "4  Afghanistan  2004    12763726.0    11962963.0    24726689.0   \n",
      "\n",
      "   population_density  land_area  life_expectancy_f  life_expectancy_m  \\\n",
      "0           31.859861   652230.0             57.120             54.663   \n",
      "1           33.127872   652230.0             57.596             55.119   \n",
      "2           34.651540   652230.0             58.080             55.583   \n",
      "3           36.307546   652230.0             58.578             56.056   \n",
      "4           37.910996   652230.0             59.093             56.542   \n",
      "\n",
      "   life_expectancy_t  co2_emissions_pc  \n",
      "0             55.841          0.036574  \n",
      "1             56.308          0.033785  \n",
      "2             56.784          0.045574  \n",
      "3             57.271          0.051518  \n",
      "4             57.772          0.041655  \n"
     ]
    }
   ],
   "source": [
    "print(df.head(5))"
   ]
  },
  {
   "cell_type": "markdown",
   "id": "762dbea4",
   "metadata": {},
   "source": [
    "You can also get summary statistics for each column of the `df` DataFrame:\n",
    "\n",
    "[//]: # (&#40;df.style.set_table_attributes&#40;'style=\"font-size: 10px\"'&#41;&#41;)\n",
    "\n",
    "```{code-block}\n",
    "df.describe()\n",
    "```"
   ]
  },
  {
   "cell_type": "code",
   "execution_count": 4,
   "id": "ec12ee65",
   "metadata": {
    "tags": [
     "output_scroll",
     "remove-input"
    ]
   },
   "outputs": [
    {
     "name": "stdout",
     "output_type": "stream",
     "text": [
      "              year  population_m  population_f  population_t  \\\n",
      "count  3038.000000  2.708000e+03  2.708000e+03  3.030000e+03   \n",
      "mean   2010.500000  1.810384e+07  1.781787e+07  3.211690e+07   \n",
      "std       7.229606  6.969846e+07  6.568821e+07  1.284477e+08   \n",
      "min    2000.000000  3.571000e+04  4.029700e+04  9.392000e+03   \n",
      "25%    2003.000000  9.764312e+05  9.934100e+05  6.599435e+05   \n",
      "50%    2013.500000  3.641720e+06  3.747408e+06  5.644552e+06   \n",
      "75%    2017.000000  1.234708e+07  1.228930e+07  1.980094e+07   \n",
      "max    2020.000000  7.237710e+08  6.873290e+08  1.411100e+09   \n",
      "\n",
      "       population_density     land_area  life_expectancy_f  life_expectancy_m  \\\n",
      "count         2968.000000  2.998000e+03        2800.000000        2800.000000   \n",
      "mean           410.489783  6.063802e+05          72.870253          67.979873   \n",
      "std           1894.724659  1.755858e+06           9.485278           8.831021   \n",
      "min              0.136492  2.027000e+00          40.005000          38.861000   \n",
      "25%             32.530300  1.014750e+04          67.318000          62.900000   \n",
      "50%             83.018459  9.428000e+04          75.450000          69.591000   \n",
      "75%            207.487240  4.512200e+05          79.900000          74.555250   \n",
      "max          21388.600000  1.638139e+07          88.100000          82.900000   \n",
      "\n",
      "       life_expectancy_t  co2_emissions_pc  \n",
      "count        2800.000000       2481.000000  \n",
      "mean           70.379877          4.294507  \n",
      "std             9.085448          5.431735  \n",
      "min            39.441000          0.020367  \n",
      "25%            65.076000          0.651679  \n",
      "50%            72.409000          2.463436  \n",
      "75%            77.124707          6.080600  \n",
      "max            85.387805         50.954034  \n"
     ]
    }
   ],
   "source": [
    "print(df.describe())"
   ]
  },
  {
   "cell_type": "markdown",
   "id": "1ad498cb",
   "metadata": {},
   "source": [
    "And also the `dtype` of each column together with the number of non-null values for each column.\n",
    "\n",
    "```{code-block}\n",
    "df.info()\n",
    "```"
   ]
  },
  {
   "cell_type": "code",
   "execution_count": 5,
   "id": "72615637",
   "metadata": {
    "tags": [
     "output_scroll",
     "remove-input"
    ]
   },
   "outputs": [
    {
     "name": "stdout",
     "output_type": "stream",
     "text": [
      "<class 'pandas.core.frame.DataFrame'>\n",
      "RangeIndex: 3038 entries, 0 to 3037\n",
      "Data columns (total 11 columns):\n",
      " #   Column              Non-Null Count  Dtype  \n",
      "---  ------              --------------  -----  \n",
      " 0   country             3038 non-null   object \n",
      " 1   year                3038 non-null   int64  \n",
      " 2   population_m        2708 non-null   float64\n",
      " 3   population_f        2708 non-null   float64\n",
      " 4   population_t        3030 non-null   float64\n",
      " 5   population_density  2968 non-null   float64\n",
      " 6   land_area           2998 non-null   float64\n",
      " 7   life_expectancy_f   2800 non-null   float64\n",
      " 8   life_expectancy_m   2800 non-null   float64\n",
      " 9   life_expectancy_t   2800 non-null   float64\n",
      " 10  co2_emissions_pc    2481 non-null   float64\n",
      "dtypes: float64(9), int64(1), object(1)\n",
      "memory usage: 261.2+ KB\n",
      "None\n"
     ]
    }
   ],
   "source": [
    "print(df.info())"
   ]
  },
  {
   "cell_type": "markdown",
   "id": "08fc1405",
   "metadata": {},
   "source": [
    "## The Series\n",
    "\n",
    "Each column in a DataFrame is a Series. \n",
    "\n",
    "\n",
    "[//]: # (```{exercise-start} Exploring DataFrames)\n",
    "\n",
    "[//]: # (```)\n",
    "\n",
    "[//]: # (In this practical we will be using the dataset from the World Bank Data Catalog.  Follow the instructions above to load the )\n",
    "\n",
    "[//]: # (dataset into Python.)\n",
    "\n",
    "[//]: # (1. What type is `df`?)\n",
    "\n",
    "[//]: # (2. How many columns and how many rows does the `df` have?)\n",
    "\n",
    "[//]: # (3. What are the data types of each column?)\n",
    "\n",
    "[//]: # (```{exercise-end})\n",
    "\n",
    "[//]: # (```)\n",
    "\n",
    "\n",
    "\n",
    "## Slicing Data Frames\n",
    "\n",
    "\n",
    "# extract columns - label-based indexing\n",
    "Selecting a column from the DataFrame object:\n",
    "df[\"column_name\"] > Series\n",
    "type(df[\"life_expactancy_T\"])\n",
    "#get length of Series\n",
    "life_expectancy.size\n",
    "size is an attribute not a function - no parentheses\n",
    "\n",
    "get mutiple columns - takes as an input a standard Python list\n",
    "df[[\"column1\", \"column2\",]]  returns a dataframe\n",
    "\n",
    "# extract rows - boolean indexing\n",
    "df[conditional expression]\n",
    "le_top = df[df[\"life_expectancy_T\"] > 80]\n",
    "\n",
    "# extracting rows and columns - loc/iloc operators\n",
    "df[R, C]\n",
    "\n",
    "loc is mainly used with label-based indexing and boolean indexing\n",
    "\n",
    "\n",
    "\n",
    "# integer-based indexing\n",
    "iloc is mainly used with  index positions\n",
    "If you want to use index positions of data, then  use iloc\n",
    "get the first 10 rows and the first 5 columns\n",
    "le_top.iloc[0:10, 0:5]\n",
    "\n",
    "# Modifying the DataFrame\n",
    "## create a new column\n",
    "\n",
    "## changing values of existing data\n",
    "using the loc/iloc operators\n",
    "le_top.iloc[0:10, 0] = \"ABC\"\n",
    "df.loc[df[\"life_expectancy_t\"] > 84, \"country\"] =\"XYZ\"\n",
    "\n",
    "exercise:\n",
    "1. modify a value\n",
    "2. check if the original dataset was modified as well. - it should not\n",
    "\n",
    "\n",
    "## Handling missing data\n",
    "\n",
    "\n",
    "\n",
    "## joining data frames\n",
    "\n",
    "## pivot\n",
    "\n",
    "# sort data in a dataframe\n",
    "\n",
    "# group by - split apply combine\n",
    "\n",
    "## writing data to files\n",
    "\n",
    "## matplotlib\n",
    "\n",
    "## numpy\n",
    "\n",
    "\n",
    "\n",
    "\n",
    "[^world-bank]: The World Bank: World Development Indicators Collection.  Terms of Use [here](https://www.worldbank.org/en/about/legal/terms-of-use-for-datasets).  This dataset can also be viewed interactively on the World Data Bank website [here](https://databank.worldbank.org/Teaching-Python-dataset/id/48401a76).\n",
    "[^ McKinney]: McKinney, Wes (2017). *Python for Data Analysis, Second Edition*.  O'Reilly Media. ISBN 9781491957660."
   ]
  }
 ],
 "metadata": {
  "jupytext": {
   "formats": "md:myst",
   "text_representation": {
    "extension": ".md",
    "format_name": "myst"
   }
  },
  "kernelspec": {
   "display_name": "Python 3",
   "language": "python",
   "name": "python3"
  },
  "language_info": {
   "codemirror_mode": {
    "name": "ipython",
    "version": 3
   },
   "file_extension": ".py",
   "mimetype": "text/x-python",
   "name": "python",
   "nbconvert_exporter": "python",
   "pygments_lexer": "ipython3",
   "version": "3.10.4"
  },
  "source_map": [
   11,
   29,
   31,
   75,
   77,
   111,
   115,
   124,
   128,
   135,
   139
  ]
 },
 "nbformat": 4,
 "nbformat_minor": 5
}