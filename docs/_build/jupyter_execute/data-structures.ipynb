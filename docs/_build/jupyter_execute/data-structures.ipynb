{
 "cells": [
  {
   "cell_type": "markdown",
   "id": "5b29f4da",
   "metadata": {},
   "source": [
    "# Data Structures\n",
    "So far we have dealt with single data items.  But what if we have a large number of data items? Storing each item in a \n",
    "separate variable is not efficient and time-consuming.  This is when we use data structures.\n",
    "\n",
    ":::{card} Data Structures\n",
    ":class-card: sd-bg-light\n",
    "\n",
    "{bdg-info}`Programming concept`\n",
    "\n",
    "Data structures are structures in memory that store and organise data. Essentially it is a collection of data items.\n",
    ":::\n",
    " \n",
    "The benefits of having multiple data items in a collection makes it easier to perform operations that need to be applied \n",
    "on each item in the collection.  Data Structures are also very useful when reading data from files.  This section introduces\n",
    "different data structures commonly used in Python.  \n",
    "\n",
    "##  Tuples\n",
    "Tuples are one of the built-in data structures in Python.  Tuples can contain data items of different data types, but as \n",
    "a good practice we normally create lists of the same data tyoe.  Tuples are created as a comma-separated list of data items enclosed \n",
    "in parentheses.  Let us create our first tuple:"
   ]
  },
  {
   "cell_type": "code",
   "execution_count": 1,
   "id": "d7a62df9",
   "metadata": {},
   "outputs": [],
   "source": [
    "t = (55, 92, 110, 66, 75, 45, 40, 57, 55, 62)"
   ]
  },
  {
   "cell_type": "markdown",
   "id": "fbef1bd9",
   "metadata": {},
   "source": [
    "The code above creates a variable `t` which references a tuple in memory that is 10 items long.  Assigning data items to\n",
    "a tuple is also known as **tuple packing**.  \n",
    "\n",
    "### Tuple index positions and slicing\n",
    "\n",
    "Each data item has a specified position known as **index position**.  Index positions in Python start from **0**. {numref}`tuple` below shows an\n",
    "example of the sequence of data items in tuple `t` together with their index positions.\n",
    "\n",
    "```{figure} images/tuple.png\n",
    "---\n",
    "name: tuple\n",
    "---\n",
    "Representation of tuple `t` in memory and the index positions of its items.\n",
    "```\n",
    "\n",
    "A tuple is a **Sequence type** in Python, and therefore, it can be sliced using the item access operator `[]`.  **Slicing** \n",
    "means extracting items from a sequence.  Assuming `seq` is a sequence, in this case of data items, to extract one item from a tuple, specify the index position of that item in  `[]` \n",
    "as $seq[index position]$ as in the example below.\n",
    "\n",
    "(code-tuple-indexing)="
   ]
  },
  {
   "cell_type": "code",
   "execution_count": 2,
   "id": "5ba2d359",
   "metadata": {},
   "outputs": [
    {
     "name": "stdout",
     "output_type": "stream",
     "text": [
      "Item at t[2] is 110\n",
      "Item at t[-2] is 55\n"
     ]
    }
   ],
   "source": [
    "#Extract item at index position 2\n",
    "print(\"Item at t[2] is\", t[2])\n",
    "\n",
    "\n",
    "#Extract item at index position -2\n",
    "print(\"Item at t[-2] is\", t[-2])"
   ]
  },
  {
   "cell_type": "markdown",
   "id": "27067873",
   "metadata": {},
   "source": [
    "To extract more than one item from a sequence you can either:\n",
    "* $seq[start:end]$ to extract items from a sequence from a *start* position up to an *end* position (excluding it).\n",
    "* $seq[start:end:step]$ to extract every *step<sup>th</sup>* item from the sequence starting from the *start* \n",
    "position to the *end* position (excluding it).\n",
    "Below are two examples, A and B, that show these two ways of slicing a tuple.\n",
    "\n",
    "```{figure} images/tuple-slicing.png\n",
    "---\n",
    "name: tuple-slicing\n",
    "---\n",
    "Tuple slicing.\n",
    "```\n",
    "\n",
    "(code-reference-tuple-slicing)=\n",
    "Below are code examples of other operations you can do with tuples:"
   ]
  },
  {
   "cell_type": "code",
   "execution_count": 3,
   "id": "f9c55811",
   "metadata": {},
   "outputs": [
    {
     "name": "stdout",
     "output_type": "stream",
     "text": [
      "t[:2] is (55, 92)\n",
      "t[5:] is (45, 40, 57, 55, 62)\n",
      "\n",
      "Print all items in tuple t (55, 92, 110, 66, 75, 45, 40, 57, 55, 62)\n",
      "\n",
      "Concatenate t to (70,) results in (55, 92, 110, 66, 75, 45, 40, 57, 55, 62, 70)\n",
      "\n",
      "Replicating tuple t by 2: (55, 92, 110, 66, 75, 45, 40, 57, 55, 62, 55, 92, 110, 66, 75, 45, 40, 57, 55, 62)\n",
      "\n",
      "Tuple unpacking:\n",
      "Name is Alexia\n",
      "Subject is MCB\n",
      "Year is 1B\n"
     ]
    }
   ],
   "source": [
    "#Extract items from the beginning of the tuple to index position 2 (excluded).\n",
    "print(\"t[:2] is\", t[:2])\n",
    "\n",
    "#Extract items from index position 5 to the end of the tuple.\n",
    "print(\"t[5:] is\", t[5:])\n",
    "\n",
    "#print all items in a tuple\n",
    "print(\"\\nPrint all items in tuple t\", t)\n",
    "\n",
    "# Tuple concatenation: add tuples together\n",
    "t2 = t + (70,)   #you have to specify the one item as a tuple as well\n",
    "print(\"\\nConcatenate t to (70,) results in\", t2) \n",
    "\n",
    "# Tuple replication:  replicate contents of a tuple by a specified number of times\n",
    "t3 = t * 2\n",
    "print(\"\\nReplicating tuple t by 2:\", t3)\n",
    "\n",
    "# Tuple unpacking - place data items of tuple in separate variables\n",
    "print(\"\\nTuple unpacking:\")\n",
    "t4 = (\"Alexia\", \"MCB\", \"1B\")\n",
    "(name, subject, year) = t4\n",
    "print(\"Name is\", name)\n",
    "print(\"Subject is\", subject)\n",
    "print(\"Year is\", year)"
   ]
  },
  {
   "cell_type": "markdown",
   "id": "8b358617",
   "metadata": {},
   "source": [
    "### Tuples are immutable\n",
    "As mentioned previously, tuples are immutable, meaning that they cannot be changed. Below is an example showing what will happen \n",
    "if we try to change the contents of a tuple."
   ]
  },
  {
   "cell_type": "code",
   "execution_count": 4,
   "id": "891cd0db",
   "metadata": {
    "tags": [
     "raises-exception"
    ]
   },
   "outputs": [
    {
     "ename": "TypeError",
     "evalue": "'tuple' object does not support item assignment",
     "output_type": "error",
     "traceback": [
      "\u001b[0;31m---------------------------------------------------------------------------\u001b[0m",
      "\u001b[0;31mTypeError\u001b[0m                                 Traceback (most recent call last)",
      "Cell \u001b[0;32mIn [4], line 2\u001b[0m\n\u001b[1;32m      1\u001b[0m \u001b[38;5;66;03m# change the data item at index position 2 of tuple t\u001b[39;00m\n\u001b[0;32m----> 2\u001b[0m t[\u001b[38;5;241m2\u001b[39m] \u001b[38;5;241m=\u001b[39m \u001b[38;5;241m80\u001b[39m\n",
      "\u001b[0;31mTypeError\u001b[0m: 'tuple' object does not support item assignment"
     ]
    }
   ],
   "source": [
    "# change the data item at index position 2 of tuple t\n",
    "t[2] = 80"
   ]
  },
  {
   "cell_type": "markdown",
   "id": "51d81821",
   "metadata": {},
   "source": [
    "As you can see an error is thrown back saying explicitly that the `'tuple' object does not support item assignment`. Since they\n",
    "cannot be modified, tuples are useful when you have a fixed sequence of data items that you know are not going to be changed, \n",
    "*e.g.,* days of the week, months of the year. Another benefit of tuples is that they are \n",
    "faster than [lists](#lists).  However, this depends on the size of your data and the difference is normally not significant.\n",
    "\n",
    "If you want to be able to modify the sequence of data items, then [use a `list` instead](#lists).  You can convert\n",
    "a tuple to a list by the `list()` function *e.g.,* `l = list(t)` will create a variable `l` of type `list` that contains the \n",
    "same data items as `t`.  \n",
    "\n",
    "\n",
    "### Membership operators\n",
    "Membership operator are used to test for membership in Sequence types.  For tuples, the `in` **membership operator** \n",
    "returns `True` if a data item in tuple `t` is equal to `x`, otherwise it returns `False`. The `not in` **non-membership operator** \n",
    "does the opposite, it returns `True` if a data item in tuple `t` is not equal to `x`, otherwise it returns `False`.  The code\n",
    "below shows an example of using membership operators in tuples.\n",
    "\n",
    "(code-reference-tuple-membership)="
   ]
  },
  {
   "cell_type": "code",
   "execution_count": 5,
   "id": "c610ef3a",
   "metadata": {
    "tags": [
     "remove-output"
    ]
   },
   "outputs": [
    {
     "data": {
      "text/plain": [
       "True"
      ]
     },
     "execution_count": 5,
     "metadata": {},
     "output_type": "execute_result"
    }
   ],
   "source": [
    "#Check if number 2 is one of the items of tuple t\n",
    "2 in t      #returns False\n",
    "\n",
    "#Check if number 55 is one of the items of tuple t\n",
    "55 in t     #returns True\n",
    "\n",
    "#Check that 2 is not one of the items of tuple t\n",
    "2 not in t  #returns True"
   ]
  },
  {
   "cell_type": "markdown",
   "id": "d40e664b",
   "metadata": {},
   "source": [
    "### Other useful functions\n",
    "\n",
    "Below is a list of other useful functions that can be used with tuples.  Note that these functions do not make any changes \n",
    "on the tuples, but rather they perform a calculation or operation on the data items of the tuple and return the result.\n",
    "\n",
    "```{list-table} Useful functions for operations with tuples\n",
    ":header-rows: 1\n",
    ":name: tuple-utility-functions\n",
    "\n",
    "* - Function\n",
    "  - Description\n",
    "  - Example\n",
    "* - `len(t)`\n",
    "  - returns the number of data items in a tuple `t`.\n",
    "  - `len(t)` returns 10\n",
    "* - `min(t)`\n",
    "  - returns the smallest data item in `t`.\n",
    "  - `min(t)` returns 40\n",
    "* - `max(t)` \n",
    "  - returns the largest data item in `t`.\n",
    "  - `max(t)` returns 110 \n",
    "* - `t.index(x)`\n",
    "  - returns the index of the leftmost index position of data item `x` in tuple `t` or throws an error if `x` is not present.\n",
    "  - `t.index(55)` returns 0\n",
    "* - `t.count(x)`\n",
    "  - returns the number of times `x` is present in `t`.\n",
    "  - `t.count(55)` returns 2\n",
    "``` \n",
    "\n",
    "\n",
    "\n",
    "## Lists\n",
    "Lists hold a one dimensional list of data items.  This is similar to tuples, however they differ from tuples over two main things:\n",
    "1. how they are declared\n",
    "2. they are mutable objects\n",
    "\n",
    "Lists are declared as a comma-separated list of data items enclosed in square brackets, rather than parentheses.  Let us \n",
    "create a list `l` with the same data items as tuple `t` above:\n",
    "\n",
    "(code-reference-list)="
   ]
  },
  {
   "cell_type": "code",
   "execution_count": 6,
   "id": "49ce8496",
   "metadata": {},
   "outputs": [],
   "source": [
    "l = [55, 92, 110, 66, 75, 45, 40, 57, 55, 62]"
   ]
  },
  {
   "cell_type": "markdown",
   "id": "ea0c67d1",
   "metadata": {},
   "source": [
    "Lists are also a Sequence type in Python and therefore support slicing, membership operators, concatenation, replication \n",
    "and the other utility functions we mentioned in the [Tuples](#tuples) section.\n",
    "\n",
    "```{exercise} Exploring lists\n",
    ":label: exploring-lists\n",
    "\n",
    "**Level:** {octicon}`star-fill;1em;sd-text-warning` {octicon}`star;1em;sd-text-warning` {octicon}`star;1em;sd-text-warning`\n",
    "\n",
    "Explore lists by trying the code we used in the [Tuples](#tuples) section as follows:\n",
    "1. Create a list using the [code above](code-reference-list).\n",
    "2. Explore list index positions by adapting [this code](code-tuple-indexing).\n",
    "3. Explore list slicing by adapting the code in {numref}`tuple-slicing` and [this code](code-reference-tuple-slicing).\n",
    "4. Test for membership of data items in lists using the membership operators as in [this example](code-reference-tuple-membership).\n",
    "5. Try other useful functions on lists as specified in {numref}`tuple-utility-functions`.\n",
    "```\n",
    "\n",
    "### Lists are mutable\n",
    "Unlike tuples, lists are mutable, this means that we can modify lists.  Example:"
   ]
  },
  {
   "cell_type": "code",
   "execution_count": 7,
   "id": "709c6fea",
   "metadata": {},
   "outputs": [
    {
     "name": "stdout",
     "output_type": "stream",
     "text": [
      "[55, 92, 110, 66, 75, 45, 40, 57, 55, 62]\n",
      "l is referencing object 140483583792320 in memory\n",
      "\n",
      "After l[2] = 80, l is: [55, 92, 80, 66, 75, 45, 40, 57, 55, 62]\n",
      "l is referencing object 140483583792320 in memory\n"
     ]
    }
   ],
   "source": [
    "#print contents of l and get id of l\n",
    "print(l)\n",
    "print(\"l is referencing object\", id(l), \"in memory\")\n",
    "\n",
    "# change the data item at index position 2 of list l\n",
    "l[2] = 80\n",
    "print(\"\\nAfter l[2] = 80, l is:\", l)\n",
    "print(\"l is referencing object\", id(l), \"in memory\")"
   ]
  },
  {
   "cell_type": "markdown",
   "id": "a2c6cc23",
   "metadata": {},
   "source": [
    "When we tried to apply a [similar operation in tuples](#tuples-are-immutable), Python threw an exception, because tuples are immutable.  Since \n",
    "lists are mutable, the code above changes the data item in index position 2 successfully in `l`.  \n",
    "\n",
    "\n",
    "### List utility methods\n",
    "\n",
    "In addition to the sequence methods in {numref}`tuple-utility-functions`, we can use other methods with lists.  \n",
    "This is mainly because lists can be modified.\n",
    "\n",
    "```{list-table} List utility methods\n",
    ":header-rows: 1\n",
    ":name: list-utility-methods\n",
    "\n",
    "* - Function\n",
    "  - Description\n",
    "  - Example\n",
    "* - `l.append(x)`\n",
    "  - appends data item `x` at the end of list `l`.\n",
    "  - `l.append(100)`\n",
    "* - `l.insert(i, x)`\n",
    "  - insert data item `x` in list `l` at index position `i`.\n",
    "  - `l.insert(1,44)`\n",
    "* - `l.remove(x)`\n",
    "  - removes the leftmost occurance of the data item that is equal to `x` or throws an error if `x` is not present in list `l`.\n",
    "  - `l.remove(55)`\n",
    "* - `l.reverse()`\n",
    "  - reverses the data items in `l`\n",
    "  - \n",
    "* - `l.sort()`\n",
    "  - sorts the data items of list `l` in ascending order.\n",
    "  - \n",
    "* - `del l[start:end]`\n",
    "  - The `del` statement removes the data items from start position to end position (excluded) in list `l`.\n",
    "  - `del l[7:9]`\n",
    "```\n",
    "\n",
    "```{admonition} Methods vs Functions\n",
    ":class: tip\n",
    "\n",
    "We have already seen how to call functions.  Functions are called only by their names, eg. `print()`. Methods are similar \n",
    "to functions but they are  defined inside classes or objects, and so they are dependent on them. We will not be going \n",
    "into the details of object-oriented programming in this course, but we have already encountered some methods in tuples and \n",
    "lists that use methods *e.g.,* `l.append(`x`)`.  Here `l` is an object reference of the `list` class and `append()` is a method \n",
    "inside the `list` class.  The dot `.` after `l` is used to access the method associated with the `list` object. In this example, \n",
    "a pop-up menu will be shown in PyCharm with the list of all methods associated with `list`. \n",
    "\n",
    "```\n",
    "\n",
    "```{exercise} \n",
    ":label: lists-utility\n",
    "\n",
    "**Level:** {octicon}`star-fill;1em;sd-text-warning` {octicon}`star;1em;sd-text-warning` {octicon}`star;1em;sd-text-warning`\n",
    "  \n",
    "Try the examples in {numref}`list-utility-methods`. Check the output of list `l` after running every example.\n",
    "```"
   ]
  }
 ],
 "metadata": {
  "jupytext": {
   "formats": "md:myst",
   "text_representation": {
    "extension": ".md",
    "format_name": "myst"
   }
  },
  "kernelspec": {
   "display_name": "Python 3",
   "language": "python",
   "name": "python3"
  },
  "language_info": {
   "codemirror_mode": {
    "name": "ipython",
    "version": 3
   },
   "file_extension": ".py",
   "mimetype": "text/x-python",
   "name": "python",
   "nbconvert_exporter": "python",
   "pygments_lexer": "ipython3",
   "version": "3.10.4"
  },
  "source_map": [
   11,
   34,
   36,
   57,
   64,
   81,
   106,
   112,
   116,
   135,
   145,
   187,
   189,
   210,
   219
  ]
 },
 "nbformat": 4,
 "nbformat_minor": 5
}