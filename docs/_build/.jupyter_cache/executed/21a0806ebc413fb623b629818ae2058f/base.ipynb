{
 "cells": [
  {
   "cell_type": "code",
   "execution_count": 1,
   "id": "9659969a",
   "metadata": {},
   "outputs": [
    {
     "name": "stdout",
     "output_type": "stream",
     "text": [
      "0 keep\n",
      "1 calm\n",
      "2 and\n",
      "3 carry\n",
      "4 on\n"
     ]
    }
   ],
   "source": [
    "l = [\"keep\", \"calm\", \"and\", \"carry\", \"on\"]\n",
    "\n",
    "for i in range(len(l)):\n",
    "    print(i, l[i])"
   ]
  },
  {
   "cell_type": "code",
   "execution_count": 2,
   "id": "1593b56f",
   "metadata": {},
   "outputs": [
    {
     "name": "stdout",
     "output_type": "stream",
     "text": [
      "The program has identified 5 even numbers [0, 2, 4, 6, 8]\n",
      "The program has identified 5 odd numbers [1, 3, 5, 7, 9]\n"
     ]
    }
   ],
   "source": [
    "#initialise empty lists\n",
    "even, odd = [], []\n",
    "\n",
    "for i in range(10):          \n",
    "    if i % 2 == 0:           \n",
    "        even.append(i)       \n",
    "        continue             \n",
    "    odd.append(i)            \n",
    "\n",
    "print(f\"The program has identified {len(even)} even numbers {even}\")\n",
    "print(f\"The program has identified {len(odd)} odd numbers {odd}\")"
   ]
  },
  {
   "cell_type": "code",
   "execution_count": 3,
   "id": "b3fc2f73",
   "metadata": {},
   "outputs": [
    {
     "name": "stdout",
     "output_type": "stream",
     "text": [
      "* \n",
      "* * \n",
      "* * * \n",
      "* * * * \n",
      "* * * * * \n"
     ]
    }
   ],
   "source": [
    "# this is the outer loop that takes care of rows\n",
    "for i in range(5):\n",
    "    # this is inner loop that handles the number of asterisks to print\n",
    "    for j in range(i+1):\n",
    "        print(\"* \", end=\"\")  #end=\"\" argument makes sure that no newline is printed which is the default - check documetation\n",
    "    # this is so that a newline is printed after the * are printed in each row\n",
    "    # Note: it is not in the inner loop, but it is executed in the outer loop\n",
    "    print()"
   ]
  },
  {
   "cell_type": "code",
   "execution_count": 4,
   "id": "2bb8bf77",
   "metadata": {},
   "outputs": [
    {
     "name": "stdout",
     "output_type": "stream",
     "text": [
      "    * \n",
      "   * * \n",
      "  * * * \n",
      " * * * * \n",
      "* * * * * \n"
     ]
    }
   ],
   "source": [
    "rows = 5\n",
    "spaces = rows - 1\n",
    "\n",
    "# outer loop to process rows\n",
    "for i in range(0, rows):\n",
    "    # inner loop to print asteriks\n",
    "    for j in range(0, spaces):\n",
    "        print(end=\" \") \n",
    "\n",
    "    # inner loop to handle number of columns\n",
    "    for j in range(0, i + 1):\n",
    "        # printing stars\n",
    "        print(\"* \", end=\"\")\n",
    "    \n",
    "    spaces = spaces - 1\n",
    "    print()"
   ]
  }
 ],
 "metadata": {
  "jupytext": {
   "formats": "md:myst",
   "text_representation": {
    "extension": ".md",
    "format_name": "myst"
   }
  },
  "kernelspec": {
   "display_name": "Python 3",
   "language": "python",
   "name": "python3"
  },
  "language_info": {
   "codemirror_mode": {
    "name": "ipython",
    "version": 3
   },
   "file_extension": ".py",
   "mimetype": "text/x-python",
   "name": "python",
   "nbconvert_exporter": "python",
   "pygments_lexer": "ipython3",
   "version": "3.10.4"
  },
  "source_map": [
   11,
   29,
   34,
   41,
   53,
   97,
   106,
   114,
   131
  ]
 },
 "nbformat": 4,
 "nbformat_minor": 5
}