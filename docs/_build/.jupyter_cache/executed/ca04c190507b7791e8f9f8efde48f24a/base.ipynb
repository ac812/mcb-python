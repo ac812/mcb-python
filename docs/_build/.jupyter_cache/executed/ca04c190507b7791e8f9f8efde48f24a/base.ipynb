{
 "cells": [
  {
   "cell_type": "code",
   "execution_count": 1,
   "id": "f1775c55",
   "metadata": {},
   "outputs": [
    {
     "data": {
      "text/plain": [
       "True"
      ]
     },
     "execution_count": 1,
     "metadata": {},
     "output_type": "execute_result"
    }
   ],
   "source": [
    "#set variable mark to 71\n",
    "mark = 71\n",
    "\n",
    "#check if mark falls between the range of 0 and 100\n",
    "mark > 0 and mark <= 100"
   ]
  },
  {
   "cell_type": "code",
   "execution_count": 2,
   "id": "dc23a1de",
   "metadata": {},
   "outputs": [
    {
     "data": {
      "text/plain": [
       "True"
      ]
     },
     "execution_count": 2,
     "metadata": {},
     "output_type": "execute_result"
    }
   ],
   "source": [
    "exam_mark = 69\n",
    "project_mark = 85\n",
    "\n",
    "#check if student either got an exam mark that is more than 70 or project mark that is more than 70\n",
    "exam_mark > 70 or project_mark > 70"
   ]
  }
 ],
 "metadata": {
  "jupytext": {
   "formats": "md:myst",
   "text_representation": {
    "extension": ".md",
    "format_name": "myst"
   }
  },
  "kernelspec": {
   "display_name": "Python 3",
   "language": "python",
   "name": "python3"
  },
  "language_info": {
   "codemirror_mode": {
    "name": "ipython",
    "version": 3
   },
   "file_extension": ".py",
   "mimetype": "text/x-python",
   "name": "python",
   "nbconvert_exporter": "python",
   "pygments_lexer": "ipython3",
   "version": "3.10.4"
  },
  "source_map": [
   11,
   62,
   68,
   84,
   90
  ]
 },
 "nbformat": 4,
 "nbformat_minor": 5
}