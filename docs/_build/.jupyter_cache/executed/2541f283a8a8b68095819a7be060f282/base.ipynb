{
 "cells": [
  {
   "cell_type": "code",
   "execution_count": 1,
   "id": "ad28590c",
   "metadata": {},
   "outputs": [],
   "source": [
    "t = (55, 92, 110, 66, 75, 45, 40, 57, 55, 62)"
   ]
  },
  {
   "cell_type": "code",
   "execution_count": 2,
   "id": "8aca102a",
   "metadata": {},
   "outputs": [
    {
     "name": "stdout",
     "output_type": "stream",
     "text": [
      "Item at t[2] is 110\n",
      "Item at t[-2] is 55\n"
     ]
    }
   ],
   "source": [
    "#Extract item at index position 2\n",
    "print(\"Item at t[2] is\", t[2])\n",
    "\n",
    "\n",
    "#Extract item at index position -2\n",
    "print(\"Item at t[-2] is\", t[-2])"
   ]
  },
  {
   "cell_type": "code",
   "execution_count": 3,
   "id": "1f108df6",
   "metadata": {},
   "outputs": [
    {
     "name": "stdout",
     "output_type": "stream",
     "text": [
      "t[:2] is (55, 92)\n",
      "t[5:] is (45, 40, 57, 55, 62)\n",
      "\n",
      "Print all items in tuple t (55, 92, 110, 66, 75, 45, 40, 57, 55, 62)\n",
      "\n",
      "Concatenate t to (70,) results in (55, 92, 110, 66, 75, 45, 40, 57, 55, 62, 70)\n",
      "\n",
      "Replicating tuple t by 2: (55, 92, 110, 66, 75, 45, 40, 57, 55, 62, 55, 92, 110, 66, 75, 45, 40, 57, 55, 62)\n",
      "\n",
      "Tuple unpacking:\n",
      "Name is Alexia\n",
      "Subject is MCB\n",
      "Year is 1B\n"
     ]
    }
   ],
   "source": [
    "#Extract items from the beginning of the tuple to index position 2 (excluded).\n",
    "print(\"t[:2] is\", t[:2])\n",
    "\n",
    "#Extract items from index position 5 to the end of the tuple.\n",
    "print(\"t[5:] is\", t[5:])\n",
    "\n",
    "#print all items in a tuple\n",
    "print(\"\\nPrint all items in tuple t\", t)\n",
    "\n",
    "# Tuple concatenation: add tuples together\n",
    "t2 = t + (70,)   #you have to specify the one item as a tuple as well\n",
    "print(\"\\nConcatenate t to (70,) results in\", t2) \n",
    "\n",
    "# Tuple replication:  replicate contents of a tuple by a specified number of times\n",
    "t3 = t * 2\n",
    "print(\"\\nReplicating tuple t by 2:\", t3)\n",
    "\n",
    "# Tuple unpacking - place data items of tuple in separate variables\n",
    "print(\"\\nTuple unpacking:\")\n",
    "t4 = (\"Alexia\", \"MCB\", \"1B\")\n",
    "(name, subject, year) = t4\n",
    "print(\"Name is\", name)\n",
    "print(\"Subject is\", subject)\n",
    "print(\"Year is\", year)"
   ]
  },
  {
   "cell_type": "code",
   "execution_count": 4,
   "id": "f89fe1d8",
   "metadata": {
    "tags": [
     "raises-exception"
    ]
   },
   "outputs": [
    {
     "ename": "TypeError",
     "evalue": "'tuple' object does not support item assignment",
     "output_type": "error",
     "traceback": [
      "\u001b[0;31m---------------------------------------------------------------------------\u001b[0m",
      "\u001b[0;31mTypeError\u001b[0m                                 Traceback (most recent call last)",
      "Cell \u001b[0;32mIn [4], line 2\u001b[0m\n\u001b[1;32m      1\u001b[0m \u001b[38;5;66;03m# change the data item at index position 2 of tuple t\u001b[39;00m\n\u001b[0;32m----> 2\u001b[0m t[\u001b[38;5;241m2\u001b[39m] \u001b[38;5;241m=\u001b[39m \u001b[38;5;241m80\u001b[39m\n",
      "\u001b[0;31mTypeError\u001b[0m: 'tuple' object does not support item assignment"
     ]
    }
   ],
   "source": [
    "# change the data item at index position 2 of tuple t\n",
    "t[2] = 80"
   ]
  },
  {
   "cell_type": "code",
   "execution_count": 5,
   "id": "df5ee3df",
   "metadata": {
    "tags": [
     "remove-output"
    ]
   },
   "outputs": [
    {
     "data": {
      "text/plain": [
       "True"
      ]
     },
     "execution_count": 5,
     "metadata": {},
     "output_type": "execute_result"
    }
   ],
   "source": [
    "#Check if number 2 is one of the items of tuple t\n",
    "2 in t      #returns False\n",
    "\n",
    "#Check if number 55 is one of the items of tuple t\n",
    "55 in t     #returns True\n",
    "\n",
    "#Check that 2 is not one of the items of tuple t\n",
    "2 not in t  #returns True"
   ]
  },
  {
   "cell_type": "code",
   "execution_count": 6,
   "id": "5fbf4fbf",
   "metadata": {},
   "outputs": [],
   "source": [
    "l = [55, 92, 110, 66, 75, 45, 40, 57, 55, 62]"
   ]
  },
  {
   "cell_type": "code",
   "execution_count": 7,
   "id": "3f43d959",
   "metadata": {},
   "outputs": [
    {
     "name": "stdout",
     "output_type": "stream",
     "text": [
      "[55, 92, 110, 66, 75, 45, 40, 57, 55, 62]\n",
      "l is referencing object 140692429043904 in memory\n",
      "\n",
      "After l[2] = 80, l is: [55, 92, 80, 66, 75, 45, 40, 57, 55, 62]\n",
      "l is referencing object 140692429043904 in memory\n"
     ]
    }
   ],
   "source": [
    "#print contents of l and get id of l\n",
    "print(l)\n",
    "print(\"l is referencing object\", id(l), \"in memory\")\n",
    "\n",
    "# change the data item at index position 2 of list l\n",
    "l[2] = 80\n",
    "print(\"\\nAfter l[2] = 80, l is:\", l)\n",
    "print(\"l is referencing object\", id(l), \"in memory\")"
   ]
  }
 ],
 "metadata": {
  "jupytext": {
   "formats": "md:myst",
   "text_representation": {
    "extension": ".md",
    "format_name": "myst"
   }
  },
  "kernelspec": {
   "display_name": "Python 3",
   "language": "python",
   "name": "python3"
  },
  "language_info": {
   "codemirror_mode": {
    "name": "ipython",
    "version": 3
   },
   "file_extension": ".py",
   "mimetype": "text/x-python",
   "name": "python",
   "nbconvert_exporter": "python",
   "pygments_lexer": "ipython3",
   "version": "3.10.4"
  },
  "source_map": [
   11,
   34,
   36,
   57,
   64,
   81,
   106,
   112,
   116,
   135,
   145,
   187,
   189,
   210,
   219
  ]
 },
 "nbformat": 4,
 "nbformat_minor": 5
}