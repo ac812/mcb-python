{
 "cells": [
  {
   "cell_type": "code",
   "execution_count": 1,
   "id": "bea978cc",
   "metadata": {},
   "outputs": [
    {
     "name": "stdout",
     "output_type": "stream",
     "text": [
      "Value of x is 0.30000000000000004 of type <class 'float'>\n"
     ]
    }
   ],
   "source": [
    "import decimal\n",
    "\n",
    "#use float to add 0.1 three times\n",
    "x = 0.1 + 0.1 + 0.1\n",
    "\n",
    "#check the value and data-type of x\n",
    "print(\"Value of x is\", x, \"of type\", type(x))"
   ]
  },
  {
   "cell_type": "code",
   "execution_count": 2,
   "id": "f8fefc34",
   "metadata": {},
   "outputs": [
    {
     "name": "stdout",
     "output_type": "stream",
     "text": [
      "Value of x is 0.3 of type <class 'decimal.Decimal'>\n"
     ]
    }
   ],
   "source": [
    "import decimal\n",
    "\n",
    "#use Decimal to add 0.1 three times\n",
    "x = decimal.Decimal(\"0.1\") + decimal.Decimal(\"0.1\") + decimal.Decimal(\"0.1\")\n",
    "\n",
    "#check the value and data-type of x\n",
    "print(\"Value of x is\", x, \"of type\", type(x))"
   ]
  },
  {
   "cell_type": "code",
   "execution_count": 3,
   "id": "875c2881",
   "metadata": {},
   "outputs": [
    {
     "name": "stdout",
     "output_type": "stream",
     "text": [
      "<class 'int'>\n",
      "<class 'str'>\n",
      "<class 'float'>\n"
     ]
    }
   ],
   "source": [
    "a, b, c = 22, \"22\", 22.0\n",
    "\n",
    "print(type(a))\n",
    "print(type(b))\n",
    "print(type(c))"
   ]
  },
  {
   "cell_type": "code",
   "execution_count": 4,
   "id": "7c5fdadc",
   "metadata": {},
   "outputs": [
    {
     "name": "stdout",
     "output_type": "stream",
     "text": [
      "here is an example of 'single quotes' and \"double quotes\".\n"
     ]
    }
   ],
   "source": [
    "a = \"here is an example of 'single quotes' and \\\"double quotes\\\".\"\n",
    "print(a)"
   ]
  },
  {
   "cell_type": "code",
   "execution_count": 5,
   "id": "d2be5013",
   "metadata": {},
   "outputs": [
    {
     "name": "stdout",
     "output_type": "stream",
     "text": [
      "C:\\home\\textfile.txt\n"
     ]
    }
   ],
   "source": [
    "print(r\"C:\\home\\textfile.txt\")"
   ]
  },
  {
   "cell_type": "code",
   "execution_count": 6,
   "id": "f3728442",
   "metadata": {},
   "outputs": [
    {
     "name": "stdout",
     "output_type": "stream",
     "text": [
      "My name is Alexia and I live in Cambridge\n"
     ]
    }
   ],
   "source": [
    "name = \"Alexia\"\n",
    "location = \"Cambridge\"\n",
    "print(f\"My name is {name} and I live in {location}\")"
   ]
  },
  {
   "cell_type": "code",
   "execution_count": 7,
   "id": "bfb732a3",
   "metadata": {},
   "outputs": [
    {
     "name": "stdout",
     "output_type": "stream",
     "text": [
      "The temperature is 27.8\n"
     ]
    }
   ],
   "source": [
    "temperature = 27.78823\n",
    "\n",
    "# display temperature to 1 decimal place\n",
    "print(f\"The temperature is {temperature:.1f}\")"
   ]
  },
  {
   "cell_type": "code",
   "execution_count": 8,
   "id": "2d38dad3",
   "metadata": {},
   "outputs": [
    {
     "name": "stdout",
     "output_type": "stream",
     "text": [
      "Step A\n",
      "a is referencing object 140465295098896 in memory\n",
      "\n",
      "Step B\n",
      "a is referencing object 140465295098896 in memory\n",
      "b is referencing object 140465295098896 in memory\n",
      "\n",
      "Step C\n",
      "a is referencing object 140464790130288 in memory\n",
      "b is referencing object 140465295098896 in memory\n",
      "\n",
      "Step D\n",
      "a is referencing object 140464790130288 in memory\n",
      "b is referencing object 140464790130288 in memory\n"
     ]
    }
   ],
   "source": [
    "# Step A\n",
    "print(\"Step A\")\n",
    "a = 26\n",
    "print(\"a is referencing object\", id(a), \"in memory\")\n",
    "\n",
    "# Step B\n",
    "print(\"\\nStep B\")\n",
    "b = a\n",
    "print(\"a is referencing object\", id(a), \"in memory\")\n",
    "print(\"b is referencing object\", id(b), \"in memory\")\n",
    "\n",
    "# Step C\n",
    "print(\"\\nStep C\")\n",
    "a = \"MCB\"\n",
    "print(\"a is referencing object\", id(a), \"in memory\")\n",
    "print(\"b is referencing object\", id(b), \"in memory\")\n",
    "\n",
    "# Step D\n",
    "print(\"\\nStep D\")\n",
    "b = a\n",
    "print(\"a is referencing object\", id(a), \"in memory\")\n",
    "print(\"b is referencing object\", id(b), \"in memory\")"
   ]
  }
 ],
 "metadata": {
  "jupytext": {
   "formats": "md:myst",
   "text_representation": {
    "extension": ".md",
    "format_name": "myst"
   }
  },
  "kernelspec": {
   "display_name": "Python 3",
   "language": "python",
   "name": "python3"
  },
  "language_info": {
   "codemirror_mode": {
    "name": "ipython",
    "version": 3
   },
   "file_extension": ".py",
   "mimetype": "text/x-python",
   "name": "python",
   "nbconvert_exporter": "python",
   "pygments_lexer": "ipython3",
   "version": "3.10.4"
  },
  "source_map": [
   11,
   45,
   53,
   59,
   67,
   92,
   98,
   147,
   150,
   153,
   155,
   163,
   167,
   172,
   177,
   206,
   229
  ]
 },
 "nbformat": 4,
 "nbformat_minor": 5
}