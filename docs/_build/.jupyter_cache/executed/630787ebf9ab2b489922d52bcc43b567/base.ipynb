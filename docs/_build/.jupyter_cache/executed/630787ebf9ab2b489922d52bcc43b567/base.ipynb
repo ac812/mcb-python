{
 "cells": [
  {
   "cell_type": "code",
   "execution_count": 1,
   "id": "2ae20e95",
   "metadata": {},
   "outputs": [
    {
     "name": "stdout",
     "output_type": "stream",
     "text": [
      "Second\n"
     ]
    }
   ],
   "source": [
    "total_mark = 50\n",
    "\n",
    "#check which class total_mark falls in and print it\n",
    "if total_mark > 69:\n",
    "    print(\"First\")\n",
    "elif total_mark > 49:\n",
    "    print(\"Second\")\n",
    "elif total_mark > 39:\n",
    "    print(\"Third\")\n",
    "else:\n",
    "    print(\"Fail\")"
   ]
  },
  {
   "cell_type": "code",
   "execution_count": 2,
   "id": "4305ba88",
   "metadata": {},
   "outputs": [
    {
     "name": "stdout",
     "output_type": "stream",
     "text": [
      "Hello\n"
     ]
    }
   ],
   "source": [
    "language = \"English\"\n",
    "\n",
    "#print hello depending on what language is specified\n",
    "match language:\n",
    "    case \"English\":\n",
    "        print(\"Hello\")\n",
    "    case \"French\":\n",
    "        print(\"Bonjour\")\n",
    "    case \"Italian\":\n",
    "        print(\"Salve\")\n",
    "    case \"Portuguese\":\n",
    "        print(\"Ola\")\n",
    "    case \"Maltese\":\n",
    "        print(\"Bonġu\")\n",
    "    case \"Chinese\":\n",
    "        print(\"Nǐn hǎo\")\n",
    "    case \"Maasai\":\n",
    "        print(\"Sopa\")\n",
    "    case _:\n",
    "        print(\"Language not supported yet\")"
   ]
  },
  {
   "cell_type": "code",
   "execution_count": 3,
   "id": "9a99ff17",
   "metadata": {
    "tags": [
     "raises-exception"
    ]
   },
   "outputs": [
    {
     "ename": "TypeError",
     "evalue": "'>' not supported between instances of 'list' and 'int'",
     "output_type": "error",
     "traceback": [
      "\u001b[0;31m---------------------------------------------------------------------------\u001b[0m",
      "\u001b[0;31mTypeError\u001b[0m                                 Traceback (most recent call last)",
      "Cell \u001b[0;32mIn [3], line 3\u001b[0m\n\u001b[1;32m      1\u001b[0m l \u001b[38;5;241m=\u001b[39m [\u001b[38;5;241m55\u001b[39m, \u001b[38;5;241m92\u001b[39m, \u001b[38;5;241m110\u001b[39m, \u001b[38;5;241m66\u001b[39m, \u001b[38;5;241m75\u001b[39m, \u001b[38;5;241m45\u001b[39m, \u001b[38;5;241m40\u001b[39m, \u001b[38;5;241m57\u001b[39m, \u001b[38;5;241m55\u001b[39m, \u001b[38;5;241m62\u001b[39m]\n\u001b[0;32m----> 3\u001b[0m l \u001b[38;5;241m>\u001b[39m \u001b[38;5;241m20\u001b[39m\n",
      "\u001b[0;31mTypeError\u001b[0m: '>' not supported between instances of 'list' and 'int'"
     ]
    }
   ],
   "source": [
    "l = [55, 92, 110, 66, 75, 45, 40, 57, 55, 62]\n",
    "\n",
    "l > 20"
   ]
  },
  {
   "cell_type": "code",
   "execution_count": 4,
   "id": "f114400d",
   "metadata": {},
   "outputs": [
    {
     "name": "stdout",
     "output_type": "stream",
     "text": [
      "10\n",
      "20\n",
      "30\n"
     ]
    }
   ],
   "source": [
    "x = [10, 20, 30]\n",
    "\n",
    "for i in x:\n",
    "    print(i)\n",
    "    i = i + 5"
   ]
  },
  {
   "cell_type": "code",
   "execution_count": 5,
   "id": "ba643a39",
   "metadata": {},
   "outputs": [
    {
     "name": "stdout",
     "output_type": "stream",
     "text": [
      "Current Letter : s\n",
      "Current Letter : u\n",
      "Current Letter : p\n",
      "Current Letter : e\n",
      "Current Letter : r\n",
      "I am now outside of the for loop\n"
     ]
    }
   ],
   "source": [
    "for letter in \"supercalifragilisticexpialidocious\":  #1\n",
    "   if letter == 'c':                                 #2\n",
    "      break                                          #3\n",
    "   print('Current Letter :', letter)                 #4 \n",
    "                                                     #5\n",
    "print(\"I am now outside of the for loop\")            #6"
   ]
  },
  {
   "cell_type": "code",
   "execution_count": 6,
   "id": "c57532a8",
   "metadata": {},
   "outputs": [
    {
     "name": "stdout",
     "output_type": "stream",
     "text": [
      "Even number: 0\n",
      "Odd number:  1\n",
      "Even number: 2\n",
      "Odd number:  3\n",
      "Even number: 4\n",
      "Odd number:  5\n",
      "Even number: 6\n",
      "Odd number:  7\n",
      "Even number: 8\n",
      "Odd number:  9\n"
     ]
    }
   ],
   "source": [
    "for i in range(10):                #1\n",
    "    if i % 2 == 0:                 #2\n",
    "        print(\"Even number:\", i)   #3\n",
    "        continue                   #4\n",
    "    print(\"Odd number: \", i)       #5"
   ]
  }
 ],
 "metadata": {
  "jupytext": {
   "formats": "md:myst",
   "text_representation": {
    "extension": ".md",
    "format_name": "myst"
   }
  },
  "kernelspec": {
   "display_name": "Python 3",
   "language": "python",
   "name": "python3"
  },
  "language_info": {
   "codemirror_mode": {
    "name": "ipython",
    "version": 3
   },
   "file_extension": ".py",
   "mimetype": "text/x-python",
   "name": "python",
   "nbconvert_exporter": "python",
   "pygments_lexer": "ipython3",
   "version": "3.10.4"
  },
  "source_map": [
   11,
   35,
   47,
   69,
   90,
   106,
   112,
   145,
   151,
   221,
   228,
   242,
   248
  ]
 },
 "nbformat": 4,
 "nbformat_minor": 5
}